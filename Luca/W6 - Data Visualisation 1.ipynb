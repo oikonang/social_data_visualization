{
 "cells": [
  {
   "cell_type": "markdown",
   "metadata": {},
   "source": [
    "## Part 2: IDV Chapter 3\n",
    "\n",
    "[Chapter 3 IDV](http://chimera.labs.oreilly.com/books/1230000000345/ch03.html#_properties_and_values)\n",
    "\n",
    "* Name 7 common HTML elements.\n",
    "> head, title, body, p(paragraph), h1(header1), span, div\n",
    "* What's the difference between the class and the id HTML attributes.\n",
    "> Different elements can be assigned to one/multiple class, for example multiple paragraphs with the same style. Instead, there can only be one element with a specific id on the page, for example $<div\\ id=\"body\"> </div>$.\n",
    "* What does \"DOM\" stand for? Explain in your own word what it refers to.\n",
    "> The Document Object Model refers to the hierarchical structure of HTML. Each pair of bracketed tags is an element and element have relationships, such as parents and children. For instance, the body element is child of the html element.\n",
    "* What Python structure does the array correspond to?\n",
    "> Lists.\n",
    "* Which Python container does object correspond to?\n",
    "> Class.\n",
    "\n",
    "Consider the 5 SVG squares in example 3-22. Think about how you'd\n",
    "* Add a gray boundary of width 2.\n",
    "* Make the squares increasingly transparant from left to right.\n",
    "* Make the squares 80 by 80 instead of 30 by 30.\n",
    "* Make the squares go from bottom of the SVG element to the top instead of the other way around."
   ]
  },
  {
   "cell_type": "code",
   "execution_count": 1,
   "metadata": {
    "collapsed": false
   },
   "outputs": [
    {
     "ename": "SyntaxError",
     "evalue": "invalid syntax (<ipython-input-1-0553d636e38e>, line 1)",
     "output_type": "error",
     "traceback": [
      "\u001b[0;36m  File \u001b[0;32m\"<ipython-input-1-0553d636e38e>\"\u001b[0;36m, line \u001b[0;32m1\u001b[0m\n\u001b[0;31m    <svg width=\"400\" height=\"180\">\u001b[0m\n\u001b[0m    ^\u001b[0m\n\u001b[0;31mSyntaxError\u001b[0m\u001b[0;31m:\u001b[0m invalid syntax\n"
     ]
    }
   ],
   "source": [
    "<svg width=\"180\" height=\"180\">\n",
    "    <rect x=\"0\" y=\"20\" width=\"80\" height=\"80\" stroke=\"gray\" stroke-width=\"2\" opacity=0.2 fill=\"purple\"/> \n",
    "    <rect x=\"20\" y=\"15\" width=\"80\" height=\"80\" stroke=\"gray\" stroke-width=\"2\" opacity=0.4 fill=\"blue\"/>\n",
    "    <rect x=\"40\" y=\"10\" width=\"80\" height=\"80\" stroke=\"gray\" stroke-width=\"2\" opacity=0.6 fill=\"green\"/>\n",
    "    <rect x=\"60\" y=\"5\" width=\"80\" height=\"80\" stroke=\"gray\" stroke-width=\"2\" opacity=0.8 fill=\"yellow\"/>\n",
    "    <rect x=\"80\" y=\"0\" width=\"80\" height=\"80\" stroke=\"gray\" stroke-width=\"2\" opacity=1.0 fill=\"red\"/>\n",
    "</svg>"
   ]
  },
  {
   "cell_type": "markdown",
   "metadata": {},
   "source": [
    "## Part 3: IDV Chapter 4\n",
    "*Fire up a little web server so you can try out D3 locally (you will need this for Chapter 5).\n",
    "> "
   ]
  }
 ],
 "metadata": {
  "kernelspec": {
   "display_name": "Python 2",
   "language": "python",
   "name": "python2"
  },
  "language_info": {
   "codemirror_mode": {
    "name": "ipython",
    "version": 2
   },
   "file_extension": ".py",
   "mimetype": "text/x-python",
   "name": "python",
   "nbconvert_exporter": "python",
   "pygments_lexer": "ipython2",
   "version": "2.7.13"
  }
 },
 "nbformat": 4,
 "nbformat_minor": 2
}
