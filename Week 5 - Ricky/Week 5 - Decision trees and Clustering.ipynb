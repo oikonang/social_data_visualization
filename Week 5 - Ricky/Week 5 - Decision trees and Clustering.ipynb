{
 "cells": [
  {
   "cell_type": "markdown",
   "metadata": {},
   "source": [
    "# Part 1: Decision trees\n",
    "* *There are two main kinds of decision trees depending on the type of output (numeric vs. categorical). What are they?*\n",
    "* *Explain in your own words: Why is entropy useful when deciding where to split the data?*\n",
    "* *Why are trees prone to overfitting?*\n",
    "* *Explain (in your own words) how random forests help prevent overfitting.*"
   ]
  },
  {
   "cell_type": "markdown",
   "metadata": {},
   "source": [
    "***[ANSWERS TO QUESTIONS]***"
   ]
  },
  {
   "cell_type": "markdown",
   "metadata": {},
   "source": [
    "Loading the dataset, before we begin:"
   ]
  },
  {
   "cell_type": "code",
   "execution_count": 123,
   "metadata": {
    "collapsed": false
   },
   "outputs": [],
   "source": [
    "import requests\n",
    "from matplotlib import pyplot as plt\n",
    "import numpy as np\n",
    "import csv\n",
    "import pandas as pd\n",
    "from pandas import DataFrame\n",
    "%matplotlib inline\n",
    "import geoplotlib\n",
    "from geoplotlib.utils import BoundingBox\n",
    "from geoplotlib.colors import ColorMap\n",
    "import sklearn\n",
    "from sklearn.tree import DecisionTreeClassifier,export_graphviz\n",
    "import math\n",
    "from sklearn.preprocessing import LabelEncoder\n",
    "from sklearn.model_selection import train_test_split\n",
    "import random as rn\n",
    "from IPython.display import Image\n",
    "from sklearn.externals.six import StringIO\n",
    "import pydot\n",
    "import operator"
   ]
  },
  {
   "cell_type": "code",
   "execution_count": 2,
   "metadata": {
    "collapsed": false
   },
   "outputs": [
    {
     "data": {
      "text/html": [
       "<div>\n",
       "<table border=\"1\" class=\"dataframe\">\n",
       "  <thead>\n",
       "    <tr style=\"text-align: right;\">\n",
       "      <th></th>\n",
       "      <th>IncidntNum</th>\n",
       "      <th>Category</th>\n",
       "      <th>Descript</th>\n",
       "      <th>DayOfWeek</th>\n",
       "      <th>Date</th>\n",
       "      <th>Time</th>\n",
       "      <th>PdDistrict</th>\n",
       "      <th>Resolution</th>\n",
       "      <th>Address</th>\n",
       "      <th>X</th>\n",
       "      <th>Y</th>\n",
       "      <th>Location</th>\n",
       "      <th>PdId</th>\n",
       "    </tr>\n",
       "  </thead>\n",
       "  <tbody>\n",
       "    <tr>\n",
       "      <th>0</th>\n",
       "      <td>150060275</td>\n",
       "      <td>NON-CRIMINAL</td>\n",
       "      <td>LOST PROPERTY</td>\n",
       "      <td>Monday</td>\n",
       "      <td>01/19/2015</td>\n",
       "      <td>14:00</td>\n",
       "      <td>MISSION</td>\n",
       "      <td>NONE</td>\n",
       "      <td>18TH ST / VALENCIA ST</td>\n",
       "      <td>-122.421582</td>\n",
       "      <td>37.761701</td>\n",
       "      <td>(37.7617007179518, -122.42158168137)</td>\n",
       "      <td>15006027571000</td>\n",
       "    </tr>\n",
       "    <tr>\n",
       "      <th>1</th>\n",
       "      <td>150098210</td>\n",
       "      <td>ROBBERY</td>\n",
       "      <td>ROBBERY, BODILY FORCE</td>\n",
       "      <td>Sunday</td>\n",
       "      <td>02/01/2015</td>\n",
       "      <td>15:45</td>\n",
       "      <td>TENDERLOIN</td>\n",
       "      <td>NONE</td>\n",
       "      <td>300 Block of LEAVENWORTH ST</td>\n",
       "      <td>-122.414406</td>\n",
       "      <td>37.784191</td>\n",
       "      <td>(37.7841907151119, -122.414406029855)</td>\n",
       "      <td>15009821003074</td>\n",
       "    </tr>\n",
       "    <tr>\n",
       "      <th>2</th>\n",
       "      <td>150098210</td>\n",
       "      <td>ASSAULT</td>\n",
       "      <td>AGGRAVATED ASSAULT WITH BODILY FORCE</td>\n",
       "      <td>Sunday</td>\n",
       "      <td>02/01/2015</td>\n",
       "      <td>15:45</td>\n",
       "      <td>TENDERLOIN</td>\n",
       "      <td>NONE</td>\n",
       "      <td>300 Block of LEAVENWORTH ST</td>\n",
       "      <td>-122.414406</td>\n",
       "      <td>37.784191</td>\n",
       "      <td>(37.7841907151119, -122.414406029855)</td>\n",
       "      <td>15009821004014</td>\n",
       "    </tr>\n",
       "    <tr>\n",
       "      <th>3</th>\n",
       "      <td>150098210</td>\n",
       "      <td>SECONDARY CODES</td>\n",
       "      <td>DOMESTIC VIOLENCE</td>\n",
       "      <td>Sunday</td>\n",
       "      <td>02/01/2015</td>\n",
       "      <td>15:45</td>\n",
       "      <td>TENDERLOIN</td>\n",
       "      <td>NONE</td>\n",
       "      <td>300 Block of LEAVENWORTH ST</td>\n",
       "      <td>-122.414406</td>\n",
       "      <td>37.784191</td>\n",
       "      <td>(37.7841907151119, -122.414406029855)</td>\n",
       "      <td>15009821015200</td>\n",
       "    </tr>\n",
       "    <tr>\n",
       "      <th>4</th>\n",
       "      <td>150098226</td>\n",
       "      <td>VANDALISM</td>\n",
       "      <td>MALICIOUS MISCHIEF, VANDALISM OF VEHICLES</td>\n",
       "      <td>Tuesday</td>\n",
       "      <td>01/27/2015</td>\n",
       "      <td>19:00</td>\n",
       "      <td>NORTHERN</td>\n",
       "      <td>NONE</td>\n",
       "      <td>LOMBARD ST / LAGUNA ST</td>\n",
       "      <td>-122.431119</td>\n",
       "      <td>37.800469</td>\n",
       "      <td>(37.8004687042875, -122.431118543788)</td>\n",
       "      <td>15009822628160</td>\n",
       "    </tr>\n",
       "  </tbody>\n",
       "</table>\n",
       "</div>"
      ],
      "text/plain": [
       "   IncidntNum         Category                                   Descript  \\\n",
       "0   150060275     NON-CRIMINAL                              LOST PROPERTY   \n",
       "1   150098210          ROBBERY                      ROBBERY, BODILY FORCE   \n",
       "2   150098210          ASSAULT       AGGRAVATED ASSAULT WITH BODILY FORCE   \n",
       "3   150098210  SECONDARY CODES                          DOMESTIC VIOLENCE   \n",
       "4   150098226        VANDALISM  MALICIOUS MISCHIEF, VANDALISM OF VEHICLES   \n",
       "\n",
       "  DayOfWeek        Date   Time  PdDistrict Resolution  \\\n",
       "0    Monday  01/19/2015  14:00     MISSION       NONE   \n",
       "1    Sunday  02/01/2015  15:45  TENDERLOIN       NONE   \n",
       "2    Sunday  02/01/2015  15:45  TENDERLOIN       NONE   \n",
       "3    Sunday  02/01/2015  15:45  TENDERLOIN       NONE   \n",
       "4   Tuesday  01/27/2015  19:00    NORTHERN       NONE   \n",
       "\n",
       "                       Address           X          Y  \\\n",
       "0        18TH ST / VALENCIA ST -122.421582  37.761701   \n",
       "1  300 Block of LEAVENWORTH ST -122.414406  37.784191   \n",
       "2  300 Block of LEAVENWORTH ST -122.414406  37.784191   \n",
       "3  300 Block of LEAVENWORTH ST -122.414406  37.784191   \n",
       "4       LOMBARD ST / LAGUNA ST -122.431119  37.800469   \n",
       "\n",
       "                                Location            PdId  \n",
       "0   (37.7617007179518, -122.42158168137)  15006027571000  \n",
       "1  (37.7841907151119, -122.414406029855)  15009821003074  \n",
       "2  (37.7841907151119, -122.414406029855)  15009821004014  \n",
       "3  (37.7841907151119, -122.414406029855)  15009821015200  \n",
       "4  (37.8004687042875, -122.431118543788)  15009822628160  "
      ]
     },
     "execution_count": 2,
     "metadata": {},
     "output_type": "execute_result"
    }
   ],
   "source": [
    "# Load it into a Dataframe using pandas\n",
    "path = '..\\data\\sfpd_incidents.csv'\n",
    "df = pd.read_csv(path)\n",
    "df.head()"
   ]
  },
  {
   "cell_type": "markdown",
   "metadata": {},
   "source": [
    "*The chief wants you to start from real data and build a system that replicates the functionality in the Minority Report system. Imagine, we find out that certain type of crime is going to take place - as well as the exact time of the crime - but that we don't know where, then Suneman wants an algorithm that will predict which district the crime is most likely to take place in. Specifically, let's build an algorithm that predicts the location of a crime based on its type and time.*\n",
    "\n",
    "* *Use the category of the crimes to build a decision tree that predicts the corresponding district. You can implement the ID3 tree in the DSFS book, or use the [DecisionTreeClassifier](http://scikit-learn.org/stable/modules/tree.html) class in scikit-learn. For training, you can use 90% of the data and test the tree prediction on the remaining 10%.*"
   ]
  },
  {
   "cell_type": "markdown",
   "metadata": {},
   "source": [
    "In order to fit the classifier, we must transform the data and convert all the string attributes to categorical attributes, since they're not supported by the DecisionTreeClassifier. Therefore, we use **one-out-of-K** coding in order to associate to each category its numerical representation. `scikit-learn` already provides us with a class made for this purpose, the `LabelEncoder`.\n",
    "\n",
    "With `train_test_split` we're automatically splitting the whole dataset in training/test sets with the ratio suggested by the instructions. We hereby define the functions that will be useful later on:"
   ]
  },
  {
   "cell_type": "code",
   "execution_count": 99,
   "metadata": {
    "collapsed": true
   },
   "outputs": [],
   "source": [
    "# Split training and testing data\n",
    "def split_dataset(X,Y):\n",
    "    return train_test_split(X, Y, test_size=0.1, random_state=0)\n",
    "\n",
    "#Train classifier and predict labels\n",
    "def train_predict_tree_clf(X_train,Y_train,X_test):\n",
    "    #Fit the classifier\n",
    "    clf = DecisionTreeClassifier()\n",
    "    if X_train.ndim==1:\n",
    "        X_train = X_train[:,None]\n",
    "    if Y_train.ndim==1:\n",
    "        Y_train = Y_train[:,None]\n",
    "    if X_test.ndim==1:\n",
    "        X_test = X_test[:,None]\n",
    "    clf.fit(X_train,Y_train)\n",
    "    return clf.predict(X_test)"
   ]
  },
  {
   "cell_type": "code",
   "execution_count": 101,
   "metadata": {
    "collapsed": false
   },
   "outputs": [],
   "source": [
    "#Encoding categorical attributes\n",
    "label_encoder = LabelEncoder()\n",
    "X = label_encoder.fit_transform(df['Category'])\n",
    "Y = label_encoder.fit_transform(df['PdDistrict'])\n",
    "\n",
    "X_train, X_test, Y_train, Y_test = split_dataset(X,Y)\n",
    "pred = train_predict_tree_clf(X_train,Y_train,X_test)"
   ]
  },
  {
   "cell_type": "markdown",
   "metadata": {},
   "source": [
    "We re-convert the numerical values of `Y_test` and `pred` to categorical, since we'll need them for the next step."
   ]
  },
  {
   "cell_type": "code",
   "execution_count": 102,
   "metadata": {
    "collapsed": false
   },
   "outputs": [],
   "source": [
    "pred = label_encoder.inverse_transform(pred)\n",
    "Y_test = label_encoder.inverse_transform(Y_test)"
   ]
  },
  {
   "cell_type": "markdown",
   "metadata": {},
   "source": [
    "* *What is the fraction of correct predictions?*\n",
    "\n",
    "Let's create a function to compare the actual values with the predicted values and calculate the fraction of correct predictions as the ratio between the number of correct predictions and the length of the test set:"
   ]
  },
  {
   "cell_type": "code",
   "execution_count": 103,
   "metadata": {
    "collapsed": false
   },
   "outputs": [],
   "source": [
    "#Given the Y_test vector, the pred vector and the name of the predicted label, calculate the correctness ratio\n",
    "def calculate_ratio(Y_test,pred,label,district_name=None):\n",
    "    #Support dataframe with columns to compare\n",
    "    df_predictions = DataFrame(np.column_stack([Y_test,pred]),columns=[label+'_Real',label+'_Pred'])\n",
    "    total = len(df_predictions.index)\n",
    "    \n",
    "    #Calculate ratio\n",
    "    num_correct_predictions = len(df_predictions[df_predictions[label+'_Real']==df_predictions[label+'_Pred']].index)\n",
    "    ratio = num_correct_predictions*100.0/total\n",
    "    district = '' if district_name==None else 'for district '+district_name\n",
    "    print 'Fraction of correct predictions %s: %.2f%%' %(district,ratio)"
   ]
  },
  {
   "cell_type": "markdown",
   "metadata": {},
   "source": [
    "And calculate the correctness ratio of our first prediction:"
   ]
  },
  {
   "cell_type": "code",
   "execution_count": 104,
   "metadata": {
    "collapsed": false
   },
   "outputs": [
    {
     "name": "stdout",
     "output_type": "stream",
     "text": [
      "Fraction of correct predictions : 20.29%\n"
     ]
    }
   ],
   "source": [
    "calculate_ratio(Y_test,pred,'PdDistrict')"
   ]
  },
  {
   "cell_type": "markdown",
   "metadata": {},
   "source": [
    "According to the output above, we guess the classifier didn't perform so well if we keep in consideration all the districts."
   ]
  },
  {
   "cell_type": "markdown",
   "metadata": {},
   "source": [
    "* *What are the correct predictions if you restrict the training/prediction to single districts (for example, predicting Mission vs. all other districts, etc)?*\n",
    "\n",
    "We're supposed to perform a **Binary Classification**, by picking one district (e.g. **MISSION**) and labeling all other districts as **NOT MISSION**. Therefore, we'll have only *two values* for the labels (ideally 0 and 1, that's why *binary*) We'll manually convert to the string notation and let the Label Encoder do the rest."
   ]
  },
  {
   "cell_type": "code",
   "execution_count": 62,
   "metadata": {
    "collapsed": false,
    "scrolled": true
   },
   "outputs": [
    {
     "name": "stdout",
     "output_type": "stream",
     "text": [
      "Fraction of correct predictions for district CENTRAL: 89.99%\n",
      "Fraction of correct predictions for district NORTHERN: 87.74%\n",
      "Fraction of correct predictions for district SOUTHERN: 81.97%\n",
      "Fraction of correct predictions for district PARK: 94.35%\n",
      "Fraction of correct predictions for district MISSION: 86.62%\n",
      "Fraction of correct predictions for district TENDERLOIN: 91.14%\n",
      "Fraction of correct predictions for district RICHMOND: 94.75%\n",
      "Fraction of correct predictions for district TARAVAL: 92.45%\n",
      "Fraction of correct predictions for district INGLESIDE: 91.05%\n",
      "Fraction of correct predictions for district BAYVIEW: 89.95%\n"
     ]
    }
   ],
   "source": [
    "#We remove NAN values\n",
    "districts = list(set(df['PdDistrict'].dropna()))\n",
    "\n",
    "#Function to get the binary representation of a specific value\n",
    "def get_binary_repr(value,district):\n",
    "    if value==district:\n",
    "        return district\n",
    "    return 'NOT'+district\n",
    "\n",
    "for district in districts:\n",
    "    df_binary_districts = df\n",
    "    df_binary_districts['PdDistrict_Bin'] = df_binary_districts['PdDistrict'].apply(lambda x: get_binary_repr(x,district))\n",
    "\n",
    "    # Split training and testing data (N.B. X is the same as before)\n",
    "    Y = df_binary_districts['PdDistrict_Bin']\n",
    "    Y = label_encoder.fit_transform(Y)\n",
    "    X_train, X_test, Y_train, Y_test = split_dataset(X,Y)\n",
    "    \n",
    "    #Train classifier and predict\n",
    "    pred = train_predict_tree_clf(X_train,Y_train,X_test)\n",
    "\n",
    "    #Again re-converting to categorical values\n",
    "    pred = label_encoder.inverse_transform(pred)\n",
    "    Y_test = label_encoder.inverse_transform(Y_test)\n",
    "\n",
    "    #Calculate fraction of correct predictions\n",
    "    calculate_ratio(Y_test,pred,'PdDistrict',district)"
   ]
  },
  {
   "cell_type": "markdown",
   "metadata": {},
   "source": [
    "In light of the above results, we could definitely say that reducing the problem to a binary classification problem makes more sense in terms of correct predictions."
   ]
  },
  {
   "cell_type": "markdown",
   "metadata": {},
   "source": [
    "* *Compare it to the random guess, what would you get if you'd guess a district randomly?*"
   ]
  },
  {
   "cell_type": "code",
   "execution_count": 63,
   "metadata": {
    "collapsed": false
   },
   "outputs": [
    {
     "name": "stdout",
     "output_type": "stream",
     "text": [
      "--- Random guess ---\n",
      "Fraction of correct predictions : 9.99%\n"
     ]
    }
   ],
   "source": [
    "def random_guess():\n",
    "    return rn.choice(districts)\n",
    "\n",
    "Y = df['PdDistrict']\n",
    "pred = np.array([random_guess() for _ in range(len(df.index))])\n",
    "\n",
    "#Calculate fraction of correct predictions\n",
    "print '--- Random guess ---'\n",
    "calculate_ratio(Y,pred,'PdDistrict')"
   ]
  },
  {
   "cell_type": "markdown",
   "metadata": {},
   "source": [
    "* *And if you'd guess always one of the districts (for example the district with the most crimes)?*\n",
    "\n",
    "Let's count the crimes per district and see the highest values:"
   ]
  },
  {
   "cell_type": "code",
   "execution_count": 64,
   "metadata": {
    "collapsed": false
   },
   "outputs": [
    {
     "data": {
      "text/html": [
       "<div>\n",
       "<table border=\"1\" class=\"dataframe\">\n",
       "  <thead>\n",
       "    <tr style=\"text-align: right;\">\n",
       "      <th></th>\n",
       "      <th>PdDistrict</th>\n",
       "      <th>Count</th>\n",
       "    </tr>\n",
       "  </thead>\n",
       "  <tbody>\n",
       "    <tr>\n",
       "      <th>7</th>\n",
       "      <td>SOUTHERN</td>\n",
       "      <td>364516</td>\n",
       "    </tr>\n",
       "    <tr>\n",
       "      <th>3</th>\n",
       "      <td>MISSION</td>\n",
       "      <td>273386</td>\n",
       "    </tr>\n",
       "    <tr>\n",
       "      <th>4</th>\n",
       "      <td>NORTHERN</td>\n",
       "      <td>246991</td>\n",
       "    </tr>\n",
       "    <tr>\n",
       "      <th>0</th>\n",
       "      <td>BAYVIEW</td>\n",
       "      <td>203841</td>\n",
       "    </tr>\n",
       "    <tr>\n",
       "      <th>1</th>\n",
       "      <td>CENTRAL</td>\n",
       "      <td>202342</td>\n",
       "    </tr>\n",
       "  </tbody>\n",
       "</table>\n",
       "</div>"
      ],
      "text/plain": [
       "  PdDistrict   Count\n",
       "7   SOUTHERN  364516\n",
       "3    MISSION  273386\n",
       "4   NORTHERN  246991\n",
       "0    BAYVIEW  203841\n",
       "1    CENTRAL  202342"
      ]
     },
     "execution_count": 64,
     "metadata": {},
     "output_type": "execute_result"
    }
   ],
   "source": [
    "top_districts = df.groupby('PdDistrict')['PdDistrict'].count().reset_index(name='Count').sort_values(by='Count',ascending=False)\n",
    "top_districts.head()"
   ]
  },
  {
   "cell_type": "code",
   "execution_count": 65,
   "metadata": {
    "collapsed": false
   },
   "outputs": [
    {
     "name": "stdout",
     "output_type": "stream",
     "text": [
      "--- Random guess tricky ---\n",
      "Fraction of correct predictions : 19.02%\n"
     ]
    }
   ],
   "source": [
    "#With this function we will always guess the district with the highest number of crimes\n",
    "def random_guess_tricky(district):\n",
    "    if district==top_districts['PdDistrict'][0]:\n",
    "        return district\n",
    "    else:\n",
    "        return rn.choice(districts)\n",
    "\n",
    "pred = df['PdDistrict'].apply(lambda x: random_guess_tricky(x))\n",
    "\n",
    "#Calculate fraction of correct predictions\n",
    "print '--- Random guess tricky ---'\n",
    "calculate_ratio(Y,pred,'PdDistrict')"
   ]
  },
  {
   "cell_type": "markdown",
   "metadata": {},
   "source": [
    "We can see that with this tweaked version of the random guess the fraction of correct predictions rises a little but still it's unsufficient to be considered reliable.\n",
    "\n",
    "* *Now, add the day of the week to the features, do any of the the performance measures improve?*"
   ]
  },
  {
   "cell_type": "code",
   "execution_count": 66,
   "metadata": {
    "collapsed": false
   },
   "outputs": [
    {
     "name": "stdout",
     "output_type": "stream",
     "text": [
      "Fraction of correct predictions : 20.28%\n"
     ]
    }
   ],
   "source": [
    "X = df.filter(items=['Category','DayOfWeek'])\n",
    "X_cat = label_encoder.fit_transform(X['Category'])\n",
    "X_weekday = label_encoder.fit_transform(X['DayOfWeek'])\n",
    "X = np.column_stack((X_cat,X_weekday))\n",
    "Y = label_encoder.fit_transform(df['PdDistrict'])\n",
    "\n",
    "#Training and prediction\n",
    "X_train, X_test, Y_train, Y_test = split_dataset(X,Y)\n",
    "clf = DecisionTreeClassifier()\n",
    "clf.fit(X_train,Y_train[:,None])\n",
    "print 'Fraction of correct predictions : %.2f%%' % (clf.score(X_test,Y_test[:,None])*100)"
   ]
  },
  {
   "cell_type": "markdown",
   "metadata": {},
   "source": [
    "Again, no improvements even by adding a new feature to the classifier.\n",
    "* ***OPTIONAL***: *Visualize the tree so that you can see what it actually does! For visualization, you can use the export_graphviz method of scikit-learn and then convert the .dot file to a PDF.*"
   ]
  },
  {
   "cell_type": "code",
   "execution_count": 13,
   "metadata": {
    "collapsed": false
   },
   "outputs": [
    {
     "data": {
      "image/png": "[encoded data removed]",
      "text/plain": [
       "<IPython.core.display.Image object>"
      ]
     },
     "execution_count": 13,
     "metadata": {},
     "output_type": "execute_result"
    }
   ],
   "source": [
    "def show_tree(X_train,Y_train):\n",
    "    clf = DecisionTreeClassifier(max_leaf_nodes=5)\n",
    "    clf.fit(X_train,Y_train)\n",
    "    dot_data = StringIO()  \n",
    "    export_graphviz(clf, out_file=dot_data)  \n",
    "    graph = pydot.graph_from_dot_data(dot_data.getvalue())[0]\n",
    "    return Image(graph.create_png()) \n",
    "    \n",
    "show_tree(X_train,Y_train[:,None])"
   ]
  },
  {
   "cell_type": "markdown",
   "metadata": {
    "collapsed": true
   },
   "source": [
    "* *As you might see in the visualization, the tree runs out of possible feature values to check before refining the decision. Try increasing the number of features: add part of the day (night=0-5, morning=6-10, midday=11-14, afternoon=15-17, evening=18-23). Is it better? What is the problem we're solving by breaking the day into parts rather than raw hour values?*"
   ]
  },
  {
   "cell_type": "code",
   "execution_count": 131,
   "metadata": {
    "collapsed": false
   },
   "outputs": [
    {
     "name": "stdout",
     "output_type": "stream",
     "text": [
      "Fraction of correct predictions : 20.42%\n"
     ]
    }
   ],
   "source": [
    "#Return the time of day, given the time of the crime\n",
    "def get_part_of_day(time):\n",
    "    hour = int(time.split(':')[0])\n",
    "    if hour>=0 and hour<6:\n",
    "        return 'night'\n",
    "    elif hour>=6 and hour<11:\n",
    "        return 'morning'\n",
    "    elif hour>=11 and hour<15:\n",
    "        return 'midday'\n",
    "    elif hour>=15 and hour<18:\n",
    "        return 'afternoon'\n",
    "    else:\n",
    "        return 'evening'\n",
    "\n",
    "#Encoding and extracting features and labels\n",
    "df['PartOfDay'] = df['Time'].apply(lambda x: get_part_of_day(x))\n",
    "X = df.filter(items=['Category','DayOfWeek','PartOfDay'])\n",
    "X_cat = label_encoder.fit_transform(X['Category'])\n",
    "X_weekday = label_encoder.fit_transform(X['DayOfWeek'])\n",
    "X_part_of_day = label_encoder.fit_transform(X['PartOfDay'])\n",
    "X = np.column_stack((X_cat,X_weekday,X_part_of_day))\n",
    "Y = label_encoder.fit_transform(df['PdDistrict'])\n",
    "\n",
    "#Training and prediction\n",
    "X_train, X_test, Y_train, Y_test = split_dataset(X,Y)\n",
    "pred = train_predict_tree_clf(X_train,Y_train,X_test)\n",
    "calculate_ratio(Y_test,pred,'PdDistrict')"
   ]
  },
  {
   "cell_type": "markdown",
   "metadata": {},
   "source": [
    "Again, it's obvious that adding another feature doesn't improve the performance of the classifier.\n",
    "We split the hours into buckets in order to minimize the range of the values of this new feature and eventually, improve the performance of the classifier."
   ]
  },
  {
   "cell_type": "markdown",
   "metadata": {},
   "source": [
    "* *Let's try some examples to see if the algorithm is working.*"
   ]
  },
  {
   "cell_type": "code",
   "execution_count": 132,
   "metadata": {
    "collapsed": false
   },
   "outputs": [],
   "source": [
    "#Creating dictionary to keep track of encoded values\n",
    "def get_encoding_dict(data):\n",
    "    encoding_dict = {}\n",
    "    le = LabelEncoder()\n",
    "    data_en = le.fit_transform(data)\n",
    "    for i,item in enumerate(data):\n",
    "        encoding_dict[item] = data_en[i]\n",
    "    return encoding_dict\n",
    "\n",
    "#Before encoding, get encoding dictionaries\n",
    "category_encoding_dict = get_encoding_dict(df['Category'])\n",
    "weekday_encoding_dict = get_encoding_dict(df['DayOfWeek'])\n",
    "daytime_encoding_dict = get_encoding_dict(df['PartOfDay'])\n",
    "district_encoding_dict = get_encoding_dict(df['PdDistrict'].dropna())"
   ]
  },
  {
   "cell_type": "markdown",
   "metadata": {},
   "source": [
    "Now that we have all the encoding dictionaries, it's easy to retrieve whatever value we want:\n",
    "\n",
    "* *There is a new crime (prositution) on Monday 10pm. What are the three most likely districts?*"
   ]
  },
  {
   "cell_type": "code",
   "execution_count": 143,
   "metadata": {
    "collapsed": false
   },
   "outputs": [],
   "source": [
    "#Training the classifier and predicting the probabilities\n",
    "def predict_probabilities(X_train,Y_train,category,weekday,daytime):\n",
    "    clf = DecisionTreeClassifier()\n",
    "    clf.fit(X_train,Y_train)\n",
    "    probabilities = clf.predict_proba(np.array([category,weekday,daytime]).reshape(1,-1))[0]\n",
    "    probabilities = {key:probabilities[i]*100\n",
    "                     for key, value in district_encoding_dict.iteritems()\n",
    "                     for i,label in enumerate(clf.classes_)\n",
    "                     if value == label}\n",
    "    return sorted(probabilities.items(),key=operator.itemgetter(1),reverse=True)\n",
    "\n",
    "category = category_encoding_dict['PROSTITUTION']\n",
    "weekday = weekday_encoding_dict['Monday']\n",
    "daytime = daytime_encoding_dict['evening']\n",
    "\n",
    "probabilities = predict_probabilities(X_train,Y_train,category,weekday,daytime)"
   ]
  },
  {
   "cell_type": "code",
   "execution_count": 144,
   "metadata": {
    "collapsed": false
   },
   "outputs": [
    {
     "data": {
      "text/plain": [
       "[('NORTHERN', 66.180758017492707),\n",
       " ('PARK', 11.661807580174926),\n",
       " ('INGLESIDE', 7.5801749271137027),\n",
       " ('TARAVAL', 3.4985422740524781),\n",
       " ('TENDERLOIN', 2.6239067055393588),\n",
       " ('CENTRAL', 0.58309037900874638),\n",
       " ('MISSION', 0.29154518950437319),\n",
       " ('RICHMOND', 0.29154518950437319),\n",
       " ('SOUTHERN', 0.0),\n",
       " ('BAYVIEW', 0.0)]"
      ]
     },
     "execution_count": 144,
     "metadata": {},
     "output_type": "execute_result"
    }
   ],
   "source": [
    "probabilities"
   ]
  },
  {
   "cell_type": "markdown",
   "metadata": {},
   "source": [
    "* *Also find the most likely districts for a gambling on Wednesday 1pm.*\n",
    "* *And also try out an arson case on Sunday 7am?*"
   ]
  },
  {
   "cell_type": "markdown",
   "metadata": {},
   "source": [
    "* *It's unlikely that the classifier overfits in our case. Explain why.*"
   ]
  },
  {
   "cell_type": "code",
   "execution_count": null,
   "metadata": {
    "collapsed": true
   },
   "outputs": [],
   "source": []
  }
 ],
 "metadata": {
  "kernelspec": {
   "display_name": "Python [Root]",
   "language": "python",
   "name": "Python [Root]"
  },
  "language_info": {
   "codemirror_mode": {
    "name": "ipython",
    "version": 2
   },
   "file_extension": ".py",
   "mimetype": "text/x-python",
   "name": "python",
   "nbconvert_exporter": "python",
   "pygments_lexer": "ipython2",
   "version": "2.7.12"
  }
 },
 "nbformat": 4,
 "nbformat_minor": 0
}
