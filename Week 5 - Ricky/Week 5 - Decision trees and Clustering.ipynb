{
 "cells": [
  {
   "cell_type": "markdown",
   "metadata": {},
   "source": [
    "# Part 1: Decision trees\n",
    "* *There are two main kinds of decision trees depending on the type of output (numeric vs. categorical). What are they?*\n",
    "* *Explain in your own words: Why is entropy useful when deciding where to split the data?*\n",
    "* *Why are trees prone to overfitting?*\n",
    "* *Explain (in your own words) how random forests help prevent overfitting.*"
   ]
  },
  {
   "cell_type": "markdown",
   "metadata": {},
   "source": [
    "***[ANSWERS TO QUESTIONS]***"
   ]
  },
  {
   "cell_type": "markdown",
   "metadata": {},
   "source": [
    "Loading the dataset, before we begin:"
   ]
  },
  {
   "cell_type": "code",
   "execution_count": 93,
   "metadata": {
    "collapsed": false
   },
   "outputs": [
    {
     "ename": "ImportError",
     "evalue": "No module named model_selection",
     "output_type": "error",
     "traceback": [
      "\u001b[1;31m---------------------------------------------------------------------------\u001b[0m",
      "\u001b[1;31mImportError\u001b[0m                               Traceback (most recent call last)",
      "\u001b[1;32m<ipython-input-93-57e8c80502fd>\u001b[0m in \u001b[0;36m<module>\u001b[1;34m()\u001b[0m\n\u001b[0;32m     13\u001b[0m \u001b[1;32mimport\u001b[0m \u001b[0mmath\u001b[0m\u001b[1;33m\u001b[0m\u001b[0m\n\u001b[0;32m     14\u001b[0m \u001b[1;32mfrom\u001b[0m \u001b[0msklearn\u001b[0m\u001b[1;33m.\u001b[0m\u001b[0mpreprocessing\u001b[0m \u001b[1;32mimport\u001b[0m \u001b[0mLabelEncoder\u001b[0m\u001b[1;33m\u001b[0m\u001b[0m\n\u001b[1;32m---> 15\u001b[1;33m \u001b[1;32mfrom\u001b[0m \u001b[0msklearn\u001b[0m\u001b[1;33m.\u001b[0m\u001b[0mmodel_selection\u001b[0m \u001b[1;32mimport\u001b[0m \u001b[0mtrain_test_split\u001b[0m\u001b[1;33m\u001b[0m\u001b[0m\n\u001b[0m",
      "\u001b[1;31mImportError\u001b[0m: No module named model_selection"
     ]
    }
   ],
   "source": [
    "import requests\n",
    "from matplotlib import pyplot as plt\n",
    "import numpy as np\n",
    "import csv\n",
    "import pandas as pd\n",
    "from pandas import DataFrame\n",
    "%matplotlib inline\n",
    "import geoplotlib\n",
    "from geoplotlib.utils import BoundingBox\n",
    "from geoplotlib.colors import ColorMap\n",
    "import sklearn\n",
    "from sklearn.tree import DecisionTreeClassifier,export_graphviz\n",
    "import math\n",
    "from sklearn.preprocessing import LabelEncoder\n",
    "from sklearn.model_selection import train_test_split"
   ]
  },
  {
   "cell_type": "code",
   "execution_count": 2,
   "metadata": {
    "collapsed": false
   },
   "outputs": [
    {
     "data": {
      "text/html": [
       "<div>\n",
       "<table border=\"1\" class=\"dataframe\">\n",
       "  <thead>\n",
       "    <tr style=\"text-align: right;\">\n",
       "      <th></th>\n",
       "      <th>IncidntNum</th>\n",
       "      <th>Category</th>\n",
       "      <th>Descript</th>\n",
       "      <th>DayOfWeek</th>\n",
       "      <th>Date</th>\n",
       "      <th>Time</th>\n",
       "      <th>PdDistrict</th>\n",
       "      <th>Resolution</th>\n",
       "      <th>Address</th>\n",
       "      <th>X</th>\n",
       "      <th>Y</th>\n",
       "      <th>Location</th>\n",
       "      <th>PdId</th>\n",
       "    </tr>\n",
       "  </thead>\n",
       "  <tbody>\n",
       "    <tr>\n",
       "      <th>0</th>\n",
       "      <td>150060275</td>\n",
       "      <td>NON-CRIMINAL</td>\n",
       "      <td>LOST PROPERTY</td>\n",
       "      <td>Monday</td>\n",
       "      <td>01/19/2015</td>\n",
       "      <td>14:00</td>\n",
       "      <td>MISSION</td>\n",
       "      <td>NONE</td>\n",
       "      <td>18TH ST / VALENCIA ST</td>\n",
       "      <td>-122.421582</td>\n",
       "      <td>37.761701</td>\n",
       "      <td>(37.7617007179518, -122.42158168137)</td>\n",
       "      <td>15006027571000</td>\n",
       "    </tr>\n",
       "    <tr>\n",
       "      <th>1</th>\n",
       "      <td>150098210</td>\n",
       "      <td>ROBBERY</td>\n",
       "      <td>ROBBERY, BODILY FORCE</td>\n",
       "      <td>Sunday</td>\n",
       "      <td>02/01/2015</td>\n",
       "      <td>15:45</td>\n",
       "      <td>TENDERLOIN</td>\n",
       "      <td>NONE</td>\n",
       "      <td>300 Block of LEAVENWORTH ST</td>\n",
       "      <td>-122.414406</td>\n",
       "      <td>37.784191</td>\n",
       "      <td>(37.7841907151119, -122.414406029855)</td>\n",
       "      <td>15009821003074</td>\n",
       "    </tr>\n",
       "    <tr>\n",
       "      <th>2</th>\n",
       "      <td>150098210</td>\n",
       "      <td>ASSAULT</td>\n",
       "      <td>AGGRAVATED ASSAULT WITH BODILY FORCE</td>\n",
       "      <td>Sunday</td>\n",
       "      <td>02/01/2015</td>\n",
       "      <td>15:45</td>\n",
       "      <td>TENDERLOIN</td>\n",
       "      <td>NONE</td>\n",
       "      <td>300 Block of LEAVENWORTH ST</td>\n",
       "      <td>-122.414406</td>\n",
       "      <td>37.784191</td>\n",
       "      <td>(37.7841907151119, -122.414406029855)</td>\n",
       "      <td>15009821004014</td>\n",
       "    </tr>\n",
       "    <tr>\n",
       "      <th>3</th>\n",
       "      <td>150098210</td>\n",
       "      <td>SECONDARY CODES</td>\n",
       "      <td>DOMESTIC VIOLENCE</td>\n",
       "      <td>Sunday</td>\n",
       "      <td>02/01/2015</td>\n",
       "      <td>15:45</td>\n",
       "      <td>TENDERLOIN</td>\n",
       "      <td>NONE</td>\n",
       "      <td>300 Block of LEAVENWORTH ST</td>\n",
       "      <td>-122.414406</td>\n",
       "      <td>37.784191</td>\n",
       "      <td>(37.7841907151119, -122.414406029855)</td>\n",
       "      <td>15009821015200</td>\n",
       "    </tr>\n",
       "    <tr>\n",
       "      <th>4</th>\n",
       "      <td>150098226</td>\n",
       "      <td>VANDALISM</td>\n",
       "      <td>MALICIOUS MISCHIEF, VANDALISM OF VEHICLES</td>\n",
       "      <td>Tuesday</td>\n",
       "      <td>01/27/2015</td>\n",
       "      <td>19:00</td>\n",
       "      <td>NORTHERN</td>\n",
       "      <td>NONE</td>\n",
       "      <td>LOMBARD ST / LAGUNA ST</td>\n",
       "      <td>-122.431119</td>\n",
       "      <td>37.800469</td>\n",
       "      <td>(37.8004687042875, -122.431118543788)</td>\n",
       "      <td>15009822628160</td>\n",
       "    </tr>\n",
       "  </tbody>\n",
       "</table>\n",
       "</div>"
      ],
      "text/plain": [
       "   IncidntNum         Category                                   Descript  \\\n",
       "0   150060275     NON-CRIMINAL                              LOST PROPERTY   \n",
       "1   150098210          ROBBERY                      ROBBERY, BODILY FORCE   \n",
       "2   150098210          ASSAULT       AGGRAVATED ASSAULT WITH BODILY FORCE   \n",
       "3   150098210  SECONDARY CODES                          DOMESTIC VIOLENCE   \n",
       "4   150098226        VANDALISM  MALICIOUS MISCHIEF, VANDALISM OF VEHICLES   \n",
       "\n",
       "  DayOfWeek        Date   Time  PdDistrict Resolution  \\\n",
       "0    Monday  01/19/2015  14:00     MISSION       NONE   \n",
       "1    Sunday  02/01/2015  15:45  TENDERLOIN       NONE   \n",
       "2    Sunday  02/01/2015  15:45  TENDERLOIN       NONE   \n",
       "3    Sunday  02/01/2015  15:45  TENDERLOIN       NONE   \n",
       "4   Tuesday  01/27/2015  19:00    NORTHERN       NONE   \n",
       "\n",
       "                       Address           X          Y  \\\n",
       "0        18TH ST / VALENCIA ST -122.421582  37.761701   \n",
       "1  300 Block of LEAVENWORTH ST -122.414406  37.784191   \n",
       "2  300 Block of LEAVENWORTH ST -122.414406  37.784191   \n",
       "3  300 Block of LEAVENWORTH ST -122.414406  37.784191   \n",
       "4       LOMBARD ST / LAGUNA ST -122.431119  37.800469   \n",
       "\n",
       "                                Location            PdId  \n",
       "0   (37.7617007179518, -122.42158168137)  15006027571000  \n",
       "1  (37.7841907151119, -122.414406029855)  15009821003074  \n",
       "2  (37.7841907151119, -122.414406029855)  15009821004014  \n",
       "3  (37.7841907151119, -122.414406029855)  15009821015200  \n",
       "4  (37.8004687042875, -122.431118543788)  15009822628160  "
      ]
     },
     "execution_count": 2,
     "metadata": {},
     "output_type": "execute_result"
    }
   ],
   "source": [
    "# Load it into a Dataframe using pandas\n",
    "path = '..\\data\\sfpd_incidents.csv'\n",
    "df = pd.read_csv(path)\n",
    "df.head()"
   ]
  },
  {
   "cell_type": "markdown",
   "metadata": {},
   "source": [
    "*The chief wants you to start from real data and build a system that replicates the functionality in the Minority Report system. Imagine, we find out that certain type of crime is going to take place - as well as the exact time of the crime - but that we don't know where, then Suneman wants an algorithm that will predict which district the crime is most likely to take place in. Specifically, let's build an algorithm that predicts the location of a crime based on its type and time.*\n",
    "\n",
    "* *Use the category of the crimes to build a decision tree that predicts the corresponding district. You can implement the ID3 tree in the DSFS book, or use the [DecisionTreeClassifier](http://scikit-learn.org/stable/modules/tree.html) class in scikit-learn. For training, you can use 90% of the data and test the tree prediction on the remaining 10%.*"
   ]
  },
  {
   "cell_type": "code",
   "execution_count": null,
   "metadata": {
    "collapsed": true
   },
   "outputs": [],
   "source": [
    "label_encoder = "
   ]
  },
  {
   "cell_type": "code",
   "execution_count": 86,
   "metadata": {
    "collapsed": false
   },
   "outputs": [],
   "source": [
    "num_observations = len(df['IncidntNum'])\n",
    "training_set_size = int(math.ceil(.9*num_observations))"
   ]
  },
  {
   "cell_type": "markdown",
   "metadata": {},
   "source": [
    "In order to fit the classifier, we must transform the data and convert all the string attributes to categorical attributes, since they're not supported by the DecisionTreeClassifier. Therefore, we use **one-out-of-K** coding in order to associate to each category its numerical representation."
   ]
  },
  {
   "cell_type": "code",
   "execution_count": 87,
   "metadata": {
    "collapsed": false
   },
   "outputs": [],
   "source": [
    "list_categories = list(set(df['Category']))\n",
    "categories_coding = {category:i for i,category in enumerate(list_categories)}\n",
    "\n",
    "list_districts = list(set(df['PdDistrict']))\n",
    "districts_coding = {district:i for i,district in enumerate(list_districts)}"
   ]
  },
  {
   "cell_type": "markdown",
   "metadata": {},
   "source": [
    "With two simple functions we convert the categorical value to a numerical value and add it as a new column to the original dataframe:"
   ]
  },
  {
   "cell_type": "code",
   "execution_count": 88,
   "metadata": {
    "collapsed": false
   },
   "outputs": [
    {
     "data": {
      "text/html": [
       "<div>\n",
       "<table border=\"1\" class=\"dataframe\">\n",
       "  <thead>\n",
       "    <tr style=\"text-align: right;\">\n",
       "      <th></th>\n",
       "      <th>Category</th>\n",
       "      <th>Category_Num</th>\n",
       "      <th>PdDistrict</th>\n",
       "      <th>PdDistrict_Num</th>\n",
       "    </tr>\n",
       "  </thead>\n",
       "  <tbody>\n",
       "    <tr>\n",
       "      <th>0</th>\n",
       "      <td>NON-CRIMINAL</td>\n",
       "      <td>28</td>\n",
       "      <td>MISSION</td>\n",
       "      <td>5</td>\n",
       "    </tr>\n",
       "    <tr>\n",
       "      <th>1</th>\n",
       "      <td>ROBBERY</td>\n",
       "      <td>10</td>\n",
       "      <td>TENDERLOIN</td>\n",
       "      <td>6</td>\n",
       "    </tr>\n",
       "    <tr>\n",
       "      <th>2</th>\n",
       "      <td>ASSAULT</td>\n",
       "      <td>34</td>\n",
       "      <td>TENDERLOIN</td>\n",
       "      <td>6</td>\n",
       "    </tr>\n",
       "    <tr>\n",
       "      <th>3</th>\n",
       "      <td>SECONDARY CODES</td>\n",
       "      <td>2</td>\n",
       "      <td>TENDERLOIN</td>\n",
       "      <td>6</td>\n",
       "    </tr>\n",
       "    <tr>\n",
       "      <th>4</th>\n",
       "      <td>VANDALISM</td>\n",
       "      <td>27</td>\n",
       "      <td>NORTHERN</td>\n",
       "      <td>2</td>\n",
       "    </tr>\n",
       "  </tbody>\n",
       "</table>\n",
       "</div>"
      ],
      "text/plain": [
       "          Category  Category_Num  PdDistrict  PdDistrict_Num\n",
       "0     NON-CRIMINAL            28     MISSION               5\n",
       "1          ROBBERY            10  TENDERLOIN               6\n",
       "2          ASSAULT            34  TENDERLOIN               6\n",
       "3  SECONDARY CODES             2  TENDERLOIN               6\n",
       "4        VANDALISM            27    NORTHERN               2"
      ]
     },
     "execution_count": 88,
     "metadata": {},
     "output_type": "execute_result"
    }
   ],
   "source": [
    "def get_num_value(coding_dict,value):\n",
    "    return coding_dict[value]\n",
    "    \n",
    "df['Category_Num'] = df['Category'].apply(lambda x: get_num_value(categories_coding,x))\n",
    "df['PdDistrict_Num'] = df['PdDistrict'].apply(lambda x: get_num_value(districts_coding,x))\n",
    "df[['Category','Category_Num','PdDistrict','PdDistrict_Num']].head()"
   ]
  },
  {
   "cell_type": "code",
   "execution_count": 89,
   "metadata": {
    "collapsed": false
   },
   "outputs": [],
   "source": [
    "#Get total training and test set\n",
    "training_set = df.sample(training_set_size)\n",
    "test_set = df.drop(training_set.index) #total - training\n",
    "\n",
    "#Get features and labels\n",
    "training_features = np.array(training_set['Category_Num'])\n",
    "training_labels = np.array(training_set['PdDistrict_Num'])\n",
    "test_labels = np.array(test_set['PdDistrict_Num'])\n",
    "\n",
    "#Reshaping arrays\n",
    "training_features = training_features[:, None]\n",
    "training_labels = training_labels[:, None]\n",
    "test_labels = test_labels[:, None]"
   ]
  },
  {
   "cell_type": "code",
   "execution_count": 90,
   "metadata": {
    "collapsed": false
   },
   "outputs": [],
   "source": [
    "#Fit the classifier\n",
    "clf = DecisionTreeClassifier()\n",
    "clf.fit(training_features,training_labels)\n",
    "pred = clf.predict(test_labels)"
   ]
  },
  {
   "cell_type": "markdown",
   "metadata": {},
   "source": [
    "* *What is the fraction of correct predictions?*\n",
    "\n",
    "Let's create a support DataFrame to compare the actual values with the predicted values and calculate the fraction of correct predictions:"
   ]
  },
  {
   "cell_type": "code",
   "execution_count": 91,
   "metadata": {
    "collapsed": false
   },
   "outputs": [
    {
     "name": "stdout",
     "output_type": "stream",
     "text": [
      "Fraction of correct predictions: 18.04%\n"
     ]
    }
   ],
   "source": [
    "df_predictions = DataFrame(np.column_stack([test_set['PdDistrict_Num'],pred]),columns=['PdDistrict_Real','PdDistrict_Pred'])\n",
    "total = len(df_predictions.index)\n",
    "num_correct_predictions = len(df_predictions[df_predictions['PdDistrict_Real']==df_predictions['PdDistrict_Pred']].index)\n",
    "ratio = num_correct_predictions*100.0/total\n",
    "print 'Fraction of correct predictions: %.2f%%' %ratio"
   ]
  },
  {
   "cell_type": "markdown",
   "metadata": {},
   "source": [
    "* *What are the correct predictions if you restrict the training/prediction to single districts (for example, predicting Mission vs. all other districts, etc)?*"
   ]
  },
  {
   "cell_type": "code",
   "execution_count": null,
   "metadata": {
    "collapsed": true
   },
   "outputs": [],
   "source": []
  },
  {
   "cell_type": "markdown",
   "metadata": {},
   "source": [
    "* *Compare it to the random guess, what would you get if you'd guess a district randomly?*\n",
    "* *And if you'd guess always one of the districts (for example the district with the most crimes)?*"
   ]
  },
  {
   "cell_type": "code",
   "execution_count": null,
   "metadata": {
    "collapsed": true
   },
   "outputs": [],
   "source": []
  }
 ],
 "metadata": {
  "kernelspec": {
   "display_name": "Python [Root]",
   "language": "python",
   "name": "Python [Root]"
  },
  "language_info": {
   "codemirror_mode": {
    "name": "ipython",
    "version": 2
   },
   "file_extension": ".py",
   "mimetype": "text/x-python",
   "name": "python",
   "nbconvert_exporter": "python",
   "pygments_lexer": "ipython2",
   "version": "2.7.12"
  }
 },
 "nbformat": 4,
 "nbformat_minor": 0
}
