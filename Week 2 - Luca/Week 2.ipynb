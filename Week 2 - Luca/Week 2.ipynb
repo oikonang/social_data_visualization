{
 "cells": [
  {
   "cell_type": "markdown",
   "metadata": {
    "collapsed": true
   },
   "source": [
    "# Part 2: Statistics\n",
    "\n",
    "* Explain the difference between the mean and the median in your own words. In what kinds of dataset are the mean and median similar? Can you think of a dataset where the mean and median would be very different?\n",
    "\n",
    "* Variance: Explain the variance in your own words.\n",
    "\n",
    "* A paradox: What is Simpson's Paradox. Provide your own example of a dataset where this issue occurs.\n",
    "\n",
    "* Correlation and causation: Explain what's funny about [this comic](https://xkcd.com/552/)."
   ]
  },
  {
   "cell_type": "code",
   "execution_count": 1,
   "metadata": {
    "collapsed": false
   },
   "outputs": [
    {
     "name": "stdout",
     "output_type": "stream",
     "text": [
      "Dataset No. 1\n",
      "+------+-------+\n",
      "|  x   |   y   |\n",
      "+------+-------+\n",
      "| 10.0 |  8.04 |\n",
      "| 8.0  |  6.95 |\n",
      "| 13.0 |  7.58 |\n",
      "| 9.0  |  8.81 |\n",
      "| 11.0 |  8.33 |\n",
      "| 14.0 |  9.96 |\n",
      "| 6.0  |  7.24 |\n",
      "| 4.0  |  4.26 |\n",
      "| 12.0 | 10.84 |\n",
      "| 7.0  |  4.82 |\n",
      "| 5.0  |  5.68 |\n",
      "+------+-------+ \n",
      "\n",
      "Dataset No. 2\n",
      "+------+------+\n",
      "|  x   |  y   |\n",
      "+------+------+\n",
      "| 10.0 | 9.14 |\n",
      "| 8.0  | 8.14 |\n",
      "| 13.0 | 8.74 |\n",
      "| 9.0  | 8.77 |\n",
      "| 11.0 | 9.26 |\n",
      "| 14.0 | 8.1  |\n",
      "| 6.0  | 6.13 |\n",
      "| 4.0  | 3.1  |\n",
      "| 12.0 | 9.13 |\n",
      "| 7.0  | 7.26 |\n",
      "| 5.0  | 4.74 |\n",
      "+------+------+ \n",
      "\n",
      "Dataset No. 3\n",
      "+------+-------+\n",
      "|  x   |   y   |\n",
      "+------+-------+\n",
      "| 10.0 |  7.46 |\n",
      "| 8.0  |  6.77 |\n",
      "| 13.0 | 12.74 |\n",
      "| 9.0  |  7.11 |\n",
      "| 11.0 |  7.81 |\n",
      "| 14.0 |  8.84 |\n",
      "| 6.0  |  6.08 |\n",
      "| 4.0  |  5.39 |\n",
      "| 12.0 |  8.15 |\n",
      "| 7.0  |  6.42 |\n",
      "| 5.0  |  5.73 |\n",
      "+------+-------+ \n",
      "\n",
      "Dataset No. 4\n",
      "+------+------+\n",
      "|  x   |  y   |\n",
      "+------+------+\n",
      "| 8.0  | 6.58 |\n",
      "| 8.0  | 5.76 |\n",
      "| 8.0  | 7.71 |\n",
      "| 8.0  | 8.84 |\n",
      "| 8.0  | 8.47 |\n",
      "| 8.0  | 7.04 |\n",
      "| 8.0  | 5.25 |\n",
      "| 19.0 | 12.5 |\n",
      "| 8.0  | 5.56 |\n",
      "| 8.0  | 7.91 |\n",
      "| 8.0  | 6.89 |\n",
      "+------+------+ \n",
      "\n"
     ]
    }
   ],
   "source": [
    "import urllib2\n",
    "import re\n",
    "from prettytable import PrettyTable\n",
    "\n",
    "url = \"https://raw.githubusercontent.com/suneman/socialdataanalysis2017/master/files/data1.tsv\"\n",
    "data1 = urllib2.urlopen(url).read()\n",
    "url = \"https://raw.githubusercontent.com/suneman/socialdataanalysis2017/master/files/data2.tsv\"\n",
    "data2 = urllib2.urlopen(url).read()\n",
    "url = \"https://raw.githubusercontent.com/suneman/socialdataanalysis2017/master/files/data3.tsv\"\n",
    "data3 = urllib2.urlopen(url).read()\n",
    "url = \"https://raw.githubusercontent.com/suneman/socialdataanalysis2017/master/files/data4.tsv\"\n",
    "data4 = urllib2.urlopen(url).read()\n",
    "files = [data1, data2, data3, data4]\n",
    "\n",
    "datasets = []\n",
    "for f in files:\n",
    "    lines = re.split(r'\\n',f)\n",
    "    x_values = [float(re.split(r'\\t',line)[0]) for line in lines]\n",
    "    y_values = [float(re.split(r'\\t',line)[1]) for line in lines]\n",
    "    datasets.append((x_values, y_values))\n",
    "\n",
    "for i ,data in enumerate(datasets):\n",
    "    pt = PrettyTable(field_names=['x','y'])\n",
    "    for j in range(len(data[0])):\n",
    "        pt.add_row([data[0][j],data[1][j]])\n",
    "    print \"Dataset No.\", i+1\n",
    "    print pt,'\\n'"
   ]
  },
  {
   "cell_type": "markdown",
   "metadata": {},
   "source": [
    "* Using the numpy function mean, calculate the mean of both x-values and y-values for each dataset.\\"
   ]
  },
  {
   "cell_type": "code",
   "execution_count": 2,
   "metadata": {
    "collapsed": false
   },
   "outputs": [
    {
     "name": "stdout",
     "output_type": "stream",
     "text": [
      "Mean of dataset 1: x=9.000000 , y=7.500909\n",
      "Mean of dataset 2: x=9.000000 , y=7.500909\n",
      "Mean of dataset 3: x=9.000000 , y=7.500000\n",
      "Mean of dataset 4: x=9.000000 , y=7.500909\n"
     ]
    }
   ],
   "source": [
    "import numpy as np\n",
    "\n",
    "for i, data in enumerate(datasets):\n",
    "    print \"Mean of dataset %d: x=%f , y=%f\" % (i+1, np.mean(data[0]), np.mean(data[1]))"
   ]
  },
  {
   "cell_type": "markdown",
   "metadata": {},
   "source": [
    "* Use python string formatting to print precisely two decimal places of these results to the output cell. Check out [this](http://stackoverflow.com/questions/8885663/how-to-format-a-floating-number-to-fixed-width-in-python) stackoverflow page for help with the string formatting."
   ]
  },
  {
   "cell_type": "code",
   "execution_count": 3,
   "metadata": {
    "collapsed": false
   },
   "outputs": [
    {
     "name": "stdout",
     "output_type": "stream",
     "text": [
      "Mean of dataset 1: x=9.00 , y=7.50\n",
      "Mean of dataset 2: x=9.00 , y=7.50\n",
      "Mean of dataset 3: x=9.00 , y=7.50\n",
      "Mean of dataset 4: x=9.00 , y=7.50\n"
     ]
    }
   ],
   "source": [
    "for i, data in enumerate(datasets):\n",
    "    print \"Mean of dataset %d: x=%.2f , y=%.2f\" % (i+1, np.mean(data[0]), np.mean(data[1]))"
   ]
  },
  {
   "cell_type": "markdown",
   "metadata": {},
   "source": [
    "* Now calculate the variance for all of the various sets of x- and y-values (to three decimal places)."
   ]
  },
  {
   "cell_type": "code",
   "execution_count": 4,
   "metadata": {
    "collapsed": false
   },
   "outputs": [
    {
     "name": "stdout",
     "output_type": "stream",
     "text": [
      "Variance of dataset 1: x=10.00 , y=3.75\n",
      "Variance of dataset 2: x=10.00 , y=3.75\n",
      "Variance of dataset 3: x=10.00 , y=3.75\n",
      "Variance of dataset 4: x=10.00 , y=3.75\n"
     ]
    }
   ],
   "source": [
    "for i, data in enumerate(datasets):\n",
    "    print \"Variance of dataset %d: x=%.2f , y=%.2f\" % (i+1, np.var(data[0]), np.var(data[1]))"
   ]
  },
  {
   "cell_type": "markdown",
   "metadata": {},
   "source": [
    "* Use numpy to calculate the [Pearson correlation](https://en.wikipedia.org/wiki/Pearson_product-moment_correlation_coefficient) between x- and y-values for all four data sets (also to three decimal places)."
   ]
  },
  {
   "cell_type": "code",
   "execution_count": 5,
   "metadata": {
    "collapsed": false
   },
   "outputs": [
    {
     "name": "stdout",
     "output_type": "stream",
     "text": [
      "Pearson correlation of dataset 1: 0.898\n",
      "Pearson correlation of dataset 2: 0.898\n",
      "Pearson correlation of dataset 3: 0.898\n",
      "Pearson correlation of dataset 4: 0.898\n"
     ]
    }
   ],
   "source": [
    "def de_mean(x):\n",
    "    x_bar = np.mean(x)\n",
    "    return [x_i - x_bar for x_i in x]\n",
    "\n",
    "def covariance(x, y):\n",
    "    n = len(x)\n",
    "    return np.dot(de_mean(x), de_mean(y)) / (n - 1)\n",
    "\n",
    "#According to Wikipedia's formula:\n",
    "def pearson_correlation(x,y):\n",
    "    return covariance(x,y)/(np.std(x)*np.std(y))\n",
    "\n",
    "for i, data in enumerate(datasets):\n",
    "    print \"Pearson correlation of dataset %d: %.3f\" %(i+1, pearson_correlation(data[0],data[1]))"
   ]
  },
  {
   "cell_type": "markdown",
   "metadata": {},
   "source": [
    "* The next step is use linear regression to fit a straight line $f(x)=ax+b$ through each dataset and report a and b (to two decimal places). An easy way to fit a straight line in Python is using scipy's linregress."
   ]
  },
  {
   "cell_type": "code",
   "execution_count": 6,
   "metadata": {
    "collapsed": false
   },
   "outputs": [
    {
     "name": "stdout",
     "output_type": "stream",
     "text": [
      "The straight line for dataset 1 is f(x)=0.5x+3\n",
      "The straight line for dataset 2 is f(x)=0.5x+3\n",
      "The straight line for dataset 3 is f(x)=0.5x+3\n",
      "The straight line for dataset 4 is f(x)=0.5x+3\n"
     ]
    }
   ],
   "source": [
    "from scipy import stats\n",
    "\n",
    "for i, data in enumerate(datasets):\n",
    "    slope, intercept, r_value, p_value, std_err = stats.linregress(data[0], data[1])\n",
    "    print \"The straight line for dataset %d is f(x)=%.1fx+%d\" % (i+1, slope, intercept)"
   ]
  },
  {
   "cell_type": "markdown",
   "metadata": {},
   "source": [
    "* Finally, it's time to plot the four datasets using matplotlib.pyplot. Use a two-by-two [subplot](http://matplotlib.org/examples/pylab_examples/subplot_demo.html) to put all of the plots nicely in a grid and use the same x and y range for all four plots. And include the linear fit in all four plots. (To get a sense of what I think the plot should look like, you can take a look at my version [here](https://raw.githubusercontent.com/suneman/socialdataanalysis2017/master/files/anscombe.png).)"
   ]
  },
  {
   "cell_type": "code",
   "execution_count": 7,
   "metadata": {
    "collapsed": false
   },
   "outputs": [
    {
     "data": {
      "image/png": "[encoded data removed]",
      "text/plain": [
       "<matplotlib.figure.Figure at 0x10d4ad890>"
      ]
     },
     "metadata": {},
     "output_type": "display_data"
    }
   ],
   "source": [
    "import matplotlib.pyplot as plt\n",
    "\n",
    "plt.figure(figsize=(14,12))\n",
    "for i, data in enumerate(datasets):\n",
    "    slope, intercept, r_value, p_value, std_err = stats.linregress(data[0],data[1])\n",
    "    plt.subplot(2,2,i+1)\n",
    "    plt.plot(data[0],data[1],'k.')\n",
    "    plt.xlabel(\"x\")\n",
    "    plt.ylabel(\"y\")\n",
    "    plt.title(\"Linreg dataset %d\" %(i+1))\n",
    "    x = np.linspace(min(data[0])-1,max(data[0])+1)\n",
    "    y = slope*x+intercept #linear fit\n",
    "    plt.plot(x,y,'b-')\n",
    "plt.show()"
   ]
  },
  {
   "cell_type": "markdown",
   "metadata": {
    "collapsed": true
   },
   "source": [
    "## Part 3: Probability"
   ]
  },
  {
   "cell_type": "code",
   "execution_count": 1,
   "metadata": {
    "collapsed": false
   },
   "outputs": [
    {
     "name": "stdout",
     "output_type": "stream",
     "text": [
      "P(both | older): 0.491138243403\n",
      "P(both | either):  0.329937822463\n"
     ]
    }
   ],
   "source": [
    "import random\n",
    "from __future__ import division\n",
    "\n",
    "def random_kid():\n",
    "    return random.choice([\"boy\", \"girl\"])\n",
    "\n",
    "both_girls = 0\n",
    "older_girl = 0\n",
    "either_girl = 0\n",
    "\n",
    "random.seed(0)\n",
    "for _ in range(10000):\n",
    "    younger = random_kid()\n",
    "    middle = random_kid()\n",
    "    older = random_kid() \n",
    "    \n",
    "    if older == \"girl\":\n",
    "        older_girl += 1\n",
    "    if older == \"girl\" and younger == \"girl\":\n",
    "        both_girls += 1\n",
    "    if older == \"girl\" or younger == \"girl\":\n",
    "        either_girl += 1\n",
    "\n",
    "print \"P(both | older):\", both_girls / older_girl # 0.514 ~ 1/2 \n",
    "print \"P(both | either): \", both_girls / either_girl # 0.342 ~ 1/3"
   ]
  },
  {
   "cell_type": "markdown",
   "metadata": {},
   "source": [
    "Let's imagine a new family with three children. Assuming that each child is equally likely to be a boy or a girl, and that the gender of each subsequent child is independent of the gender its older siblings. Use Python code to answer the following questions.\n",
    "\n",
    "* What is the probability of three girls?\n",
    "* What is the probability of two girls and one boy?\n",
    "* What is the probability of one girl and two boys?\n",
    "* What is the probability of three boys?"
   ]
  },
  {
   "cell_type": "code",
   "execution_count": 8,
   "metadata": {
    "collapsed": false
   },
   "outputs": [
    {
     "name": "stdout",
     "output_type": "stream",
     "text": [
      "P(three girls): 0.0001\n",
      "P(two girls): 0.1252\n",
      "P(one girl): 0.2474\n",
      "P(zero girls):  0.5025\n"
     ]
    }
   ],
   "source": [
    "import random\n",
    "from __future__ import division\n",
    "\n",
    "def random_kid():\n",
    "    return random.choice([\"boy\", \"girl\"])\n",
    "\n",
    "all_girls = 0\n",
    "two_girls = 0\n",
    "one_girl = 0\n",
    "all_boys = 0\n",
    "\n",
    "random.seed(0)\n",
    "for _ in range(10000):\n",
    "    younger = random_kid()\n",
    "    middle = random_kid()\n",
    "    older = random_kid() \n",
    "    \n",
    "    if older == \"girl\" and younger == \"girl\" and middle ==\"girl\":\n",
    "        all_girls += 1\n",
    "    if (older == \"girl\" and younger == \"girl\" and middle == \"boy\") or \\\n",
    "    (older == \"girl\" and middle == \"girl\" and younger == \"boy\") or \\\n",
    "    (middle == \"girl\" and younger == \"girl\" and older == \"boy\"):\n",
    "        two_girls += 1    \n",
    "    if (older == \"girl\" and younger == \"boy\" and middle == \"boy\") or \\\n",
    "    (younger == \"girl\" and middle == \"boy\" and older == \"boy\") or \\\n",
    "    (middle == \"girl\" and younger == \"boy\" and older == \"boy\"):\n",
    "        one_girl += 1 \n",
    "    if older == \"boy\" and younger == \"boy\" and middle ==\"boy\":\n",
    "        all_boys += 1\n",
    "\n",
    "\n",
    "print \"P(all_girls): \", all_girls / 10000 # 1/8 \n",
    "print \"P(two_girls, one_boy): \", two_girls / 10000 # 1/8\n",
    "print \"P(one_girl, two_boys): \", one_girl / 10000 # 1/8\n",
    "print \"P(all_boys): \", all_boys / 10000 # 1/8"
   ]
  },
  {
   "cell_type": "markdown",
   "metadata": {
    "collapsed": true
   },
   "source": [
    "* What is the probability that all children are girls given that the oldest child is a girl?\n",
    "* What is the probability that all children are girls given that one of the children is a girl?"
   ]
  },
  {
   "cell_type": "code",
   "execution_count": 10,
   "metadata": {
    "collapsed": false
   },
   "outputs": [
    {
     "name": "stdout",
     "output_type": "stream",
     "text": [
      "P(all_girls | oldest_girl): 0.256379344987\n",
      "P(all_girls | either_girl): 0.145861911294\n"
     ]
    }
   ],
   "source": [
    "all_girls = 0\n",
    "either_girl = 0\n",
    "oldest_girl = 0\n",
    "\n",
    "for _ in range(10000):\n",
    "    youngest = random_kid()\n",
    "    older = random_kid()\n",
    "    oldest = random_kid()\n",
    "    \n",
    "    if older==\"girl\" and youngest=='girl' and oldest==\"girl\":\n",
    "        all_girls+=1\n",
    "    if oldest==\"girl\":\n",
    "        oldest_girl+=1\n",
    "    if older==\"girl\" or youngest==\"girl\" or oldest==\"girl\":\n",
    "        either_girl+=1\n",
    "        \n",
    "print \"P(all_girls | oldest_girl):\", all_girls / oldest_girl # P(E|F) = P(E,F)/P(F) = 1/(2^3)/(1/2) = (1/2^3)*2 = 1/4 = 0.25\n",
    "print \"P(all_girls | either_girl):\", all_girls / either_girl # P(E|F) = P(E,F)/P(F) = 1/(2^3)/(1-1/2^3) = 1/8 / 7/8 = 1/7"
   ]
  },
  {
   "cell_type": "markdown",
   "metadata": {},
   "source": [
    "## Exercise on central limit theorem"
   ]
  },
  {
   "cell_type": "markdown",
   "metadata": {},
   "source": [
    "*The central limit theorem is fun because we can get Gaussian distributions from probability distributions that are not Gaussian. Let's explore that in the following exercise.*\n",
    "* *Use Python's random module to simulate rolling a fair six-sided die 10 000 000 times.*\n",
    "* *Plot the distribution of dice rolls using a bar-chart.*"
   ]
  },
  {
   "cell_type": "code",
   "execution_count": 15,
   "metadata": {
    "collapsed": false
   },
   "outputs": [
    {
     "data": {
      "image/png": "[encoded data removed]",
      "text/plain": [
       "<matplotlib.figure.Figure at 0x10f453a10>"
      ]
     },
     "metadata": {},
     "output_type": "display_data"
    }
   ],
   "source": [
    "import random as rn\n",
    "from collections import Counter\n",
    "from matplotlib import pyplot as plt\n",
    "\n",
    "results = [rn.choice(range(1,7)) for _ in range(10000000)]\n",
    "results_counter = Counter(results)  \n",
    "\n",
    "plt.figure(figsize=(8,6))\n",
    "x = range(1,7)\n",
    "y = [results_counter[i] for i in results_counter]\n",
    "plt.bar(x,y,align=\"center\")\n",
    "plt.title(\"Dice trials\")\n",
    "plt.ylabel(\"# occurrences\")\n",
    "plt.xlabel(\"Dice Number\")\n",
    "plt.xticks(x)\n",
    "plt.show()"
   ]
  },
  {
   "cell_type": "markdown",
   "metadata": {},
   "source": [
    "* *Now perform a new simulation. Roll a fair six-sided dice 10 times and take the average. Do that 1 000 000 times.*\n",
    "* *Plot the distribution of those average values. This time you can't use counter (since the averages are not integer values). Instead use numpy.histogram to bin those number into 25 bins. What does the numpy.histogram function return? Do the two arrays have the same length?*"
   ]
  },
  {
   "cell_type": "code",
   "execution_count": 26,
   "metadata": {
    "collapsed": false
   },
   "outputs": [
    {
     "name": "stdout",
     "output_type": "stream",
     "text": [
      "Same length: False\n"
     ]
    }
   ],
   "source": [
    "import numpy as np\n",
    "\n",
    "#avg_values = []\n",
    "#for _ in range(1000000):\n",
    "#    sum = 0\n",
    "#    for _ in range(10):\n",
    "#        sum = sum + rn.choice(range(1,7))\n",
    "#    average = sum / 10\n",
    "#    avg_values.append(average)\n",
    "    \n",
    "avg_values = [np.mean([rn.choice(range(1,7)) for _ in range(10)]) for _ in range(1000000)]\n",
    "\n",
    "hist, bin_edges = np.histogram(avg_values,bins=25)\n",
    "print \"Same length:\",len(hist)==len(bin_edges)"
   ]
  },
  {
   "cell_type": "markdown",
   "metadata": {},
   "source": [
    "* *Then let's use matplotlib.pyplot.bar to plot the binned data. You will have to deal with the fact that the counts- and bin-arrays have different lengths. Explain how you deal with this problem and why.*\n",
    "\n",
    "In order to deal with the problem of the different lengths, one solution is to actually create our own bins according to the `bin_edges` obtained with `np.histogram`: to reduce the number from 26 to 25, I can create a new list of bins where the each element (**j**) is obtained as the midpoint between two edges. Then, we say that a specific element **i** in `avg_values` falls inside bin **j** if it's greater than and stricly less than (respectively) the left and right edges of the bin **j**."
   ]
  },
  {
   "cell_type": "code",
   "execution_count": 27,
   "metadata": {
    "collapsed": false
   },
   "outputs": [
    {
     "data": {
      "image/png": "[encoded data removed]",
      "text/plain": [
       "<matplotlib.figure.Figure at 0x10c23fad0>"
      ]
     },
     "metadata": {},
     "output_type": "display_data"
    }
   ],
   "source": [
    "bins = [0]*len(hist) #Initialize new empty list of 25 zeros\n",
    "bin_names = [round((bin_edges[i]+bin_edges[i+1])/2,3) for i in range(len(bin_edges)-1)] #let's keep the bin_names as the midpoint between the two edges\n",
    "\n",
    "for i in range(len(avg_values)):\n",
    "    if avg_values[i]==bin_edges[-1]: #special case: last value of bin_edges\n",
    "            bins[-1]+=1\n",
    "    for j in range(len(bin_edges)-1):\n",
    "        if avg_values[i]>=bin_edges[j] and avg_values[i]<bin_edges[j+1]:\n",
    "            bins[j]+=1\n",
    "            \n",
    "plt.figure(figsize=(8,6))\n",
    "plt.bar(bin_names,bins,align=\"center\",width=0.15,color=\"g\")\n",
    "plt.show()"
   ]
  },
  {
   "cell_type": "markdown",
   "metadata": {},
   "source": [
    "* *Describe the shape of this distribution. Explain in your own words what happened to that flat distribution of die-rolls to suddenly make it Gaussian just by taking some averages.*\n",
    "\n",
    "The explanation lies in the **central limit theorem**: it says (in essence) that a random variable defined as the average of a large number of independent and identically distributed random variables (in our case, the die-roll) is itself approximately normally distributed.\n",
    "\n",
    "* *Calculate the mean $μ$ and standard deviation $σ observed$ of the averaged values. *"
   ]
  },
  {
   "cell_type": "code",
   "execution_count": 28,
   "metadata": {
    "collapsed": false
   },
   "outputs": [
    {
     "name": "stdout",
     "output_type": "stream",
     "text": [
      "Mean: 3.5001274\n",
      "Standard deviation: 0.540080182722\n"
     ]
    }
   ],
   "source": [
    "mean = np.mean(avg_values)\n",
    "std = np.std(avg_values)\n",
    "\n",
    "print \"Mean:\",mean\n",
    "print \"Standard deviation:\",std"
   ]
  },
  {
   "cell_type": "code",
   "execution_count": null,
   "metadata": {
    "collapsed": true
   },
   "outputs": [],
   "source": []
  }
 ],
 "metadata": {
  "kernelspec": {
   "display_name": "Python 2",
   "language": "python",
   "name": "python2"
  },
  "language_info": {
   "codemirror_mode": {
    "name": "ipython",
    "version": 2
   },
   "file_extension": ".py",
   "mimetype": "text/x-python",
   "name": "python",
   "nbconvert_exporter": "python",
   "pygments_lexer": "ipython2",
   "version": "2.7.13"
  }
 },
 "nbformat": 4,
 "nbformat_minor": 2
}
