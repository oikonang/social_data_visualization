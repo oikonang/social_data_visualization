{
 "cells": [
  {
   "cell_type": "markdown",
   "metadata": {},
   "source": [
    "## Part 1: Decision trees (DSFS Chapter 17)"
   ]
  },
  {
   "cell_type": "markdown",
   "metadata": {},
   "source": [
    "> *Exercise: Building the minority report algorithm*\n",
    ">* *Use the category of the crimes (e.g. ASSAULT, LARCENY/THEFT, ...) to build a decision tree that predicts the corresponding district (e.g. TENDERLOIN, MISSION, etc). I recommend useing the DecisionTreeClassifier class in scikit-learn (but you can also try the ID3 tree in the DSFS book - note, though, that this one only does binary classification). For training, use 90% of the data and test the tree prediction on the remaining 10%.*"
   ]
  },
  {
   "cell_type": "code",
   "execution_count": 28,
   "metadata": {
    "collapsed": false
   },
   "outputs": [],
   "source": [
    "import pandas as pd\n",
    "from pandas import DataFrame\n",
    "import operator\n",
    "import numpy as np\n",
    "from sklearn import tree\n",
    "from sklearn.preprocessing import LabelEncoder\n",
    "from sklearn.model_selection import train_test_split\n",
    "from prettytable import PrettyTable\n",
    "import pydot\n",
    "from IPython.display import Image\n",
    "from sklearn.externals.six import StringIO\n",
    "from scipy import misc\n",
    "import io\n",
    "import warnings\n",
    "warnings.filterwarnings(\"ignore\", category=DeprecationWarning) "
   ]
  },
  {
   "cell_type": "code",
   "execution_count": 2,
   "metadata": {
    "collapsed": false
   },
   "outputs": [
    {
     "data": {
      "text/html": [
       "<div>\n",
       "<table border=\"1\" class=\"dataframe\">\n",
       "  <thead>\n",
       "    <tr style=\"text-align: right;\">\n",
       "      <th></th>\n",
       "      <th>IncidntNum</th>\n",
       "      <th>Category</th>\n",
       "      <th>Descript</th>\n",
       "      <th>DayOfWeek</th>\n",
       "      <th>Date</th>\n",
       "      <th>Time</th>\n",
       "      <th>PdDistrict</th>\n",
       "      <th>Resolution</th>\n",
       "      <th>Address</th>\n",
       "      <th>X</th>\n",
       "      <th>Y</th>\n",
       "      <th>Location</th>\n",
       "      <th>PdId</th>\n",
       "    </tr>\n",
       "  </thead>\n",
       "  <tbody>\n",
       "    <tr>\n",
       "      <th>0</th>\n",
       "      <td>150060275</td>\n",
       "      <td>NON-CRIMINAL</td>\n",
       "      <td>LOST PROPERTY</td>\n",
       "      <td>Monday</td>\n",
       "      <td>01/19/2015</td>\n",
       "      <td>14:00</td>\n",
       "      <td>MISSION</td>\n",
       "      <td>NONE</td>\n",
       "      <td>18TH ST / VALENCIA ST</td>\n",
       "      <td>-122.421582</td>\n",
       "      <td>37.761701</td>\n",
       "      <td>(37.7617007179518, -122.42158168137)</td>\n",
       "      <td>15006027571000</td>\n",
       "    </tr>\n",
       "    <tr>\n",
       "      <th>1</th>\n",
       "      <td>150098210</td>\n",
       "      <td>ROBBERY</td>\n",
       "      <td>ROBBERY, BODILY FORCE</td>\n",
       "      <td>Sunday</td>\n",
       "      <td>02/01/2015</td>\n",
       "      <td>15:45</td>\n",
       "      <td>TENDERLOIN</td>\n",
       "      <td>NONE</td>\n",
       "      <td>300 Block of LEAVENWORTH ST</td>\n",
       "      <td>-122.414406</td>\n",
       "      <td>37.784191</td>\n",
       "      <td>(37.7841907151119, -122.414406029855)</td>\n",
       "      <td>15009821003074</td>\n",
       "    </tr>\n",
       "    <tr>\n",
       "      <th>2</th>\n",
       "      <td>150098210</td>\n",
       "      <td>ASSAULT</td>\n",
       "      <td>AGGRAVATED ASSAULT WITH BODILY FORCE</td>\n",
       "      <td>Sunday</td>\n",
       "      <td>02/01/2015</td>\n",
       "      <td>15:45</td>\n",
       "      <td>TENDERLOIN</td>\n",
       "      <td>NONE</td>\n",
       "      <td>300 Block of LEAVENWORTH ST</td>\n",
       "      <td>-122.414406</td>\n",
       "      <td>37.784191</td>\n",
       "      <td>(37.7841907151119, -122.414406029855)</td>\n",
       "      <td>15009821004014</td>\n",
       "    </tr>\n",
       "    <tr>\n",
       "      <th>3</th>\n",
       "      <td>150098210</td>\n",
       "      <td>SECONDARY CODES</td>\n",
       "      <td>DOMESTIC VIOLENCE</td>\n",
       "      <td>Sunday</td>\n",
       "      <td>02/01/2015</td>\n",
       "      <td>15:45</td>\n",
       "      <td>TENDERLOIN</td>\n",
       "      <td>NONE</td>\n",
       "      <td>300 Block of LEAVENWORTH ST</td>\n",
       "      <td>-122.414406</td>\n",
       "      <td>37.784191</td>\n",
       "      <td>(37.7841907151119, -122.414406029855)</td>\n",
       "      <td>15009821015200</td>\n",
       "    </tr>\n",
       "    <tr>\n",
       "      <th>4</th>\n",
       "      <td>150098226</td>\n",
       "      <td>VANDALISM</td>\n",
       "      <td>MALICIOUS MISCHIEF, VANDALISM OF VEHICLES</td>\n",
       "      <td>Tuesday</td>\n",
       "      <td>01/27/2015</td>\n",
       "      <td>19:00</td>\n",
       "      <td>NORTHERN</td>\n",
       "      <td>NONE</td>\n",
       "      <td>LOMBARD ST / LAGUNA ST</td>\n",
       "      <td>-122.431119</td>\n",
       "      <td>37.800469</td>\n",
       "      <td>(37.8004687042875, -122.431118543788)</td>\n",
       "      <td>15009822628160</td>\n",
       "    </tr>\n",
       "  </tbody>\n",
       "</table>\n",
       "</div>"
      ],
      "text/plain": [
       "   IncidntNum         Category                                   Descript  \\\n",
       "0   150060275     NON-CRIMINAL                              LOST PROPERTY   \n",
       "1   150098210          ROBBERY                      ROBBERY, BODILY FORCE   \n",
       "2   150098210          ASSAULT       AGGRAVATED ASSAULT WITH BODILY FORCE   \n",
       "3   150098210  SECONDARY CODES                          DOMESTIC VIOLENCE   \n",
       "4   150098226        VANDALISM  MALICIOUS MISCHIEF, VANDALISM OF VEHICLES   \n",
       "\n",
       "  DayOfWeek        Date   Time  PdDistrict Resolution  \\\n",
       "0    Monday  01/19/2015  14:00     MISSION       NONE   \n",
       "1    Sunday  02/01/2015  15:45  TENDERLOIN       NONE   \n",
       "2    Sunday  02/01/2015  15:45  TENDERLOIN       NONE   \n",
       "3    Sunday  02/01/2015  15:45  TENDERLOIN       NONE   \n",
       "4   Tuesday  01/27/2015  19:00    NORTHERN       NONE   \n",
       "\n",
       "                       Address           X          Y  \\\n",
       "0        18TH ST / VALENCIA ST -122.421582  37.761701   \n",
       "1  300 Block of LEAVENWORTH ST -122.414406  37.784191   \n",
       "2  300 Block of LEAVENWORTH ST -122.414406  37.784191   \n",
       "3  300 Block of LEAVENWORTH ST -122.414406  37.784191   \n",
       "4       LOMBARD ST / LAGUNA ST -122.431119  37.800469   \n",
       "\n",
       "                                Location            PdId  \n",
       "0   (37.7617007179518, -122.42158168137)  15006027571000  \n",
       "1  (37.7841907151119, -122.414406029855)  15009821003074  \n",
       "2  (37.7841907151119, -122.414406029855)  15009821004014  \n",
       "3  (37.7841907151119, -122.414406029855)  15009821015200  \n",
       "4  (37.8004687042875, -122.431118543788)  15009822628160  "
      ]
     },
     "execution_count": 2,
     "metadata": {},
     "output_type": "execute_result"
    }
   ],
   "source": [
    "# Load it into a Dataframe using pandas\n",
    "path = '../data/sfpd_incidents.csv'\n",
    "df = pd.read_csv(path)\n",
    "df.head()"
   ]
  },
  {
   "cell_type": "code",
   "execution_count": 3,
   "metadata": {
    "collapsed": false
   },
   "outputs": [],
   "source": [
    "# Keep only data used for decision tree\n",
    "df_tree = df.filter(items = ['Category', 'PdDistrict'])"
   ]
  },
  {
   "cell_type": "code",
   "execution_count": 4,
   "metadata": {
    "collapsed": false
   },
   "outputs": [],
   "source": [
    "# Encode categorical variables to digits\n",
    "le = LabelEncoder()\n",
    "X = le.fit_transform(df_tree['Category'])  \n",
    "Y = le.fit_transform(df_tree['PdDistrict'])"
   ]
  },
  {
   "cell_type": "code",
   "execution_count": 5,
   "metadata": {
    "collapsed": false
   },
   "outputs": [],
   "source": [
    "# Split training and testing data \n",
    "X_train, X_test, Y_train, Y_test = train_test_split(X, Y, test_size=0.1, random_state=0)"
   ]
  },
  {
   "cell_type": "code",
   "execution_count": 6,
   "metadata": {
    "collapsed": false
   },
   "outputs": [],
   "source": [
    "#Train the decision tree classifier\n",
    "clf = tree.DecisionTreeClassifier()\n",
    "#The scikit-learn fit function needs a list of lists as input even if the nested lists have length 1\n",
    "clf = clf.fit(X_train[:,None], Y_train[:,None])\n",
    "# Predict the testing features\n",
    "pred = clf.predict(X_test[:,None])"
   ]
  },
  {
   "cell_type": "markdown",
   "metadata": {},
   "source": [
    "We re-convert the numerical values of Y_test and pred to categorical, since we'll need them for the next step."
   ]
  },
  {
   "cell_type": "code",
   "execution_count": 7,
   "metadata": {
    "collapsed": false
   },
   "outputs": [],
   "source": [
    "pred = le.inverse_transform(pred)\n",
    "Y_test_inv = le.inverse_transform(Y_test)"
   ]
  },
  {
   "cell_type": "markdown",
   "metadata": {},
   "source": [
    ">* *What is the fraction of correct predictions?*"
   ]
  },
  {
   "cell_type": "markdown",
   "metadata": {},
   "source": [
    "Let's create a function to compare the actual values with the predicted values and calculate the fraction of correct predictions as the ratio between the number of correct predictions and the length of the test set:"
   ]
  },
  {
   "cell_type": "code",
   "execution_count": 8,
   "metadata": {
    "collapsed": true
   },
   "outputs": [],
   "source": [
    "#Given the Y_test vector, the pred vector and the name of the predicted label, calculate the correctness ratio\n",
    "def calculate_ratio(Y_test,pred,label,district_name=None):\n",
    "    #Support dataframe with columns to compare\n",
    "    df_predictions = DataFrame(np.column_stack([Y_test,pred]),columns=[label+'_Real',label+'_Pred'])\n",
    "    total = len(df_predictions.index)\n",
    "    \n",
    "    #Calculate ratio\n",
    "    num_correct_predictions = len(df_predictions[df_predictions[label+'_Real']==df_predictions[label+'_Pred']].index)\n",
    "    ratio = num_correct_predictions*100.0/total\n",
    "    district = '' if district_name==None else 'for district '+district_name\n",
    "    print 'Fraction of correct predictions %s: %.2f%%' %(district,ratio)"
   ]
  },
  {
   "cell_type": "markdown",
   "metadata": {},
   "source": [
    "And calculate the correctness ratio of our first prediction:"
   ]
  },
  {
   "cell_type": "code",
   "execution_count": 9,
   "metadata": {
    "collapsed": false,
    "scrolled": true
   },
   "outputs": [
    {
     "name": "stdout",
     "output_type": "stream",
     "text": [
      "Fraction of correct predictions : 20.24%\n"
     ]
    }
   ],
   "source": [
    "calculate_ratio(Y_test_inv,pred,'PdDistrict')"
   ]
  },
  {
   "cell_type": "markdown",
   "metadata": {},
   "source": [
    "The same fraction can be calculated by the **score** module of sklearn"
   ]
  },
  {
   "cell_type": "code",
   "execution_count": 10,
   "metadata": {
    "collapsed": false
   },
   "outputs": [
    {
     "name": "stdout",
     "output_type": "stream",
     "text": [
      "Fraction of correct predictions : 20.24%\n"
     ]
    }
   ],
   "source": [
    "print 'Fraction of correct predictions : %.2f%%' % (clf.score(X_test[:,None],Y_test[:,None])*100)"
   ]
  },
  {
   "cell_type": "markdown",
   "metadata": {},
   "source": [
    ">* *What are the correct predictions if you restrict the training/prediction to single districts (for example, predicting Mission vs. all other districts, etc)?*"
   ]
  },
  {
   "cell_type": "markdown",
   "metadata": {
    "collapsed": true
   },
   "source": [
    "We're supposed to perform a Binary Classification, by picking one district (e.g. MISSION) and labeling all other districts as NOT MISSION. Therefore, we'll have only two values for the labels (ideally 0 and 1, that's why binary)."
   ]
  },
  {
   "cell_type": "code",
   "execution_count": 11,
   "metadata": {
    "collapsed": false
   },
   "outputs": [
    {
     "name": "stdout",
     "output_type": "stream",
     "text": [
      "+------------+----------+\n",
      "|  District  | Fraction |\n",
      "+------------+----------+\n",
      "|  CENTRAL   |  89.98%  |\n",
      "|  NORTHERN  |  87.77%  |\n",
      "|  SOUTHERN  |  81.99%  |\n",
      "|    PARK    |  94.36%  |\n",
      "|  MISSION   |  86.58%  |\n",
      "| TENDERLOIN |  91.12%  |\n",
      "|  RICHMOND  |  94.73%  |\n",
      "|  TARAVAL   |  92.44%  |\n",
      "| INGLESIDE  |  91.05%  |\n",
      "|  BAYVIEW   |  89.93%  |\n",
      "+------------+----------+\n"
     ]
    }
   ],
   "source": [
    "# Fit all districts into a list of unique districts and exclude nan districts\n",
    "districts = list(set(df_tree['PdDistrict']))[1:]\n",
    "\n",
    "#Function to get the binary representation of a specific value\n",
    "def get_binary_repr(value,district):\n",
    "    if value==district:\n",
    "        return district\n",
    "    return 'NOT'+district\n",
    "\n",
    "# Initiate PrettyTable\n",
    "x = PrettyTable(field_names=['District','Fraction'])\n",
    "for district in districts:\n",
    "    df_binary_districts = df_tree\n",
    "    df_binary_districts['PdDistrict_Bin'] = df_binary_districts['PdDistrict'].apply(lambda x: get_binary_repr(x,district))\n",
    "\n",
    "    # Split training and testing data (N.B. X is the same as before)\n",
    "    Y_new = df_binary_districts['PdDistrict_Bin']\n",
    "    Y_new = le.fit_transform(Y_new)\n",
    "    X_train, X_test, Y_train, Y_test = train_test_split(X, Y_new, test_size=0.1, random_state=0)\n",
    "    \n",
    "    #Train classifier and predict\n",
    "    clf = tree.DecisionTreeClassifier()\n",
    "    clf = clf.fit(X_train[:,None], Y_train[:,None])\n",
    "\n",
    "    #Calculate fraction of correct predictions\n",
    "    x.add_row([district,str(clf.score(X_test[:,None],Y_test[:,None])*100)[:5]+'%'])\n",
    "    \n",
    "print x"
   ]
  },
  {
   "cell_type": "markdown",
   "metadata": {},
   "source": [
    "In light of the above results, we could definitely say that reducing the problem to a binary classification problem makes more sense in terms of correct predictions."
   ]
  },
  {
   "cell_type": "markdown",
   "metadata": {},
   "source": [
    "> * *Compare it to the random guess, what would you get if you'd guess a district randomly?*"
   ]
  },
  {
   "cell_type": "code",
   "execution_count": null,
   "metadata": {
    "collapsed": true
   },
   "outputs": [],
   "source": []
  },
  {
   "cell_type": "markdown",
   "metadata": {},
   "source": [
    "> * *And if you'd guess always one of the districts (for example the district with the most crimes)?*"
   ]
  },
  {
   "cell_type": "code",
   "execution_count": null,
   "metadata": {
    "collapsed": true
   },
   "outputs": [],
   "source": []
  },
  {
   "cell_type": "markdown",
   "metadata": {},
   "source": [
    "> * *Now, add the day of the week to the features, do any of the performance measures improve?*"
   ]
  },
  {
   "cell_type": "code",
   "execution_count": 12,
   "metadata": {
    "collapsed": false
   },
   "outputs": [
    {
     "data": {
      "text/html": [
       "<div>\n",
       "<table border=\"1\" class=\"dataframe\">\n",
       "  <thead>\n",
       "    <tr style=\"text-align: right;\">\n",
       "      <th></th>\n",
       "      <th>Category</th>\n",
       "      <th>DayOfWeek</th>\n",
       "      <th>PdDistrict</th>\n",
       "    </tr>\n",
       "  </thead>\n",
       "  <tbody>\n",
       "    <tr>\n",
       "      <th>0</th>\n",
       "      <td>NON-CRIMINAL</td>\n",
       "      <td>Monday</td>\n",
       "      <td>MISSION</td>\n",
       "    </tr>\n",
       "    <tr>\n",
       "      <th>1</th>\n",
       "      <td>ROBBERY</td>\n",
       "      <td>Sunday</td>\n",
       "      <td>TENDERLOIN</td>\n",
       "    </tr>\n",
       "    <tr>\n",
       "      <th>2</th>\n",
       "      <td>ASSAULT</td>\n",
       "      <td>Sunday</td>\n",
       "      <td>TENDERLOIN</td>\n",
       "    </tr>\n",
       "    <tr>\n",
       "      <th>3</th>\n",
       "      <td>SECONDARY CODES</td>\n",
       "      <td>Sunday</td>\n",
       "      <td>TENDERLOIN</td>\n",
       "    </tr>\n",
       "    <tr>\n",
       "      <th>4</th>\n",
       "      <td>VANDALISM</td>\n",
       "      <td>Tuesday</td>\n",
       "      <td>NORTHERN</td>\n",
       "    </tr>\n",
       "  </tbody>\n",
       "</table>\n",
       "</div>"
      ],
      "text/plain": [
       "          Category DayOfWeek  PdDistrict\n",
       "0     NON-CRIMINAL    Monday     MISSION\n",
       "1          ROBBERY    Sunday  TENDERLOIN\n",
       "2          ASSAULT    Sunday  TENDERLOIN\n",
       "3  SECONDARY CODES    Sunday  TENDERLOIN\n",
       "4        VANDALISM   Tuesday    NORTHERN"
      ]
     },
     "execution_count": 12,
     "metadata": {},
     "output_type": "execute_result"
    }
   ],
   "source": [
    "# Keep only data used for decision tree\n",
    "df_tree_day = df.filter(items = ['Category', 'DayOfWeek', 'PdDistrict'])\n",
    "df_tree_day.head()"
   ]
  },
  {
   "cell_type": "code",
   "execution_count": 13,
   "metadata": {
    "collapsed": false
   },
   "outputs": [],
   "source": [
    "#Encode categorical variables to digits\n",
    "le = LabelEncoder()\n",
    "X_1 = le.fit_transform(df_tree_day['Category'])\n",
    "X_2 = le.fit_transform(df_tree_day['DayOfWeek'])  \n",
    "Y = le.fit_transform(df_tree_day['PdDistrict'])"
   ]
  },
  {
   "cell_type": "code",
   "execution_count": 14,
   "metadata": {
    "collapsed": true
   },
   "outputs": [],
   "source": [
    "# Split training and testing data \n",
    "X_train, X_test, Y_train, Y_test = train_test_split(np.column_stack((X_1,X_2)), Y, test_size=0.1, random_state=0)"
   ]
  },
  {
   "cell_type": "code",
   "execution_count": 15,
   "metadata": {
    "collapsed": false
   },
   "outputs": [
    {
     "name": "stdout",
     "output_type": "stream",
     "text": [
      "Fraction of correct predictions : 18.82%\n"
     ]
    }
   ],
   "source": [
    "#Train the decision tree classifier\n",
    "clf = tree.DecisionTreeClassifier(criterion='gini', min_samples_split=2, max_leaf_nodes=5)\n",
    "#The scikit-learn fit function needs a list of lists as input even if the nested lists have length 1\n",
    "clf = clf.fit(X_train, Y_train[:,None])\n",
    "print 'Fraction of correct predictions : %.2f%%' % (clf.score(X_test,Y_test[:,None])*100)"
   ]
  },
  {
   "cell_type": "markdown",
   "metadata": {},
   "source": [
    "We see that by adding one more features in the classifier there is no improvement in the score of the prediction. The actual score is **20.24%** but it is decreased because of the limit we give to the maximum number of leaves of the tree for the proceeding visualization."
   ]
  },
  {
   "cell_type": "markdown",
   "metadata": {},
   "source": [
    "> * *OPTIONAL: Visualize the tree so that you can see what it actually does! For visualization, you can use the export_graphviz method of scikit-learn and then convert the .dot file to a PDF.*"
   ]
  },
  {
   "cell_type": "code",
   "execution_count": 16,
   "metadata": {
    "collapsed": false
   },
   "outputs": [
    {
     "data": {
      "image/png": "[encoded data removed]",
      "text/plain": [
       "<IPython.core.display.Image object>"
      ]
     },
     "execution_count": 16,
     "metadata": {},
     "output_type": "execute_result"
    }
   ],
   "source": [
    "def show_tree(decisionTree):\n",
    "    dot_data = StringIO()  \n",
    "    tree.export_graphviz(decisionTree, out_file=dot_data)  \n",
    "    graph = pydot.graph_from_dot_data(dot_data.getvalue())[0]\n",
    "    return Image(graph.create_png()) \n",
    "    \n",
    "show_tree(clf)"
   ]
  },
  {
   "cell_type": "markdown",
   "metadata": {},
   "source": [
    ">* *As you might see in the visualization, the tree runs out of possible feature values to check before refining the decision. Try increasing the number of features: add part of the day (night=0-5, morning=6-10, midday=11-14, afternoon=15-17, evening=18-23). Is it better? What is the problem we're solving by breaking the day into parts rather than raw hour values?*"
   ]
  },
  {
   "cell_type": "code",
   "execution_count": 17,
   "metadata": {
    "collapsed": false
   },
   "outputs": [],
   "source": [
    "# Extract hour from time\n",
    "def getHour(time):\n",
    "    return int(time.split(':')[0])\n",
    "\n",
    "# Assign label to a range of hours\n",
    "def getPeriod(hour):\n",
    "    if hour >= 0 and hour <= 5:\n",
    "        return 'night'\n",
    "    if hour >= 6 and hour <= 10:\n",
    "        return 'morning'\n",
    "    if hour >= 11 and hour <= 14:\n",
    "        return 'midday'\n",
    "    if hour >= 15 and hour <= 17:\n",
    "        return 'afternoon'\n",
    "    if hour >= 18 and hour <= 23:\n",
    "        return 'evening'\n",
    "\n",
    "# Add 'Hour' column\n",
    "df['Hour']= df['Time'].apply(lambda x: getHour(x))\n",
    "# Add 'Period' column\n",
    "df['Period'] = df['Hour'].apply(lambda x: getPeriod(x))"
   ]
  },
  {
   "cell_type": "code",
   "execution_count": 18,
   "metadata": {
    "collapsed": false
   },
   "outputs": [
    {
     "data": {
      "text/html": [
       "<div>\n",
       "<table border=\"1\" class=\"dataframe\">\n",
       "  <thead>\n",
       "    <tr style=\"text-align: right;\">\n",
       "      <th></th>\n",
       "      <th>Category</th>\n",
       "      <th>DayOfWeek</th>\n",
       "      <th>Period</th>\n",
       "      <th>PdDistrict</th>\n",
       "    </tr>\n",
       "  </thead>\n",
       "  <tbody>\n",
       "    <tr>\n",
       "      <th>0</th>\n",
       "      <td>NON-CRIMINAL</td>\n",
       "      <td>Monday</td>\n",
       "      <td>midday</td>\n",
       "      <td>MISSION</td>\n",
       "    </tr>\n",
       "    <tr>\n",
       "      <th>1</th>\n",
       "      <td>ROBBERY</td>\n",
       "      <td>Sunday</td>\n",
       "      <td>afternoon</td>\n",
       "      <td>TENDERLOIN</td>\n",
       "    </tr>\n",
       "    <tr>\n",
       "      <th>2</th>\n",
       "      <td>ASSAULT</td>\n",
       "      <td>Sunday</td>\n",
       "      <td>afternoon</td>\n",
       "      <td>TENDERLOIN</td>\n",
       "    </tr>\n",
       "    <tr>\n",
       "      <th>3</th>\n",
       "      <td>SECONDARY CODES</td>\n",
       "      <td>Sunday</td>\n",
       "      <td>afternoon</td>\n",
       "      <td>TENDERLOIN</td>\n",
       "    </tr>\n",
       "    <tr>\n",
       "      <th>4</th>\n",
       "      <td>VANDALISM</td>\n",
       "      <td>Tuesday</td>\n",
       "      <td>evening</td>\n",
       "      <td>NORTHERN</td>\n",
       "    </tr>\n",
       "  </tbody>\n",
       "</table>\n",
       "</div>"
      ],
      "text/plain": [
       "          Category DayOfWeek     Period  PdDistrict\n",
       "0     NON-CRIMINAL    Monday     midday     MISSION\n",
       "1          ROBBERY    Sunday  afternoon  TENDERLOIN\n",
       "2          ASSAULT    Sunday  afternoon  TENDERLOIN\n",
       "3  SECONDARY CODES    Sunday  afternoon  TENDERLOIN\n",
       "4        VANDALISM   Tuesday    evening    NORTHERN"
      ]
     },
     "execution_count": 18,
     "metadata": {},
     "output_type": "execute_result"
    }
   ],
   "source": [
    "# Keep only data used for decision tree\n",
    "df_tree_day_hour = df.filter(items = ['Category', 'DayOfWeek', 'Period', 'PdDistrict'])\n",
    "df_tree_day_hour.head()"
   ]
  },
  {
   "cell_type": "code",
   "execution_count": 19,
   "metadata": {
    "collapsed": false
   },
   "outputs": [],
   "source": [
    "#Encode categorical variables to digits\n",
    "le1 = LabelEncoder()\n",
    "le2 = LabelEncoder()\n",
    "le3 = LabelEncoder()\n",
    "le4 = LabelEncoder()\n",
    "X_1 = le1.fit_transform(df_tree_day_hour['Category'])\n",
    "X_2 = le2.fit_transform(df_tree_day_hour['DayOfWeek'])  \n",
    "X_3 = le3.fit_transform(df_tree_day_hour['Period'])\n",
    "Y = le4.fit_transform(df_tree_day_hour['PdDistrict'])"
   ]
  },
  {
   "cell_type": "code",
   "execution_count": 20,
   "metadata": {
    "collapsed": false
   },
   "outputs": [
    {
     "data": {
      "text/plain": [
       "array(['NON-CRIMINAL', 'ROBBERY', 'ASSAULT', ..., 'MISSING PERSON',\n",
       "       'NON-CRIMINAL', 'NON-CRIMINAL'], dtype=object)"
      ]
     },
     "execution_count": 20,
     "metadata": {},
     "output_type": "execute_result"
    }
   ],
   "source": [
    "le1.inverse_transform(X_1)"
   ]
  },
  {
   "cell_type": "code",
   "execution_count": 21,
   "metadata": {
    "collapsed": false
   },
   "outputs": [],
   "source": [
    "# Split training and testing data \n",
    "X_train, X_test, Y_train, Y_test = train_test_split(np.column_stack((X_1,X_2,X_3)), Y, test_size=0.1, random_state=0)"
   ]
  },
  {
   "cell_type": "code",
   "execution_count": 22,
   "metadata": {
    "collapsed": false
   },
   "outputs": [
    {
     "name": "stdout",
     "output_type": "stream",
     "text": [
      "Fraction of correct predictions : 20.37%\n"
     ]
    }
   ],
   "source": [
    "#Train the decision tree classifier\n",
    "clf = tree.DecisionTreeClassifier(criterion='gini', min_samples_split=2)#max_leaf_nodes=5\n",
    "#The scikit-learn fit function needs a list of lists as input even if the nested lists have length 1\n",
    "clf = clf.fit(X_train, Y_train[:,None])\n",
    "print 'Fraction of correct predictions : %.2f%%' % (clf.score(X_test,Y_test[:,None])*100)"
   ]
  },
  {
   "cell_type": "markdown",
   "metadata": {},
   "source": [
    "We split the hours into buckets in order to minimize the range of the column and eventually, improve the performance of the classifier. After fitting the classifier with the new feature, there was a small improvement(+0.13%) but nothing that important to rely on.\n"
   ]
  },
  {
   "cell_type": "markdown",
   "metadata": {},
   "source": [
    ">* *Let's try some examples to see if the algorithm is working.*"
   ]
  },
  {
   "cell_type": "markdown",
   "metadata": {},
   "source": [
    "Before running the examples we should map the encoded values in order to be sure that we try to predict the right crimes."
   ]
  },
  {
   "cell_type": "code",
   "execution_count": 25,
   "metadata": {
    "collapsed": false
   },
   "outputs": [],
   "source": [
    "def mapper(column,encoder,data):\n",
    "    dict_temp = {}\n",
    "    # Initiate PrettyTable\n",
    "    table = PrettyTable(field_names=[column,'Mapping_Index'])\n",
    "\n",
    "    for i,item in enumerate(encoder.inverse_transform(data)):\n",
    "        dict_temp[item]=data[i]\n",
    "\n",
    "    # Sort dictionary by value\n",
    "    sorted_dict = sorted(dict_temp.items(), key=operator.itemgetter(1))\n",
    "\n",
    "    # Fit the Pretty Table\n",
    "    for i in sorted_dict:\n",
    "        table.add_row([i[0],i[1]])\n",
    "    return '--------%s Mapper--------\\n%s' % (column,table)"
   ]
  },
  {
   "cell_type": "code",
   "execution_count": 26,
   "metadata": {
    "collapsed": false
   },
   "outputs": [
    {
     "name": "stdout",
     "output_type": "stream",
     "text": [
      "--------Category Mapper--------\n",
      "+-----------------------------+---------------+\n",
      "|           Category          | Mapping_Index |\n",
      "+-----------------------------+---------------+\n",
      "|            ARSON            |       0       |\n",
      "|           ASSAULT           |       1       |\n",
      "|          BAD CHECKS         |       2       |\n",
      "|           BRIBERY           |       3       |\n",
      "|           BURGLARY          |       4       |\n",
      "|      DISORDERLY CONDUCT     |       5       |\n",
      "| DRIVING UNDER THE INFLUENCE |       6       |\n",
      "|        DRUG/NARCOTIC        |       7       |\n",
      "|         DRUNKENNESS         |       8       |\n",
      "|         EMBEZZLEMENT        |       9       |\n",
      "|          EXTORTION          |       10      |\n",
      "|       FAMILY OFFENSES       |       11      |\n",
      "|    FORGERY/COUNTERFEITING   |       12      |\n",
      "|            FRAUD            |       13      |\n",
      "|           GAMBLING          |       14      |\n",
      "|          KIDNAPPING         |       15      |\n",
      "|        LARCENY/THEFT        |       16      |\n",
      "|         LIQUOR LAWS         |       17      |\n",
      "|          LOITERING          |       18      |\n",
      "|        MISSING PERSON       |       19      |\n",
      "|         NON-CRIMINAL        |       20      |\n",
      "|        OTHER OFFENSES       |       21      |\n",
      "|   PORNOGRAPHY/OBSCENE MAT   |       22      |\n",
      "|         PROSTITUTION        |       23      |\n",
      "|      RECOVERED VEHICLE      |       24      |\n",
      "|           ROBBERY           |       25      |\n",
      "|           RUNAWAY           |       26      |\n",
      "|       SECONDARY CODES       |       27      |\n",
      "|    SEX OFFENSES, FORCIBLE   |       28      |\n",
      "|  SEX OFFENSES, NON FORCIBLE |       29      |\n",
      "|       STOLEN PROPERTY       |       30      |\n",
      "|           SUICIDE           |       31      |\n",
      "|        SUSPICIOUS OCC       |       32      |\n",
      "|             TREA            |       33      |\n",
      "|           TRESPASS          |       34      |\n",
      "|          VANDALISM          |       35      |\n",
      "|        VEHICLE THEFT        |       36      |\n",
      "|           WARRANTS          |       37      |\n",
      "|         WEAPON LAWS         |       38      |\n",
      "+-----------------------------+---------------+\n",
      "--------DayOfWeek Mapper--------\n",
      "+-----------+---------------+\n",
      "| DayOfWeek | Mapping_Index |\n",
      "+-----------+---------------+\n",
      "|   Friday  |       0       |\n",
      "|   Monday  |       1       |\n",
      "|  Saturday |       2       |\n",
      "|   Sunday  |       3       |\n",
      "|  Thursday |       4       |\n",
      "|  Tuesday  |       5       |\n",
      "| Wednesday |       6       |\n",
      "+-----------+---------------+\n",
      "--------Period Mapper--------\n",
      "+-----------+---------------+\n",
      "|   Period  | Mapping_Index |\n",
      "+-----------+---------------+\n",
      "| afternoon |       0       |\n",
      "|  evening  |       1       |\n",
      "|   midday  |       2       |\n",
      "|  morning  |       3       |\n",
      "|   night   |       4       |\n",
      "+-----------+---------------+\n",
      "--------PdDistrict Mapper--------\n",
      "+------------+---------------+\n",
      "| PdDistrict | Mapping_Index |\n",
      "+------------+---------------+\n",
      "|    nan     |       0       |\n",
      "|  BAYVIEW   |       1       |\n",
      "|  CENTRAL   |       2       |\n",
      "| INGLESIDE  |       3       |\n",
      "|  MISSION   |       4       |\n",
      "|  NORTHERN  |       5       |\n",
      "|    PARK    |       6       |\n",
      "|  RICHMOND  |       7       |\n",
      "|  SOUTHERN  |       8       |\n",
      "|  TARAVAL   |       9       |\n",
      "| TENDERLOIN |       10      |\n",
      "+------------+---------------+\n"
     ]
    }
   ],
   "source": [
    "# Print all mapping tables\n",
    "print mapper('Category',le1,X_1)\n",
    "print mapper('DayOfWeek',le2,X_2)\n",
    "print mapper('Period',le3,X_3)\n",
    "print mapper('PdDistrict',le4,Y)"
   ]
  },
  {
   "cell_type": "markdown",
   "metadata": {},
   "source": [
    "Now that we know exactly what values to add on the **predict** module, we can proceed with the following."
   ]
  },
  {
   "cell_type": "markdown",
   "metadata": {},
   "source": [
    ">* *There is a new crime (prositution) on Monday 10pm. What are the three most likely districts?*"
   ]
  },
  {
   "cell_type": "code",
   "execution_count": 34,
   "metadata": {
    "collapsed": false
   },
   "outputs": [
    {
     "name": "stdout",
     "output_type": "stream",
     "text": [
      "[4]\n"
     ]
    }
   ],
   "source": [
    "print clf.predict([23,1,3])"
   ]
  },
  {
   "cell_type": "code",
   "execution_count": null,
   "metadata": {
    "collapsed": true
   },
   "outputs": [],
   "source": [
    "The above means that "
   ]
  },
  {
   "cell_type": "markdown",
   "metadata": {},
   "source": [
    ">* *Also find the most likely districts for a gambling on Wednesday 1pm.*"
   ]
  },
  {
   "cell_type": "code",
   "execution_count": null,
   "metadata": {
    "collapsed": true
   },
   "outputs": [],
   "source": []
  },
  {
   "cell_type": "markdown",
   "metadata": {},
   "source": [
    ">* *And also try out an arson case on Sunday 7am?*"
   ]
  },
  {
   "cell_type": "code",
   "execution_count": null,
   "metadata": {
    "collapsed": true
   },
   "outputs": [],
   "source": []
  },
  {
   "cell_type": "markdown",
   "metadata": {},
   "source": [
    ">* *It's unlikely that the classifier overfits in our case. Explain why.*"
   ]
  },
  {
   "cell_type": "code",
   "execution_count": null,
   "metadata": {
    "collapsed": true
   },
   "outputs": [],
   "source": []
  }
 ],
 "metadata": {
  "hide_input": false,
  "kernelspec": {
   "display_name": "Python 2",
   "language": "python",
   "name": "python2"
  },
  "language_info": {
   "codemirror_mode": {
    "name": "ipython",
    "version": 2
   },
   "file_extension": ".py",
   "mimetype": "text/x-python",
   "name": "python",
   "nbconvert_exporter": "python",
   "pygments_lexer": "ipython2",
   "version": "2.7.12"
  },
  "latex_envs": {
   "LaTeX_envs_menu_present": true,
   "bibliofile": "biblio.bib",
   "cite_by": "apalike",
   "current_citInitial": 1,
   "eqLabelWithNumbers": true,
   "eqNumInitial": 1,
   "hotkeys": {
    "equation": "Ctrl-E",
    "itemize": "Ctrl-I"
   },
   "labels_anchors": false,
   "latex_user_defs": false,
   "report_style_numbering": false,
   "user_envs_cfg": false
  }
 },
 "nbformat": 4,
 "nbformat_minor": 1
}
