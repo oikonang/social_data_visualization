{
 "cells": [
  {
   "cell_type": "markdown",
   "metadata": {},
   "source": [
    "# The python exercises\n",
    "\n",
    "**Ex 0**: The Jupyter Notebooks are organized as a list of cells. There are two central kinds of cells, they are called **Code** and **Markdown**. The cell type can be set [using a keyboard shortcut](http://sowingseasons.com/blog/jupyter-keyboard-shortcuts.html), or using the menu above.\n",
    "\n",
    "The **Code** cells simply contain the Python code, no big deal.\n",
    "\n",
    "The **Markdown** cells contain text (explanations, sections, etc). The text is written in Markdown. Markdown allows you to write using an easy-to-read, easy-to-write plain text format, then convert it to structurally valid XHTML (or HTML). You can read about it here:\n",
    "\n",
    "http://daringfireball.net/projects/markdown/\n",
    "\n",
    "In the cell below, write a short text that demonstrates that you can\n",
    "* Create a section\n",
    "* Write words in bold and italics\n",
    "* Create lists\n",
    "* Establish a [hyperlink](https://en.wikipedia.org/wiki/Hyperlink)"
   ]
  },
  {
   "cell_type": "markdown",
   "metadata": {},
   "source": [
    "**Ex 0**:  Random texts\n",
    "\n",
    "* list 1\n",
    "* list 2\n",
    "\n",
    "[personal website](https://oikonang.github.io/)"
   ]
  },
  {
   "cell_type": "markdown",
   "metadata": {},
   "source": [
    "**Ex 1**: Create a list `a` that contains the numbers from $1$ to $1110$, incremented by one, using the `range` function."
   ]
  },
  {
   "cell_type": "code",
   "execution_count": 4,
   "metadata": {
    "collapsed": false
   },
   "outputs": [],
   "source": [
    "a = [i for i in range(1111)]"
   ]
  },
  {
   "cell_type": "markdown",
   "metadata": {},
   "source": [
    "**Ex 2**: Show that you understand [slicing](http://stackoverflow.com/questions/509211/explain-pythons-slice-notation) in Python by extracting a list `b` with the numbers from $543$ to $779$ from the list created above."
   ]
  },
  {
   "cell_type": "code",
   "execution_count": 8,
   "metadata": {
    "collapsed": false
   },
   "outputs": [],
   "source": [
    "b = a[543:780]"
   ]
  },
  {
   "cell_type": "markdown",
   "metadata": {},
   "source": [
    "**Ex 3**: Using `def`, define a function that takes as input a number $x$ and outputs the number multiplied by itself plus three $f(x) = x(x+3)$. "
   ]
  },
  {
   "cell_type": "code",
   "execution_count": 12,
   "metadata": {
    "collapsed": false
   },
   "outputs": [],
   "source": [
    "def function_1(x):\n",
    "    return x*(x+3)"
   ]
  },
  {
   "cell_type": "markdown",
   "metadata": {},
   "source": [
    "**Ex 4**: Apply this function to every element of the list `b` using a `for` loop. "
   ]
  },
  {
   "cell_type": "code",
   "execution_count": 18,
   "metadata": {
    "collapsed": false
   },
   "outputs": [],
   "source": [
    "for item in b:\n",
    "    function_1(item)   "
   ]
  },
  {
   "cell_type": "markdown",
   "metadata": {},
   "source": [
    "**Ex 5**: Do the same thing using a list comprehension."
   ]
  },
  {
   "cell_type": "code",
   "execution_count": 17,
   "metadata": {
    "collapsed": false
   },
   "outputs": [
    {
     "name": "stdout",
     "output_type": "stream",
     "text": [
      "[296478, 297568, 298660, 299754, 300850, 301948, 303048, 304150, 305254, 306360, 307468, 308578, 309690, 310804, 311920, 313038, 314158, 315280, 316404, 317530, 318658, 319788, 320920, 322054, 323190, 324328, 325468, 326610, 327754, 328900, 330048, 331198, 332350, 333504, 334660, 335818, 336978, 338140, 339304, 340470, 341638, 342808, 343980, 345154, 346330, 347508, 348688, 349870, 351054, 352240, 353428, 354618, 355810, 357004, 358200, 359398, 360598, 361800, 363004, 364210, 365418, 366628, 367840, 369054, 370270, 371488, 372708, 373930, 375154, 376380, 377608, 378838, 380070, 381304, 382540, 383778, 385018, 386260, 387504, 388750, 389998, 391248, 392500, 393754, 395010, 396268, 397528, 398790, 400054, 401320, 402588, 403858, 405130, 406404, 407680, 408958, 410238, 411520, 412804, 414090, 415378, 416668, 417960, 419254, 420550, 421848, 423148, 424450, 425754, 427060, 428368, 429678, 430990, 432304, 433620, 434938, 436258, 437580, 438904, 440230, 441558, 442888, 444220, 445554, 446890, 448228, 449568, 450910, 452254, 453600, 454948, 456298, 457650, 459004, 460360, 461718, 463078, 464440, 465804, 467170, 468538, 469908, 471280, 472654, 474030, 475408, 476788, 478170, 479554, 480940, 482328, 483718, 485110, 486504, 487900, 489298, 490698, 492100, 493504, 494910, 496318, 497728, 499140, 500554, 501970, 503388, 504808, 506230, 507654, 509080, 510508, 511938, 513370, 514804, 516240, 517678, 519118, 520560, 522004, 523450, 524898, 526348, 527800, 529254, 530710, 532168, 533628, 535090, 536554, 538020, 539488, 540958, 542430, 543904, 545380, 546858, 548338, 549820, 551304, 552790, 554278, 555768, 557260, 558754, 560250, 561748, 563248, 564750, 566254, 567760, 569268, 570778, 572290, 573804, 575320, 576838, 578358, 579880, 581404, 582930, 584458, 585988, 587520, 589054, 590590, 592128, 593668, 595210, 596754, 598300, 599848, 601398, 602950, 604504, 606060, 607618, 609178]\n"
     ]
    }
   ],
   "source": [
    "c = [function_1(item) for item in b]"
   ]
  },
  {
   "cell_type": "markdown",
   "metadata": {},
   "source": [
    "**Ex 6**: Write the output of your function to a text file with one number per line."
   ]
  },
  {
   "cell_type": "code",
   "execution_count": 20,
   "metadata": {
    "collapsed": true
   },
   "outputs": [],
   "source": [
    "with open('output_1.txt', 'w') as output_file:\n",
    "    for item in c:\n",
    "        output_file.write(\"%s\\n\" % item)"
   ]
  },
  {
   "cell_type": "markdown",
   "metadata": {},
   "source": [
    "**Ex 7**: Show that you know about strings using this example from http://learnpythonthehardway.org/book/ex6.html (code reproduced below).\n",
    "\n",
    "1. Go through the code below and write a code comment above each line explaining it.\n",
    "1. Find all the places where a string is put inside a string. There are four places.\n",
    "1. Are you sure there are only four places? How do you know? Maybe I like lying.\n",
    "1. Explain why adding the two strings w and e with + makes a longer string.\n",
    "\n",
    "\n",
    "[**Hint**: If you feel this is too complex, try completing the prior learningthehardway exercises first. Start [here](http://learnpythonthehardway.org/book/ex1.html). "
   ]
  },
  {
   "cell_type": "code",
   "execution_count": 1,
   "metadata": {
    "collapsed": false
   },
   "outputs": [
    {
     "name": "stdout",
     "output_type": "stream",
     "text": [
      "There are 10 types of people.\n",
      "Those who know binary and those who don't.\n",
      "I said: 'There are 10 types of people.'.\n",
      "I also said: 'Those who know binary and those who don't.'.\n",
      "Isn't that joke so funny?! False\n",
      "This is the left side of...a string with a right side.\n"
     ]
    }
   ],
   "source": [
    "# Note from Sune: In Python, code comments follow the \"#\" character\n",
    "\n",
    "# %d is a reference to the digit that comes after the % \n",
    "# %s is a reference to a string that comes after the %\n",
    "x = \"There are %d types of people.\" % 10\n",
    "binary = \"binary\"\n",
    "do_not = \"don't\"\n",
    "y = \"Those who know %s and those who %s.\" % (binary, do_not)\n",
    "\n",
    "print x\n",
    "print y\n",
    "\n",
    "# %r means row and gives the same result as '%s' inside a string\n",
    "print \"I said: %r.\" % x\n",
    "print \"I also said: '%s'.\" % y\n",
    "\n",
    "hilarious = False\n",
    "joke_evaluation = \"Isn't that joke so funny?! %r\"\n",
    "\n",
    "# The same as before. The row takes the False argument\n",
    "print joke_evaluation % hilarious\n",
    "\n",
    "w = \"This is the left side of...\"\n",
    "e = \"a string with a right side.\"\n",
    "\n",
    "# Add two strings together\n",
    "print w + e"
   ]
  },
  {
   "cell_type": "markdown",
   "metadata": {},
   "source": [
    "*[Write the answer to **Ex 7**, 2-4 here]*\n",
    "\n",
    "1. done\n",
    "2. done\n",
    "3. done\n",
    "4. It adds two variables of the same type(string) together"
   ]
  },
  {
   "cell_type": "markdown",
   "metadata": {},
   "source": [
    "**Ex 8**: First, learn about JSON by reading the **[wikipedia page](https://en.wikipedia.org/wiki/JSON)**. Then answer the following two questions in the cell below. \n",
    "\n",
    "* What is `json`? What do the letters stand for?\n",
    "* Why is `json` superior to `xml`? (... or why not?)"
   ]
  },
  {
   "cell_type": "markdown",
   "metadata": {},
   "source": [
    "*[Write your answer to **Ex 8** here]*\n",
    "\n",
    "1. JSON is a file data format. The letters stand for  (JavaScript Object Notation)\n",
    "2. It is not superior. It serves the cause of this course because it is the most common data format for asynchronous browser/server communication."
   ]
  },
  {
   "cell_type": "markdown",
   "metadata": {},
   "source": [
    "**Ex 9a**: Use the `json` module (instructions on usage here: https://docs.python.org/2.7/library/json.html). \n",
    "\n",
    "First use `urllib2` (https://docs.python.org/2.7/howto/urllib2.html), or another Python library, to download **[this file](https://raw.githubusercontent.com/suneman/socialgraphs2016/master/files/test.json)**. \n",
    "\n",
    "The downloaded file is a string when you first download it, but you can use the `json` library to \"load\" the string and decode it to a Python object, using `json.loads()`. (The decoded string is a python object, a list with a single element, a dictionary (with nested dictionaries inside it))."
   ]
  },
  {
   "cell_type": "code",
   "execution_count": 24,
   "metadata": {
    "collapsed": true
   },
   "outputs": [],
   "source": [
    "import urllib2\n",
    "\n",
    "response = urllib2.urlopen('https://raw.githubusercontent.com/suneman/socialgraphs2016/master/files/test.json')\n",
    "the_page = response.read()"
   ]
  },
  {
   "cell_type": "code",
   "execution_count": 27,
   "metadata": {
    "collapsed": false
   },
   "outputs": [],
   "source": [
    "import json\n",
    "\n",
    "json_page = json.loads(the_page)"
   ]
  },
  {
   "cell_type": "markdown",
   "metadata": {},
   "source": [
    "**Ex 9b**: Now, let's take a look at the file you downloaded. First, just write the name of the variable that contains the decoded file content and hit enter to take a look at it. It's  the list of Twitter Trending topics, a few days ago."
   ]
  },
  {
   "cell_type": "code",
   "execution_count": 28,
   "metadata": {
    "collapsed": false
   },
   "outputs": [
    {
     "data": {
      "text/plain": [
       "[{u'as_of': u'2015-08-24T08:36:54Z',\n",
       "  u'created_at': u'2015-08-24T08:32:44Z',\n",
       "  u'locations': [{u'name': u'Denmark', u'woeid': 23424796}],\n",
       "  u'trends': [{u'name': u'#rfcvff',\n",
       "    u'promoted_content': None,\n",
       "    u'query': u'%23rfcvff',\n",
       "    u'url': u'http://twitter.com/search?q=%23rfcvff'},\n",
       "   {u'name': u'#EFBFCM',\n",
       "    u'promoted_content': None,\n",
       "    u'query': u'%23EFBFCM',\n",
       "    u'url': u'http://twitter.com/search?q=%23EFBFCM'},\n",
       "   {u'name': u'#bifsje',\n",
       "    u'promoted_content': None,\n",
       "    u'query': u'%23bifsje',\n",
       "    u'url': u'http://twitter.com/search?q=%23bifsje'},\n",
       "   {u'name': u'nordstrand',\n",
       "    u'promoted_content': None,\n",
       "    u'query': u'nordstrand',\n",
       "    u'url': u'http://twitter.com/search?q=nordstrand'},\n",
       "   {u'name': u'#WhyILoveLiam',\n",
       "    u'promoted_content': None,\n",
       "    u'query': u'%23WhyILoveLiam',\n",
       "    u'url': u'http://twitter.com/search?q=%23WhyILoveLiam'},\n",
       "   {u'name': u'#lv2015',\n",
       "    u'promoted_content': None,\n",
       "    u'query': u'%23lv2015',\n",
       "    u'url': u'http://twitter.com/search?q=%23lv2015'},\n",
       "   {u'name': u'Harald Nielsen',\n",
       "    u'promoted_content': None,\n",
       "    u'query': u'%22Harald+Nielsen%22',\n",
       "    u'url': u'http://twitter.com/search?q=%22Harald+Nielsen%22'},\n",
       "   {u'name': u'Fnatic',\n",
       "    u'promoted_content': None,\n",
       "    u'query': u'Fnatic',\n",
       "    u'url': u'http://twitter.com/search?q=Fnatic'},\n",
       "   {u'name': u'Nash',\n",
       "    u'promoted_content': None,\n",
       "    u'query': u'Nash',\n",
       "    u'url': u'http://twitter.com/search?q=Nash'},\n",
       "   {u'name': u'kjeldsen',\n",
       "    u'promoted_content': None,\n",
       "    u'query': u'kjeldsen',\n",
       "    u'url': u'http://twitter.com/search?q=kjeldsen'}]}]"
      ]
     },
     "execution_count": 28,
     "metadata": {},
     "output_type": "execute_result"
    }
   ],
   "source": [
    "json_page"
   ]
  },
  {
   "cell_type": "markdown",
   "metadata": {},
   "source": [
    "**Ex 9c**: The thing you've just decoded is now a list of length 1. What are the names of the keys organizing the dictionary at position 0 in the list? (Just write the code to produce the answer.) \n",
    "\n",
    "**Hint** use the `.keys()` method to easily get the keys of any dictionary."
   ]
  },
  {
   "cell_type": "code",
   "execution_count": 31,
   "metadata": {
    "collapsed": false
   },
   "outputs": [
    {
     "data": {
      "text/plain": [
       "[u'locations', u'created_at', u'trends', u'as_of']"
      ]
     },
     "execution_count": 31,
     "metadata": {},
     "output_type": "execute_result"
    }
   ],
   "source": [
    "for i in json_page:\n",
    "    key_list = i.keys()\n",
    "\n",
    "key_list"
   ]
  },
  {
   "cell_type": "markdown",
   "metadata": {},
   "source": [
    "**Ex 9d**: Two small questions \n",
    "* What time did I create the list of Trending Topics?\n",
    "* Print the names of the trending topics (bonus for using a list comprehension)\n",
    "\n",
    "(Just write the code to produce the answer.)"
   ]
  },
  {
   "cell_type": "code",
   "execution_count": 41,
   "metadata": {
    "collapsed": false
   },
   "outputs": [
    {
     "name": "stdout",
     "output_type": "stream",
     "text": [
      "Date : 2015-08-24T08:32:44Z\n",
      "Names : [u'#rfcvff', u'#EFBFCM', u'#bifsje', u'nordstrand', u'#WhyILoveLiam', u'#lv2015', u'Harald Nielsen', u'Fnatic', u'Nash', u'kjeldsen'] \n"
     ]
    }
   ],
   "source": [
    "for i in json_page:\n",
    "    print \"Date : %s\" % i['created_at']\n",
    "    print \"Names : %s \" % [item['name'] for item in i['trends']]"
   ]
  },
  {
   "cell_type": "markdown",
   "metadata": {},
   "source": [
    "**Ex 9e**: Two more small questions\n",
    "* Go on-line and figure out why there's a `u` in front of every string. Write the answer in your own words. (Hint it has to do with strings in Python).\n",
    "* What's going on with all of the `%22` and `%23`? Go on-line and figure it out. Write the answer in your own words. (Hint: It has to do with HTML URL encoding)"
   ]
  },
  {
   "cell_type": "markdown",
   "metadata": {},
   "source": [
    "*[Write your answer to **Ex 9e** here]*"
   ]
  },
  {
   "cell_type": "markdown",
   "metadata": {
    "collapsed": true
   },
   "source": [
    "1. Unicode\n",
    "2. After a url call, the python interpreter translated some characters with %22 and %23"
   ]
  },
  {
   "cell_type": "code",
   "execution_count": null,
   "metadata": {
    "collapsed": true
   },
   "outputs": [],
   "source": []
  }
 ],
 "metadata": {
  "anaconda-cloud": {},
  "kernelspec": {
   "display_name": "Python 2",
   "language": "python",
   "name": "python2"
  },
  "language_info": {
   "codemirror_mode": {
    "name": "ipython",
    "version": 2
   },
   "file_extension": ".py",
   "mimetype": "text/x-python",
   "name": "python",
   "nbconvert_exporter": "python",
   "pygments_lexer": "ipython2",
   "version": "2.7.12"
  }
 },
 "nbformat": 4,
 "nbformat_minor": 0
}
