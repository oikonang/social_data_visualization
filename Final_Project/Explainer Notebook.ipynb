{
 "cells": [
  {
   "cell_type": "markdown",
   "metadata": {},
   "source": [
    "# Explainer Notebook"
   ]
  },
  {
   "cell_type": "markdown",
   "metadata": {},
   "source": [
    "To keep this notebook short, readable and informative we decided not to include any code in it. You are encouraged to visit the 3 notebooks in which the analysis has been performed, accompanied by commented code.\n",
    "\n",
    "1. [Preliminary Analysis](http://nbviewer.jupyter.org/github/oikonang/social_data_visualization/blob/master/Final_Project/Preliminary%20Analysis.ipynb)\n",
    "2. [Analysis of House Requests and 311 Efficiency](http://nbviewer.jupyter.org/github/oikonang/social_data_visualization/blob/master/Final_Project/Analysis%20of%20House%20Complaints%20and%20311%20Efficiency.ipynb)\n",
    "3. [Analysis of Noise Complaints](http://nbviewer.jupyter.org/github/oikonang/social_data_visualization/blob/master/Final_Project/Analysis%20of%20Noise%20Complaints.ipynb)"
   ]
  },
  {
   "cell_type": "markdown",
   "metadata": {},
   "source": [
    "## Motivation\n",
    "#### What is your dataset?\n",
    "Our dataset gathers 311 Service Request in the city of New York from 2010 to present. 311 is an American phone number designed to access non-emergency government services(as opposed to 911). Some examples of its usage are: Noise Complaints, Problems with Heating/Hot Water, Illegal Parking reporting.\n",
    "\n",
    "#### Why did you choose this/these particular dataset(s)?\n",
    "We chose this dataset because of its interesting nature. This service allows us to get a direct point of view on New Yorkers' lifestyle: we can get information on their noisy behaviour or on their houses' unsanitary conditions, for instance. We can then look at it from a geographical point of view and gain insights about New York City and its different areas.\n",
    "\n",
    "This curated dataset did not need any articulated cleaning process and it had a satisfactory amount of entries. After cleaning the initial file, we had more than 7 million entries to work with.\n",
    "\n",
    "#### What was your goal for the end user's experience?\n",
    "Our goal was to make the user explore this interesting dataset and to get him to know better New York City in the process, as we did. \n",
    "\n",
    "We focused on two main things: Noise and House complaints, as they were the most fascinating complaint types, being also the ones with the highest amount of observations."
   ]
  },
  {
   "cell_type": "markdown",
   "metadata": {},
   "source": [
    "## Basic stats. Let's understand the dataset better\n",
    "Please refer to the notebook [Preliminary Analysis](http://nbviewer.jupyter.org/github/oikonang/social_data_visualization/blob/master/Final_Project/Preliminary%20Analysis.ipynb).\n",
    "\n",
    "#### Write about your choices in data cleaning and preprocessing\n",
    "The original file was ~7GB in size when downloaded. \n",
    "\n",
    "The first step was to remove null values. Then, out of the 53 original columns, we only kept the 7 ones useful for our analysis, including:\n",
    "* Created Date\n",
    "* Closed Date\n",
    "* Complaint Type\n",
    "* Borough\n",
    "* District\n",
    "* Longitude\n",
    "* Latitude\n",
    "\n",
    "Finally, we removed entries that presented these criteria, considering them as outliers:\n",
    "* Outside the 2010 - 2017 timeframe\n",
    "* Negative call duration \n",
    "* 'Unspecified' Borough/Neighborood\n",
    "\n",
    "After these operations, we obtained a cleaned file of size ~1GB.\n",
    "\n",
    "<!---\n",
    "\n",
    "For the two main branches of our analysis we performed filtering on the Complaint Type.\n",
    "\n",
    "In the analysis of Noise Complaints we only focused on the 5 most frequent noise types, i.e:\n",
    "* 'Noise - Park'\n",
    "* 'Noise - Vehicle'\n",
    "* 'Noise - Commercial'\n",
    "* 'Noise - Street/Sidewalk'\n",
    "* 'Noise - Residential'\n",
    "\n",
    "In the analysis of House Requests we focused only on these complaints:\n",
    "* 'HEAT/HOT WATER'\n",
    "* 'PLUMBING'\n",
    "* 'GENERAL CONSTRUCTION'\n",
    "* 'UNSANITARY CONDITION'\n",
    "* 'PAINT/PLASTER'\n",
    "* 'ELECTRIC'\n",
    "* 'DOOR/WINDOW'\n",
    "* 'WATER LEAK'\n",
    "* 'FLOORING/STAIRS'\n",
    "* 'APPLIANCE'\n",
    "-->"
   ]
  },
  {
   "cell_type": "markdown",
   "metadata": {},
   "source": [
    "#### Write a short section that discusses the dataset stats\n",
    "Let's start by giving general statistics about the dataset.\n",
    "\n",
    "In the cleaned file, we can count 7 343 313 entries. The complaints are labeled with 559 unique categories.\n",
    "\n",
    "The most frequent complaints are:\n",
    "    1. 'Noise - Residential' (921 438)\n",
    "    2. 'HEAT/HOT WATER' (666 588)\n",
    "    3. 'HEATING' (518 605)\n",
    "    4. 'Blocked Driveway' (425 798)\n",
    "    5. 'PLUMBING' (364 728)\n",
    "\n",
    "This is the distribution of 311 requests over the years:\n",
    "![311 calls over the years](pics/callsoveryears.png)\n",
    "We can see from this histogram an ever increasing amount of 311 requests over the years. This is probably due to the fact that people are getting more and more confident with the service. Also, the ability of quickly submitting a complaint through the website/mobile app must have contributed in increasing the amount of requests.\n",
    "\n",
    "This is the average time to resolution of 311 requests over the years:\n",
    "![Time to resolution over the years](pics/ttroveryears.png)\n",
    "We can notice from this plot that 311 efficiency in dealing with requests/complaints has been improving consistently over the years. This can again be attributed to the changes in the service over the time. In fact, we can infer that while in early years requests were in lower amount and of greater \"importance\", in more recent years they have taken the form of reports that you do through an app, for example to signal blocked driveway or dead animal removal. "
   ]
  },
  {
   "cell_type": "markdown",
   "metadata": {},
   "source": [
    "## Theory. Which theoretical tools did you use?\n",
    "Please refer to the notebooks [Analysis of House Requests and 311 Efficiency](http://nbviewer.jupyter.org/github/oikonang/social_data_visualization/blob/master/Final_Project/Analysis%20of%20House%20Complaints%20and%20311%20Efficiency.ipynb) and [Analysis of Noise Complaints](http://nbviewer.jupyter.org/github/oikonang/social_data_visualization/blob/master/Final_Project/Analysis%20of%20Noise%20Complaints.ipynb)."
   ]
  },
  {
   "cell_type": "markdown",
   "metadata": {},
   "source": [
    "#### Talk about your model selection.\n",
    "We built two models, one related to House Complaints and the other to Noise Complaints.\n",
    "\n",
    "To select our model we first explored the dataset looking for apparent correlations, in order to select our features. These are the steps we followed in the analysis of the House Complaints:\n",
    "\n",
    "1\\. We plotted the frequency of the different complaint types over the years.\n",
    "![House complaints over the years](pics/housecompoveryears.png)\n",
    "\n",
    "\n",
    "2\\. We plotted the frequency of the different complaint types across the hours of the day.\n",
    "![House complaints over the day](pics/housecompoverday.png)\n",
    "\n",
    "\n",
    "3\\. We plotted the frequency of the different complaint types across the months of the year.\n",
    "![House complaints over the months](pics/housecompovermonths.png)\n",
    "\n",
    "\n",
    "4\\. We plotted the average time to resolution per complaint type over the years.\n",
    "![House complaints over the months](pics/ttrperhousecomp.png)\n",
    "\n",
    "\n",
    "5\\. We plotted the ratio between P(complaint type | district) and P(complaint) per district.\n",
    "![Ratio per house complaint per district](pics/houseratioperdistrict.png)\n",
    "\n",
    "\n",
    "After this exploration, we decided to choose as features of our model the **month** and the **part of the day**. The third chosen feature is the **neighborood** of New York City, considered more relevant than the simple borough. What we try to predict is the **_complaint type_**, given these three variables.\n",
    "\n",
    "\n",
    "We followed a similar procedure to build the model for the Noise Complaints, it can be read in the respective notebook. At the end of the exploration, we identified as features the **latitude** and **longitude** of the complaints and we tried to predict the **_complaint type_**."
   ]
  },
  {
   "cell_type": "markdown",
   "metadata": {},
   "source": [
    "#### Describe which machine learning tools you use and why the tools you've chosen are right for the problem you're solving.\n",
    "Among the different tools at our disposal, we chose to use Decision Tree Classifiers and KNN Classifiers. We also made use of K-Means clustering.\n",
    "\n",
    "A Decision Tree is the proper type of classifier, since a classification problem comes natural with the nature of the data set. The lack of clear and ready to use continuous variables prevents us to consider regression as a reasonable machine learning task for our project, therefore we kept sticking with classification. Decision Trees, furthermore, create distinguishments between classes according to specific boundaries on the values of the variables.\n",
    "\n",
    "KNN Classifier also fits very well our analysis. The features that have been taken into consideration for this classification task are Latitude and Longitude (coordinates of points on earth), therefore a 2-dimensional matrix of features is optimal for KNN, since the distance metric is Euclidean. Ideally, the KNN Classifier will classify points according to the class of the K nearest neighbors, and it makes sense that, in a city like New York, observation points that are close to each other tend to identify similar complaint types."
   ]
  },
  {
   "cell_type": "markdown",
   "metadata": {},
   "source": [
    "#### How did you split the data into test/training. Did you use cross validation? Explain the model performance. How did you measure it? Are your results what you expected?\n",
    "Decision Trees: the dataset has been split in training and test sets (90% and 10%); the performance of the classifier has been evaluated without cross validation, according to the test error. The results are somehow as expected but it's clear that none of the features give a strong contribution to the model performance, probably because the size of the dataset doesn't help to provide very high generalizable results.\n",
    "\n",
    "\n",
    "KNN classifier: the model has been fit with 100% training set, therefore no test set has been included and the performance of the classifier is evaluated according to the training error. It's hard to state that the obtained results are as expected, since the considered noise complaints are quite spread all over the city, while a good KNN model would perform better if the considered data points tend to spread over different well defined areas/districts."
   ]
  },
  {
   "cell_type": "markdown",
   "metadata": {},
   "source": [
    "## Visualizations\n",
    "#### Explain the visualizations you've chosen.\n",
    "We have implemented four D3 visualizations.\n",
    "\n",
    "1. **Exploration of the dataset**. In this visualization, clicking on a location of NYC will make the map zoom on the corresponding neighborood. A tooltip will provide information about its name, the total number of complaints and the most frequent complaint type.\n",
    "\n",
    "2. **Prediction of House complaint type**. The user can choose from 3 dropdown menus the preferred combination District/Month/Part of the day, to see the 3 most likely house complaint. (Results from Decision Tree)\n",
    "\n",
    "3. **K-Means clustering of Unsanitary Conditions complaints**. The user can choose with a slider the value of K to see the clustering.\n",
    "\n",
    "4. **Prediction of Noise complaint type**. The user can hover anywhere on NYC map and a tooltip shows the most likely noise complaint in that location. The point targeted by the mouse will be colored according to the complaint type. (Result of KNN classification)\n",
    "\n",
    "#### Why are they right for the story you want to tell?\n"
   ]
  },
  {
   "cell_type": "markdown",
   "metadata": {},
   "source": [
    "## Discussion. Think critically about your creation\n",
    "#### What went well?\n",
    "We could successfully manage to build some prediction models, thanks to the skills we've gained throughout the course. We're satisfied as well for combining machine learning with visualizations and be able to provide the users nice ways to explore the data set and better understand it (after all, this was our main concern from the beginning and we put most of the effort in trying to provide reasonable and easily understandable results). We tried to realize clear and efficient visualizations, but at the same time to keep them simple, since ideally an untrained user should be able to understand and go through them without any effort.\n",
    "\n",
    "#### What is still missing? What could be improved?, Why?\n",
    "We wanted to investigate a third branch in our analysis, related to Street Complaints, like 'Blocked Driveway' or 'Illegal Parking'. We could have combined our dataset with the one related to New York's traffic. We haven't done it because of time constraint. A further data exploration and eventually feature transformations might have provided ways to achieve better results in the classification tasks.\n",
    "\n",
    "Our visualizations work as expected but they could be further tweaked, making transitions smoother for example. This was also not done because of time."
   ]
  }
 ],
 "metadata": {
  "anaconda-cloud": {},
  "kernelspec": {
   "display_name": "Python [Root]",
   "language": "python",
   "name": "Python [Root]"
  },
  "language_info": {
   "codemirror_mode": {
    "name": "ipython",
    "version": 2
   },
   "file_extension": ".py",
   "mimetype": "text/x-python",
   "name": "python",
   "nbconvert_exporter": "python",
   "pygments_lexer": "ipython2",
   "version": "2.7.12"
  }
 },
 "nbformat": 4,
 "nbformat_minor": 2
}
