{
 "cells": [
  {
   "cell_type": "markdown",
   "metadata": {},
   "source": [
    "# Explainer Notebook"
   ]
  },
  {
   "cell_type": "markdown",
   "metadata": {},
   "source": [
    "To keep this notebook short, readable and informative we decided not to include any code in it. You are encouraged to visit the 3 notebooks in which the analysis has been performed, accompanied by commented code."
   ]
  },
  {
   "cell_type": "markdown",
   "metadata": {},
   "source": [
    "## Motivation\n",
    "#### What is your dataset?\n",
    "Our dataset gathers 311 Service Request in the city of New York from 2010 to present. 311 is an American phone number designed to access non-emergency government services(as opposed to 911). Some examples of its usage are: Noise Complaints, Problems with Heating/Hot Water, Illegal Parking reporting.\n",
    "\n",
    "#### Why did you choose this/these particular dataset(s)?\n",
    "We chose this dataset because of its interesting nature. This service allows us to get a direct point of view on New Yorkers' lifestyle: we can get information on their noisy behaviour or on their houses' unsanitary conditions, for instance. We can then look at it from a geographical point of view and gain insights about New York City and its different areas.\n",
    "\n",
    "This curated dataset did not need any articulated cleaning process and it had a satisfactory amount of entries. After cleaning the initial file, we had more than 7 million entries to work with.\n",
    "\n",
    "#### What was your goal for the end user's experience?\n",
    "Our goal was to make the user explore this interesting dataset and to get him to know better New York City in the process, as we did. \n",
    "\n",
    "We focused on two main things: Noise and House complaints, as they were the most fascinating complaint types, being also the ones with the highest amount of observations."
   ]
  },
  {
   "cell_type": "markdown",
   "metadata": {},
   "source": [
    "## Basic stats. Let's understand the dataset better\n",
    "Please refer to the notebook 'Preliminary Data Analysis'.\n",
    "\n",
    "#### Write about your choices in data cleaning and preprocessing\n",
    "The original file was ~7GB in size when downloaded. \n",
    "\n",
    "The first step was to remove null values. Then, out of the 53 original columns, we only kept the 12 ones useful for our analysis, including:\n",
    "* Created Date\n",
    "* Closed Date\n",
    "* Complaint Type\n",
    "* Borough\n",
    "* Longitude\n",
    "* Latitude\n",
    "\n",
    "Finally, we removed entries that presented these criteria, considering them as outliers:\n",
    "* Outside the 2010 - 2017 timeframe\n",
    "* Negative Call duration \n",
    "* 'Unspecified' Borough\n",
    "\n",
    "After these operations, we obtained a cleaned file of size ~1GB.\n",
    "<!---\n",
    "---\n",
    "\n",
    "For the two main branches of our analysis we performed filtering on the Complaint Type.\n",
    "\n",
    "In the analysis of Noise Complaints we only focused on the 5 most frequent noise types, i.e:\n",
    "* 'Noise - Park'\n",
    "* 'Noise - Vehicle'\n",
    "* 'Noise - Commercial'\n",
    "* 'Noise - Street/Sidewalk'\n",
    "* 'Noise - Residential'\n",
    "\n",
    "In the analysis of House Requests we focused only on these complaints:\n",
    "* 'HEAT/HOT WATER'\n",
    "* 'PLUMBING'\n",
    "* 'GENERAL CONSTRUCTION'\n",
    "* 'UNSANITARY CONDITION'\n",
    "* 'PAINT/PLASTER'\n",
    "* 'ELECTRIC'\n",
    "* 'DOOR/WINDOW'\n",
    "* 'WATER LEAK'\n",
    "* 'FLOORING/STAIRS'\n",
    "* 'APPLIANCE'\n",
    "-->"
   ]
  },
  {
   "cell_type": "markdown",
   "metadata": {},
   "source": [
    "#### Write a short section that discusses the dataset stats\n",
    "Let's start by giving general statistics about the dataset.\n",
    "\n",
    "In the cleaned file, we can count 7 343 313 entries. The complaints are labeled with 559 unique categories.\n",
    "\n",
    "The most frequent complaints are:\n",
    "    1. 'Noise - Residential' (921 438)\n",
    "    2. 'HEAT/HOT WATER' (666 588)\n",
    "    3. 'HEATING' (518 605)\n",
    "    4. 'Blocked Driveway' (425 798)\n",
    "    5. 'PLUMBING' (364 728)\n",
    "\n",
    "This is the distribution of 311 requests over the years:\n",
    "(Include Image)\n",
    "We can notice a peak in 2015. We also notice that in 2016 we can observe less requests than in 2014.  \n",
    "\n",
    "Average time to resolution of 311 calls over the years:\n",
    "(Iclude Image)\n",
    "We can notice from this instogram that 311 efficiency in dealing with requests/complaints has been improving consistently over the years."
   ]
  },
  {
   "cell_type": "markdown",
   "metadata": {},
   "source": [
    "## Theory. Which theoretical tools did you use?\n",
    "Please refer to the notebooks Analysis of Noise Complaints and Analysis of House Requests.\n",
    "\n",
    "#### Describe which machine learning tools you use and why the tools you've chosen are right for the problem you're solving.\n",
    "House:\n",
    "- Decision Tree Classifier\n",
    "- KNN Classifier\n"
   ]
  },
  {
   "cell_type": "markdown",
   "metadata": {},
   "source": [
    "#### Talk about your model selection. How did you split the data in to test/training. Did you use cross validation?\n",
    "We built two models, one related to Noise Complaints and the other related to House Complaints.\n",
    "\n",
    "To select our model we first explored the dataset looking for apparent correlations, in order to select our features. These are the steps we followed in the analysis of the House complaints:\n",
    "1. We plotted the frequency of the different complaint types over the years.\n",
    "\n",
    "2. We plotted the frequency of the different complaints type over the hours of the day.\n",
    "\n",
    "3. We plotted the frequency of the different Complaint types over the months. (interesting -> features)\n",
    "(Include Image)\n"
   ]
  },
  {
   "cell_type": "markdown",
   "metadata": {},
   "source": [
    "#### Explain the model performance. How did you measure it? Are your results what you expected?\n"
   ]
  },
  {
   "cell_type": "markdown",
   "metadata": {},
   "source": [
    "## Visualizations\n",
    "#### Explain the visualizations you've chosen.\n",
    "We chose to implement 3 visualizations.\n",
    "1. Exploration of the dataset. In this visualization, clicking on neighborood of NYC will show information about its name, the total number of complaints and the most frequent complaint type.\n",
    "2. Noise: hover anywhere on NYC map and a tooltip shows the most likely noise complaint in that location, according to KNN classification\n",
    "* House: choose combination District/Month/Time and see most likely house complaint, according to Decision Tree Classifier\n",
    "* House: choose and K value to see K-Means clustering of Unsanitary Conditions\n",
    "\n",
    "#### Why are they right for the story you want to tell?"
   ]
  },
  {
   "cell_type": "markdown",
   "metadata": {},
   "source": [
    "## Discussion. Think critically about your creation\n",
    "#### What went well?,\n",
    "#### What is still missing? What could be improved?, Why?"
   ]
  },
  {
   "cell_type": "code",
   "execution_count": null,
   "metadata": {
    "collapsed": true
   },
   "outputs": [],
   "source": []
  }
 ],
 "metadata": {
  "kernelspec": {
   "display_name": "Python 2",
   "language": "python",
   "name": "python2"
  },
  "language_info": {
   "codemirror_mode": {
    "name": "ipython",
    "version": 2
   },
   "file_extension": ".py",
   "mimetype": "text/x-python",
   "name": "python",
   "nbconvert_exporter": "python",
   "pygments_lexer": "ipython2",
   "version": "2.7.13"
  }
 },
 "nbformat": 4,
 "nbformat_minor": 2
}
