{
 "cells": [
  {
   "cell_type": "markdown",
   "metadata": {},
   "source": [
    "# Explainer Notebook\n"
   ]
  },
  {
   "cell_type": "markdown",
   "metadata": {},
   "source": [
    "## Motivation\n",
    "#### What is your dataset?\n",
    "\n",
    "#### Why did you choose this/these particular dataset(s)?\n",
    "\n",
    "#### What was your goal for the end user's experience?"
   ]
  },
  {
   "cell_type": "markdown",
   "metadata": {},
   "source": [
    "## Basic stats. Let's understand the dataset better\n",
    "#### Write about your choices in data cleaning and preprocessing\n",
    "Preliminary cleaning:\n",
    "* Drop not needed columns\n",
    "* Drop null values\n",
    "* Only 2010 to 2017 data\n",
    "* Call duration >=0\n",
    "* Borough != Unspecified\n",
    "\n",
    "Noise Analysis filtering:\n",
    "* Top 5 noise complaints ('Noise - Park', 'Noise - Vehicle', 'Noise - Commercial', 'Noise - Street/Sidewalk', 'Noise - Residential')\n",
    "\n",
    "House Analysis filtering:\n",
    "* house_complaint_types = ['HEAT/HOT WATER','PLUMBING','GENERAL CONSTRUCTION','UNSANITARY CONDITION','PAINT/PLASTER','ELECTRIC','DOOR/WINDOW','WATER LEAK','FLOORING/STAIRS','APPLIANCE']\n",
    "* merge HEATING with HEAT/HOT WATER"
   ]
  },
  {
   "cell_type": "markdown",
   "metadata": {},
   "source": [
    "#### Write a short section that discusses the dataset stats (here you can recycle the work you did for Project Assignment A)\n"
   ]
  },
  {
   "cell_type": "markdown",
   "metadata": {},
   "source": [
    "## Theory. Which theoretical tools did you use?\n",
    "#### Describe which machine learning tools you use and why the tools you've chosen are right for the problem you're solving.\n",
    "#### Talk about your model selection. How did you split the data in to test/training. Did you use cross validation?\n",
    "#### Explain the model performance. How did you measure it? Are your results what you expected?"
   ]
  },
  {
   "cell_type": "markdown",
   "metadata": {},
   "source": [
    "## Visualizations\n",
    "#### Explain the visualizations you've chosen.\n",
    "* Exploration: click on district of NYC to see 3 most likely complaints\n",
    "* Noise: click anywhere on NYC map and a tooltip shows the most likely noise complaint in that location, according to KNN classification\n",
    "* House: choose combination District/Month/Time and see most likely house complaint, according to Decision Tree Classifier\n",
    "* House: choose Complaint Type and K value to see K-Means clustering of complaints of that type\n",
    "\n",
    "#### Why are they right for the story you want to tell?"
   ]
  },
  {
   "cell_type": "markdown",
   "metadata": {},
   "source": [
    "## Discussion. Think critically about your creation\n",
    "#### What went well?,\n",
    "#### What is still missing? What could be improved?, Why?"
   ]
  },
  {
   "cell_type": "code",
   "execution_count": null,
   "metadata": {
    "collapsed": true
   },
   "outputs": [],
   "source": []
  }
 ],
 "metadata": {
  "kernelspec": {
   "display_name": "Python 2",
   "language": "python",
   "name": "python2"
  },
  "language_info": {
   "codemirror_mode": {
    "name": "ipython",
    "version": 2
   },
   "file_extension": ".py",
   "mimetype": "text/x-python",
   "name": "python",
   "nbconvert_exporter": "python",
   "pygments_lexer": "ipython2",
   "version": "2.7.13"
  }
 },
 "nbformat": 4,
 "nbformat_minor": 2
}
