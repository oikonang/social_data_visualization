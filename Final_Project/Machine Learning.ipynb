{
 "cells": [
  {
   "cell_type": "markdown",
   "metadata": {
    "collapsed": true
   },
   "source": [
    "## Ideas for questions\n",
    "Main branches:\n",
    "* Noise, related to demographics and neighborhoods\n",
    "    * Key points: \n",
    "* Street conditions: according to what factors should NYC government put more effort in monitoring the streets (combined with traffic information?) Check out: Graffiti dataset https://data.cityofnewyork.us/City-Government/DSNY-Graffiti-Information/gpwd-npar\n",
    "    * Key points: time of day? \n",
    "* Geolocation for renovation of neighborhoods based on house complaints (heating/hot water/plumbings/water leak)\n",
    "    * Key points: efficiency of 311 over time? Period of the year? \n",
    "    \n",
    "Check out:\n",
    "\n",
    "https://data.cityofnewyork.us/City-Government/Zip-code-breakdowns/6bic-qvek\n",
    "\n",
    "https://data.cityofnewyork.us/City-Government/New-York-City-Population-By-Community-Districts/xi7c-iiu2\n",
    "\n",
    "https://data.cityofnewyork.us/City-Government/Demographic-Statistics-By-Zip-Code/kku6-nxdu\n",
    "\n",
    "https://data.cityofnewyork.us/City-Government/Community-District-Breakdowns/w3c6-35wg"
   ]
  },
  {
   "cell_type": "markdown",
   "metadata": {},
   "source": []
  }
 ],
 "metadata": {
  "kernelspec": {
   "display_name": "Python [Root]",
   "language": "python",
   "name": "Python [Root]"
  },
  "language_info": {
   "codemirror_mode": {
    "name": "ipython",
    "version": 2
   },
   "file_extension": ".py",
   "mimetype": "text/x-python",
   "name": "python",
   "nbconvert_exporter": "python",
   "pygments_lexer": "ipython2",
   "version": "2.7.12"
  }
 },
 "nbformat": 4,
 "nbformat_minor": 2
}
