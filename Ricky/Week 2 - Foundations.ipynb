{
 "cells": [
  {
   "cell_type": "markdown",
   "metadata": {},
   "source": [
    "# Part 1: Practical things\n",
    "*(useless)*"
   ]
  },
  {
   "cell_type": "markdown",
   "metadata": {},
   "source": [
    "# Part 2: Statistics\n",
    "All the imports:"
   ]
  },
  {
   "cell_type": "code",
   "execution_count": 1,
   "metadata": {
    "collapsed": false
   },
   "outputs": [],
   "source": [
    "import numpy as np\n",
    "import random as rn\n",
    "from collections import Counter\n",
    "from matplotlib import pyplot as plt\n",
    "from scipy import stats\n",
    "import urllib2\n",
    "import re\n",
    "import math\n",
    "from prettytable import PrettyTable\n",
    "%matplotlib inline"
   ]
  },
  {
   "cell_type": "markdown",
   "metadata": {},
   "source": [
    "## 2.1 Walkthrough Chapter 5:"
   ]
  },
  {
   "cell_type": "code",
   "execution_count": 7,
   "metadata": {
    "collapsed": false
   },
   "outputs": [
    {
     "data": {
      "image/png": "[encoded data removed]",
      "text/plain": [
       "<matplotlib.figure.Figure at 0x1180b2210>"
      ]
     },
     "metadata": {},
     "output_type": "display_data"
    }
   ],
   "source": [
    "N = 5000 #Number of points\n",
    "num_friends = [rn.randint(0,100) for _ in range(N)] #I generate a random distribution of number of friends for 5000 people\n",
    "friends_counts = Counter(num_friends) #Simple frequency counter (dict)\n",
    "\n",
    "#Let's plot the histogram in a bar chart\n",
    "x = range(101)\n",
    "y = [friends_counts[i] for i in friends_counts]\n",
    "plt.figure(figsize=(8,4))\n",
    "plt.bar(x,y)\n",
    "plt.axis([0,100,0,70])\n",
    "plt.title(\"Histogram of friends counts\")\n",
    "plt.xlabel(\"# of friends\")\n",
    "plt.ylabel(\"# of people\")\n",
    "plt.show()"
   ]
  },
  {
   "cell_type": "markdown",
   "metadata": {},
   "source": [
    "### Simple statistics"
   ]
  },
  {
   "cell_type": "code",
   "execution_count": 64,
   "metadata": {
    "collapsed": false
   },
   "outputs": [
    {
     "name": "stdout",
     "output_type": "stream",
     "text": [
      "Mean value: 50.334\n",
      "Median value: 50\n",
      "10 th percentile value in 'friends': 9.0\n",
      "25 th percentile value in 'friends': 24.0\n",
      "75 th percentile value in 'friends': 76.0\n",
      "90 th percentile value in 'friends': 91.0\n",
      "Mode: [98] Mode count: [69]\n"
     ]
    }
   ],
   "source": [
    "#Mean and medians\n",
    "mean = np.mean(num_friends)\n",
    "median = np.median(num_friends)\n",
    "print \"Mean value: %.3f\" %mean\n",
    "print \"Median value: %d\" %median\n",
    "\n",
    "#Percentile/Quantile\n",
    "for i in [10,25,75,90]:\n",
    "    print \"%d th percentile value in 'friends': %.1f\" %(i,np.percentile(num_friends,i))\n",
    "    \n",
    "#Mode\n",
    "mode = stats.mode(num_friends)\n",
    "print \"Mode:\",mode.mode,\"Mode count:\",mode.count"
   ]
  },
  {
   "cell_type": "markdown",
   "metadata": {},
   "source": [
    "### Dispersion\n",
    "Dispersion refers to measures of how spread out our data is. Typically they’re statistics\n",
    "for which values near zero signify not spread out at all and for which large values\n",
    "(whatever that means) signify very spread out.\n",
    "\n",
    "First example: `range` (simple difference between max and min value: not very descriptive)\n",
    "\n",
    "Second example: `variance`"
   ]
  },
  {
   "cell_type": "code",
   "execution_count": 69,
   "metadata": {
    "collapsed": false
   },
   "outputs": [
    {
     "name": "stdout",
     "output_type": "stream",
     "text": [
      "Variance: 867.329\n",
      "Standard deviation: 29.450\n"
     ]
    }
   ],
   "source": [
    "variance = np.var(num_friends)\n",
    "print \"Variance: %.3f\" %variance\n",
    "\n",
    "std = np.std(num_friends)\n",
    "print \"Standard deviation: %.3f\" %std"
   ]
  },
  {
   "cell_type": "markdown",
   "metadata": {},
   "source": [
    "### Theory questions\n",
    "* Mean and median: Explain the difference between the mean and the median in your own words. In what kinds of dataset are the mean and median similar? Can you think of a dataset where the mean and median would be very different?\n",
    "* Variance: Explain the variance in your own words.\n",
    "* A paradox: What is Simpson's Paradox. Provide your own example of a dataset where this issue occurs.\n",
    "\n",
    "*(extremely simple)*"
   ]
  },
  {
   "cell_type": "markdown",
   "metadata": {},
   "source": [
    "## 2.2 Exercises\n",
    "Each data file is a `.tsv`, where first column is $x$ and second column is $y$."
   ]
  },
  {
   "cell_type": "code",
   "execution_count": 2,
   "metadata": {
    "collapsed": false
   },
   "outputs": [],
   "source": [
    "data_urls = [\"https://raw.githubusercontent.com/suneman/socialdataanalysis2017/master/files/data1.tsv\",\n",
    "             \"https://raw.githubusercontent.com/suneman/socialdataanalysis2017/master/files/data2.tsv\",\n",
    "             \"https://raw.githubusercontent.com/suneman/socialdataanalysis2017/master/files/data3.tsv\",\n",
    "             \"https://raw.githubusercontent.com/suneman/socialdataanalysis2017/master/files/data4.tsv\"]\n",
    "data_files = [urllib2.urlopen(url).read() for url in data_urls]\n",
    "\n",
    "#Cleaning and converting from string to arrays using Regex\n",
    "datasets = []\n",
    "for d in data_files:\n",
    "    lines = re.split(r'\\n',d)\n",
    "    x = [float(re.split(r'\\t',line)[0]) for line in lines]\n",
    "    y = [float(re.split(r'\\t',line)[1]) for line in lines]\n",
    "    datasets.append((x,y))"
   ]
  },
  {
   "cell_type": "markdown",
   "metadata": {},
   "source": [
    "Pretty printing the datasets (`datasets` is a list of *tuples*, where each tuple contains 2 lists, the x and y values):"
   ]
  },
  {
   "cell_type": "code",
   "execution_count": 98,
   "metadata": {
    "collapsed": false
   },
   "outputs": [
    {
     "name": "stdout",
     "output_type": "stream",
     "text": [
      "Dataset No. 1\n",
      "+------+-------+\n",
      "|  x   |   y   |\n",
      "+------+-------+\n",
      "| 10.0 |  8.04 |\n",
      "| 8.0  |  6.95 |\n",
      "| 13.0 |  7.58 |\n",
      "| 9.0  |  8.81 |\n",
      "| 11.0 |  8.33 |\n",
      "| 14.0 |  9.96 |\n",
      "| 6.0  |  7.24 |\n",
      "| 4.0  |  4.26 |\n",
      "| 12.0 | 10.84 |\n",
      "| 7.0  |  4.82 |\n",
      "| 5.0  |  5.68 |\n",
      "+------+-------+ \n",
      "\n",
      "Dataset No. 2\n",
      "+------+------+\n",
      "|  x   |  y   |\n",
      "+------+------+\n",
      "| 10.0 | 9.14 |\n",
      "| 8.0  | 8.14 |\n",
      "| 13.0 | 8.74 |\n",
      "| 9.0  | 8.77 |\n",
      "| 11.0 | 9.26 |\n",
      "| 14.0 | 8.1  |\n",
      "| 6.0  | 6.13 |\n",
      "| 4.0  | 3.1  |\n",
      "| 12.0 | 9.13 |\n",
      "| 7.0  | 7.26 |\n",
      "| 5.0  | 4.74 |\n",
      "+------+------+ \n",
      "\n",
      "Dataset No. 3\n",
      "+------+-------+\n",
      "|  x   |   y   |\n",
      "+------+-------+\n",
      "| 10.0 |  7.46 |\n",
      "| 8.0  |  6.77 |\n",
      "| 13.0 | 12.74 |\n",
      "| 9.0  |  7.11 |\n",
      "| 11.0 |  7.81 |\n",
      "| 14.0 |  8.84 |\n",
      "| 6.0  |  6.08 |\n",
      "| 4.0  |  5.39 |\n",
      "| 12.0 |  8.15 |\n",
      "| 7.0  |  6.42 |\n",
      "| 5.0  |  5.73 |\n",
      "+------+-------+ \n",
      "\n",
      "Dataset No. 4\n",
      "+------+------+\n",
      "|  x   |  y   |\n",
      "+------+------+\n",
      "| 8.0  | 6.58 |\n",
      "| 8.0  | 5.76 |\n",
      "| 8.0  | 7.71 |\n",
      "| 8.0  | 8.84 |\n",
      "| 8.0  | 8.47 |\n",
      "| 8.0  | 7.04 |\n",
      "| 8.0  | 5.25 |\n",
      "| 19.0 | 12.5 |\n",
      "| 8.0  | 5.56 |\n",
      "| 8.0  | 7.91 |\n",
      "| 8.0  | 6.89 |\n",
      "+------+------+ \n",
      "\n"
     ]
    }
   ],
   "source": [
    "for num,d in enumerate(datasets):\n",
    "    x = PrettyTable(field_names=['x','y'])\n",
    "    for i in range(len(d[0])):\n",
    "        x.add_row([d[0][i],d[1][i]])\n",
    "    print \"Dataset No.\",num+1\n",
    "    print x,'\\n'"
   ]
  },
  {
   "cell_type": "markdown",
   "metadata": {},
   "source": [
    "* *Using the numpy function mean, calculate the mean of both x-values and y-values for each dataset. Use python string formatting to print precisely two decimal places of these results to the output cell.* "
   ]
  },
  {
   "cell_type": "code",
   "execution_count": 105,
   "metadata": {
    "collapsed": false,
    "scrolled": true
   },
   "outputs": [
    {
     "name": "stdout",
     "output_type": "stream",
     "text": [
      "Mean in dataset 1 -> x-values: 9.00, y-values: 7.50\n",
      "Mean in dataset 2 -> x-values: 9.00, y-values: 7.50\n",
      "Mean in dataset 3 -> x-values: 9.00, y-values: 7.50\n",
      "Mean in dataset 4 -> x-values: 9.00, y-values: 7.50\n"
     ]
    }
   ],
   "source": [
    "for i,data in enumerate(datasets):\n",
    "    print \"Mean in dataset %d -> x-values: %.2f, y-values: %.2f\" %(i+1,np.mean(data[0]),np.mean(data[1]))"
   ]
  },
  {
   "cell_type": "markdown",
   "metadata": {},
   "source": [
    "* *Now calculate the variance for all of the various sets of x- and y-values (to three decimal places).*"
   ]
  },
  {
   "cell_type": "code",
   "execution_count": 106,
   "metadata": {
    "collapsed": false
   },
   "outputs": [
    {
     "name": "stdout",
     "output_type": "stream",
     "text": [
      "Variance in dataset 1 -> x-values: 10.000, y-values: 3.752\n",
      "Variance in dataset 2 -> x-values: 10.000, y-values: 3.752\n",
      "Variance in dataset 3 -> x-values: 10.000, y-values: 3.748\n",
      "Variance in dataset 4 -> x-values: 10.000, y-values: 3.748\n"
     ]
    }
   ],
   "source": [
    "for i,data in enumerate(datasets):\n",
    "    print \"Variance in dataset %d -> x-values: %.3f, y-values: %.3f\" %(i+1,np.var(data[0]),np.var(data[1]))"
   ]
  },
  {
   "cell_type": "markdown",
   "metadata": {},
   "source": [
    "* *Use numpy to calculate the [Pearson correlation](https://en.wikipedia.org/wiki/Pearson_correlation_coefficient) between x- and y-values for all four data sets (also to three decimal places).*"
   ]
  },
  {
   "cell_type": "markdown",
   "metadata": {},
   "source": [
    "Pearson's correlation coefficient when applied to a population is commonly represented by the Greek letter ρ (rho) and may be referred to as the population correlation coefficient or the population Pearson correlation coefficient."
   ]
  },
  {
   "cell_type": "code",
   "execution_count": 109,
   "metadata": {
    "collapsed": false
   },
   "outputs": [
    {
     "name": "stdout",
     "output_type": "stream",
     "text": [
      "Pearson correlation of dataset 1: 0.898\n",
      "Pearson correlation of dataset 2: 0.898\n",
      "Pearson correlation of dataset 3: 0.898\n",
      "Pearson correlation of dataset 4: 0.898\n"
     ]
    }
   ],
   "source": [
    "def de_mean(x):\n",
    "    x_bar = np.mean(x)\n",
    "    return [x_i - x_bar for x_i in x]\n",
    "\n",
    "def covariance(x, y):\n",
    "    n = len(x)\n",
    "    return np.dot(de_mean(x), de_mean(y)) / (n - 1)\n",
    "\n",
    "#According to Wikipedia's formula:\n",
    "def pearson_correlation(x,y):\n",
    "    return covariance(x,y)/(np.std(x)*np.std(y))\n",
    "\n",
    "for i,d in enumerate(datasets):\n",
    "    print \"Pearson correlation of dataset %d: %.3f\" %(i+1,pearson_correlation(d[0],d[1]))"
   ]
  },
  {
   "cell_type": "markdown",
   "metadata": {},
   "source": [
    "* *The next step is use linear regression to fit a straight line $f(x)=ax+b$ through each dataset and report a and b (to two decimal places). An easy way to fit a straight line in Python is using scipy's linregress. It works like this:*\n",
    "\n",
    "`from scipy import stats\n",
    "slope, intercept, r_value, p_value, std_err = stats.linregress(x,y)`\n",
    "\n",
    "* *Finally, it's time to plot the four datasets using matplotlib.pyplot. Use a two-by-two subplot to put all of the plots nicely in a grid and use the same x and y range for all four plots. And include the linear fit in all four plots.*"
   ]
  },
  {
   "cell_type": "code",
   "execution_count": 4,
   "metadata": {
    "collapsed": false,
    "scrolled": false
   },
   "outputs": [
    {
     "data": {
      "image/png": "[encoded data removed]",
      "text/plain": [
       "<matplotlib.figure.Figure at 0x114c4abd0>"
      ]
     },
     "metadata": {},
     "output_type": "display_data"
    }
   ],
   "source": [
    "#I plot both the points and the linear regression\n",
    "plt.figure(figsize=(14,10))\n",
    "for i,d in enumerate(datasets): \n",
    "    slope, intercept, r_value, p_value, std_err = stats.linregress(d[0],d[1])\n",
    "    plt.subplot(2,2,i+1)\n",
    "    plt.plot(d[0],d[1],'bo')\n",
    "    plt.xlabel(\"x-values\")\n",
    "    plt.ylabel(\"y-values\")\n",
    "    plt.title(\"Linear regression dataset %d\" %(i+1))\n",
    "    plt.xticks(np.arange(0,21,5))\n",
    "    plt.yticks(np.arange(2,16,2))\n",
    "    plt.xlim([0,20])\n",
    "    plt.ylim([2,16])\n",
    "    x = np.linspace(min(d[0])-1,max(d[0])+1)\n",
    "    y = slope*x+intercept #linear fit\n",
    "    plt.plot(x,y,'r-')\n",
    "plt.show()"
   ]
  },
  {
   "cell_type": "markdown",
   "metadata": {},
   "source": [
    "* *Explain - in your own words - what you think my point with this exercise is.*\n",
    "\n",
    "With basic statistics we didn't see great differences between the datasets (all of them returned same values for mean, variance and correlation). However, plotting the datasets we find out that the datasets are all different and each of them has something that could be pointed out (check [this page](https://en.wikipedia.org/wiki/Anscombe%27s_quartet))"
   ]
  },
  {
   "cell_type": "markdown",
   "metadata": {},
   "source": [
    "# Part 3: Probability"
   ]
  },
  {
   "cell_type": "markdown",
   "metadata": {
    "collapsed": true
   },
   "source": [
    "*There's a nice example in the book where Joel illustrates the conditional probablity of “both children are girls” conditional on the event “at least one of the children is a girl” versus the probability that \"both children are girls\" knowing \"the older sister is a girl\" using the little code-snippet reproduced below.*"
   ]
  },
  {
   "cell_type": "code",
   "execution_count": 5,
   "metadata": {
    "collapsed": false
   },
   "outputs": [
    {
     "name": "stdout",
     "output_type": "stream",
     "text": [
      "P(both | older): 0.514228456914\n",
      "P(both | either):  0.341541328364\n"
     ]
    }
   ],
   "source": [
    "import random\n",
    "from __future__ import division\n",
    "\n",
    "def random_kid():\n",
    "    return random.choice([\"boy\", \"girl\"])\n",
    "\n",
    "both_girls = 0\n",
    "older_girl = 0\n",
    "either_girl = 0\n",
    "\n",
    "random.seed(0)\n",
    "for _ in range(10000):\n",
    "    younger = random_kid()\n",
    "    middle = random_kid()\n",
    "    older = random_kid() \n",
    "    \n",
    "    if older == \"girl\":\n",
    "        older_girl += 1\n",
    "    if older == \"girl\" and younger == \"girl\":\n",
    "        both_girls += 1\n",
    "    if older == \"girl\" or younger == \"girl\":\n",
    "        either_girl += 1\n",
    "\n",
    "print \"P(both | older):\", both_girls / older_girl # 0.514 ~ 1/2 \n",
    "print \"P(both | either): \", both_girls / either_girl # 0.342 ~ 1/3"
   ]
  },
  {
   "cell_type": "markdown",
   "metadata": {},
   "source": [
    "*Let's imagine a new family with three children. Assuming that each child is equally likely to be a boy or a girl, and that the gender of each subsequent child is independent of the gender of its older siblings. Use Python code to answer the following questions.*\n",
    "\n",
    "* *What is the probability of three girls?*\n",
    "* *What is the probability of two girls and one boy?*\n",
    "* *What is the probability of one girl and two boys?*\n",
    "* *What is the probability of three boys?*"
   ]
  },
  {
   "cell_type": "code",
   "execution_count": 4,
   "metadata": {
    "collapsed": false
   },
   "outputs": [
    {
     "name": "stdout",
     "output_type": "stream",
     "text": [
      "P(all_girls):  0.1249\n",
      "P(two_girls, one_boy):  0.3782\n",
      "P(one_girl, two_boys):  0.3771\n",
      "P(all_boys):  0.1198\n"
     ]
    }
   ],
   "source": [
    "import random\n",
    "from __future__ import division\n",
    "\n",
    "def random_kid():\n",
    "    return random.choice([\"boy\", \"girl\"])\n",
    "\n",
    "all_girls = 0\n",
    "two_girls = 0\n",
    "one_girl = 0\n",
    "all_boys = 0\n",
    "\n",
    "random.seed(0)\n",
    "for _ in range(10000):\n",
    "    younger = random_kid()\n",
    "    middle = random_kid()\n",
    "    older = random_kid() \n",
    "    \n",
    "    if older == \"girl\" and younger == \"girl\" and middle ==\"girl\":\n",
    "        all_girls += 1\n",
    "    if (older == \"girl\" and younger == \"girl\" and middle == \"boy\") or \\\n",
    "    (older == \"girl\" and middle == \"girl\" and younger == \"boy\") or \\\n",
    "    (middle == \"girl\" and younger == \"girl\" and older == \"boy\"):\n",
    "        two_girls += 1    \n",
    "    if (older == \"girl\" and younger == \"boy\" and middle == \"boy\") or \\\n",
    "    (younger == \"girl\" and middle == \"boy\" and older == \"boy\") or \\\n",
    "    (middle == \"girl\" and younger == \"boy\" and older == \"boy\"):\n",
    "        one_girl += 1 \n",
    "    if older == \"boy\" and younger == \"boy\" and middle ==\"boy\":\n",
    "        all_boys += 1\n",
    "\n",
    "\n",
    "print \"P(all_girls): \", all_girls / 10000 # 1/8 \n",
    "print \"P(two_girls, one_boy): \", two_girls / 10000 # 1/8\n",
    "print \"P(one_girl, two_boys): \", one_girl / 10000 # 1/8\n",
    "print \"P(all_boys): \", all_boys / 10000 # 1/8"
   ]
  },
  {
   "cell_type": "markdown",
   "metadata": {},
   "source": [
    "All combinations of 3 children are 8 in total:\n",
    "    1. 1st girl,   2nd girl,   3rd girl\n",
    "    2. 1st girl,   2nd boy,    3rd boy\n",
    "    3. 1st boy,    2nd girl,   3rd boy\n",
    "    4. 1st boy,    2nd boy,    3rd girl\n",
    "    5. 1st girl    2nd girl,   3rd boy\n",
    "    6. 1st boy     2nd girl,   3rd girl\n",
    "    7. 1st girl    2nd boy,    3rd girl\n",
    "    8. 1st boy     2nd boy,    3rd boy\n",
    "    \n",
    "So, the probability of three girls is 1 out of those 8 combinations, meaning **1/8**.    \n",
    "The probability of three boys is again 1 out of 8, meaning **1/8**.    \n",
    "The probability of two girls and one boy is either combination 4 or 5 or 6. So it is **3/8**.    \n",
    "The same goes with probability of two boys and one girl. It can be either 2 or 3 or 4. So it is **3/8**.    \n",
    "\n",
    "The general math behind it is the binomial formula: $$b(n,k;p)=\\frac{n!}{k!(n-k)!}p^k(1-p)^{n-k}$$\n",
    "$n=$ number of observations(3 children)    \n",
    "$k=$ number of defined observations(1 girl)    \n",
    "$p=$ probability of defined observation(50%)    "
   ]
  },
  {
   "cell_type": "markdown",
   "metadata": {},
   "source": [
    "* *What is the probability that all children are girls given that the oldest child is a girl?*"
   ]
  },
  {
   "cell_type": "code",
   "execution_count": 17,
   "metadata": {
    "collapsed": false
   },
   "outputs": [
    {
     "name": "stdout",
     "output_type": "stream",
     "text": [
      "P(all_girls | oldest_girl): 0.25094302164\n"
     ]
    }
   ],
   "source": [
    "all_girls = 0\n",
    "oldest_girl = 0\n",
    "\n",
    "for _ in range(10000):\n",
    "    youngest = random_kid()\n",
    "    older = random_kid()\n",
    "    oldest = random_kid()\n",
    "    \n",
    "    if older==\"girl\" and youngest=='girl' and oldest==\"girl\":\n",
    "        all_girls+=1\n",
    "    if oldest==\"girl\":\n",
    "        oldest_girl+=1\n",
    "print \"P(all_girls | oldest_girl):\", all_girls / oldest_girl # P(E|F) = P(E,F)/P(F) = 1/(2^3)/(1/2) = (1/2^3)*2 = 1/4 = 0.25"
   ]
  },
  {
   "cell_type": "markdown",
   "metadata": {},
   "source": [
    "* *What is the probability that all children are girls given that one of the children is a girl?*"
   ]
  },
  {
   "cell_type": "code",
   "execution_count": 22,
   "metadata": {
    "collapsed": false
   },
   "outputs": [
    {
     "name": "stdout",
     "output_type": "stream",
     "text": [
      "P(all_girls | either_girl): 0.14116575592\n"
     ]
    }
   ],
   "source": [
    "all_girls = 0\n",
    "either_girl = 0\n",
    "\n",
    "for _ in range(10000):\n",
    "    youngest = random_kid()\n",
    "    older = random_kid()\n",
    "    oldest = random_kid()\n",
    "    \n",
    "    if older==\"girl\" and youngest=='girl' and oldest==\"girl\":\n",
    "        all_girls+=1\n",
    "    if older==\"girl\" or youngest==\"girl\" or oldest==\"girl\":\n",
    "        either_girl+=1\n",
    "print \"P(all_girls | either_girl):\", all_girls / either_girl # P(E|F) = P(E,F)/P(F) = 1/(2^3)/(1-1/2^3) = 1/8 / 7/8 = 1/7"
   ]
  },
  {
   "cell_type": "markdown",
   "metadata": {},
   "source": [
    "## Exercise: Central limit theorem"
   ]
  },
  {
   "cell_type": "markdown",
   "metadata": {},
   "source": [
    "*The central limit theorem is fun because we can get Gaussian distributions from probability distributions that are not Gaussian. Let's explore that in the following exercise.*\n",
    "* *Use Python's random module to simulate rolling a fair six-sided die 10 000 000 times.*\n",
    "* *Plot the distribution of dice rolls using a bar-chart.*"
   ]
  },
  {
   "cell_type": "code",
   "execution_count": 4,
   "metadata": {
    "collapsed": true
   },
   "outputs": [],
   "source": [
    "results = [rn.choice(range(1,7)) for _ in range(10000000)]\n",
    "results_counter = Counter(results)  "
   ]
  },
  {
   "cell_type": "code",
   "execution_count": 15,
   "metadata": {
    "collapsed": false
   },
   "outputs": [
    {
     "data": {
      "image/png": "[encoded data removed]",
      "text/plain": [
       "<matplotlib.figure.Figure at 0x11a2f7310>"
      ]
     },
     "metadata": {},
     "output_type": "display_data"
    }
   ],
   "source": [
    "plt.figure(figsize=(8,6))\n",
    "x = range(1,7)\n",
    "y = [results_counter[i] for i in results_counter]\n",
    "plt.bar(x,y,align=\"center\")\n",
    "plt.title(\"Histogram of dice trials\")\n",
    "plt.ylabel(\"# of times\")\n",
    "plt.xlabel(\"Dice Number\")\n",
    "plt.xticks(x)\n",
    "plt.show()"
   ]
  },
  {
   "cell_type": "markdown",
   "metadata": {},
   "source": [
    "It's obvious that the shape of the distribution is steady."
   ]
  },
  {
   "cell_type": "markdown",
   "metadata": {},
   "source": [
    "* *Now perform a new simulation. Roll a fair six-sided dice 10 times and take the average. Do that 1 000 000 times.*"
   ]
  },
  {
   "cell_type": "code",
   "execution_count": 16,
   "metadata": {
    "collapsed": false
   },
   "outputs": [],
   "source": [
    "avg_values = [np.mean([rn.choice(range(1,7)) for _ in range(10)]) for _ in range(1000000)]"
   ]
  },
  {
   "cell_type": "markdown",
   "metadata": {},
   "source": [
    "* *Plot the distribution of those average values. This time you can't use counter (since the averages are not integer values). Instead use numpy.histogram to bin those number into 25 bins. What does the numpy.histogram function return? Do the two arrays have the same length?*"
   ]
  },
  {
   "cell_type": "code",
   "execution_count": 20,
   "metadata": {
    "collapsed": false
   },
   "outputs": [
    {
     "name": "stdout",
     "output_type": "stream",
     "text": [
      "Same length: False\n"
     ]
    }
   ],
   "source": [
    "hist, bin_edges = np.histogram(avg_values,bins=25)\n",
    "print \"Same length:\",len(hist)==len(bin_edges)"
   ]
  },
  {
   "cell_type": "markdown",
   "metadata": {},
   "source": [
    "* *Then let's use matplotlib.pyplot.bar to plot the binned data. You will have to deal with the fact that the counts- and bin-arrays have different lengths. Explain how you deal with this problem and why.*\n",
    "\n",
    "In order to deal with the problem of the different lengths, one solution is to actually create our own bins according to the `bin_edges` obtained with `np.histogram`: to reduce the number from 26 to 25, I can create a new list of bins where the each element (**j**) is obtained as the midpoint between two edges. Then, we say that a specific element **i** in `avg_values` falls inside bin **j** if it's greater than and stricly less than (respectively) the left and right edges of the bin **j**."
   ]
  },
  {
   "cell_type": "code",
   "execution_count": 79,
   "metadata": {
    "collapsed": false
   },
   "outputs": [],
   "source": [
    "bins = [0]*len(hist) #Initialize new empty list of 25 zeros\n",
    "bin_names = [round((bin_edges[i]+bin_edges[i+1])/2,3) for i in range(len(bin_edges)-1)] #let's keep the bin_names as the midpoint between the two edges\n",
    "\n",
    "for i in range(len(avg_values)):\n",
    "    if avg_values[i]==bin_edges[-1]: #special case: last value of bin_edges\n",
    "            bins[-1]+=1\n",
    "    for j in range(len(bin_edges)-1):\n",
    "        if avg_values[i]>=bin_edges[j] and avg_values[i]<bin_edges[j+1]:\n",
    "            bins[j]+=1"
   ]
  },
  {
   "cell_type": "code",
   "execution_count": 80,
   "metadata": {
    "collapsed": false
   },
   "outputs": [
    {
     "data": {
      "image/png": "[encoded data removed]",
      "text/plain": [
       "<matplotlib.figure.Figure at 0xa1f1208>"
      ]
     },
     "metadata": {},
     "output_type": "display_data"
    }
   ],
   "source": [
    "#Plotting\n",
    "plt.figure(figsize=(8,6))\n",
    "plt.bar(bin_names,bins,align=\"center\",width=0.15,color=\"g\")\n",
    "plt.show()"
   ]
  },
  {
   "cell_type": "markdown",
   "metadata": {},
   "source": [
    "* *Describe the shape of this distribution. Explain in your own words what happened to that flat distribution of die-rolls to suddenly make it Gaussian just by taking some averages.*\n",
    "\n",
    "The explanation lies in the **central limit theorem**: it says (in essence) that a random variable defined as the average of a large number of independent and identically distributed random variables (in our case, the die-roll) is itself approximately normally distributed."
   ]
  },
  {
   "cell_type": "markdown",
   "metadata": {},
   "source": [
    "* *Calculate the mean $μ$ and standard deviation $σ observed$ of the averaged values. *"
   ]
  },
  {
   "cell_type": "code",
   "execution_count": 83,
   "metadata": {
    "collapsed": false
   },
   "outputs": [
    {
     "name": "stdout",
     "output_type": "stream",
     "text": [
      "Mean: 3.4997707\n",
      "Standard deviation: 0.539793402536\n"
     ]
    }
   ],
   "source": [
    "mean = np.mean(avg_values)\n",
    "std = np.std(avg_values)\n",
    "\n",
    "print \"Mean:\",mean\n",
    "print \"Standard deviation:\",std"
   ]
  },
  {
   "cell_type": "markdown",
   "metadata": {},
   "source": [
    "# Part 4: Hypothesis and inference\n",
    "\n",
    "## Exercises (Questions)"
   ]
  },
  {
   "cell_type": "markdown",
   "metadata": {},
   "source": [
    "* *What's the null hypothesis when testing if a coin is fair?*"
   ]
  },
  {
   "cell_type": "markdown",
   "metadata": {},
   "source": [
    "We’ll make the assumption that the coin has some probability p of landing heads. So the null hypothesis would be that the coin is fair, meaning that p=0.5"
   ]
  },
  {
   "cell_type": "markdown",
   "metadata": {},
   "source": [
    "* *Explain in your own words what Joel means by significance on p. 83.*"
   ]
  },
  {
   "cell_type": "markdown",
   "metadata": {},
   "source": [
    "Significance is how willing we are to make a type 1 error (“false positive”), in which we reject the null hypothesis even though it’s true. For reasons lost to the annals of history, this willingness is often set at 5% or 1%. In other words, significance is the probability of rejecting the null hypothesis, given that it is true."
   ]
  },
  {
   "cell_type": "markdown",
   "metadata": {},
   "source": [
    "* *Explain in your own words what Joel means by power on p. 83.*"
   ]
  },
  {
   "cell_type": "markdown",
   "metadata": {},
   "source": [
    "The power of a test, is the probability of not making a type 2 error(“false negative”), in which we fail to reject the null hypothesis even though it’s false. In other words, power is the probability of rejecting the null hypothesis, given that is's false."
   ]
  },
  {
   "cell_type": "markdown",
   "metadata": {},
   "source": [
    "* *Write down a short definition of p-value.*"
   ]
  },
  {
   "cell_type": "markdown",
   "metadata": {},
   "source": [
    "When one performs a hypothesis test, a p-value helps to determine the significance of the results. All hypothesis tests use a p-value to weigh the strength of the evidence (what the data are telling about the population). The p-value is a number between 0 and 1.\n",
    "* A small p-value (≤ 0.05) indicates strong evidence against the null hypothesis, so one can reject the null hypothesis\n",
    "* A large p-value (> 0.05) indicates weak evidence against the null hypothesis, so one can fail to reject the null hypothesis\n",
    "* p-values very close to the cutoff (0.05) are considered to be marginal (could go either way).\n",
    "\n",
    "Let's suppose that a pizza place claims their delivery times are 30 minutes or less on average but you think it’s more than that. You conduct a hypothesis test because you believe the null hypothesis, Ho, that the mean delivery time is 30 minutes max, is incorrect. Your alternative hypothesis (Ha) is that the mean time is greater than 30 minutes. Later you randomly sample some pizza delivery times and run the data through the hypothesis test.    \n",
    "If p-value turns out to be 0.001, which is much less than 0.05, there is a probability of 0.001 that one will mistakenly reject the pizza place’s claim that their delivery time is less than or equal to 30 minutes. Since typically we are willing to reject the null hypothesis when this probability is less than 0.05, you conclude that the pizza place is wrong; their delivery times are in fact more than 30 minutes on average\n"
   ]
  },
  {
   "cell_type": "markdown",
   "metadata": {},
   "source": [
    "* *Explain the problem with p-hacking.*"
   ]
  },
  {
   "cell_type": "markdown",
   "metadata": {},
   "source": [
    "P-hacking is the use of data mining to uncover patterns in data that can be presented as statistically significant, without first devising a specific hypothesis as to the underlying causality. In other words, one can remove the right outliers, and he/she can probably get his/her p-value below 0.05."
   ]
  },
  {
   "cell_type": "code",
   "execution_count": null,
   "metadata": {
    "collapsed": true
   },
   "outputs": [],
   "source": []
  }
 ],
 "metadata": {
  "anaconda-cloud": {},
  "kernelspec": {
   "display_name": "Python [Root]",
   "language": "python",
   "name": "Python [Root]"
  },
  "language_info": {
   "codemirror_mode": {
    "name": "ipython",
    "version": 2
   },
   "file_extension": ".py",
   "mimetype": "text/x-python",
   "name": "python",
   "nbconvert_exporter": "python",
   "pygments_lexer": "ipython2",
   "version": "2.7.12"
  }
 },
 "nbformat": 4,
 "nbformat_minor": 0
}
