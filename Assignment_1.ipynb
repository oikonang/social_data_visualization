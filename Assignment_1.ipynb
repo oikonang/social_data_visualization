{
 "cells": [
  {
   "cell_type": "markdown",
   "metadata": {},
   "source": [
    "# Assignment 1: Social Data Analysis and Visualization 02806"
   ]
  },
  {
   "cell_type": "markdown",
   "metadata": {},
   "source": [
    "**Notes about text formatting**: *italic* for instructors' questions, normal text for answers. \n",
    "\n",
    "Let's organize all the imports in one cell:"
   ]
  },
  {
   "cell_type": "code",
   "execution_count": 5,
   "metadata": {
    "collapsed": true
   },
   "outputs": [],
   "source": [
    "import numpy as np\n",
    "import random as rn\n",
    "from collections import Counter\n",
    "from matplotlib import pyplot as plt\n",
    "from scipy import stats\n",
    "import urllib2\n",
    "import re\n",
    "import math\n",
    "from prettytable import PrettyTable\n",
    "%matplotlib inline"
   ]
  },
  {
   "cell_type": "markdown",
   "metadata": {},
   "source": [
    "## Assignment 1A: Anscombe's quartet"
   ]
  },
  {
   "cell_type": "markdown",
   "metadata": {},
   "source": [
    "> *Start by downloading these four datasets: [Data 1](https://raw.githubusercontent.com/suneman/socialdataanalysis2017/master/files/data1.tsv), [Data 2](https://raw.githubusercontent.com/suneman/socialdataanalysis2017/master/files/data2.tsv), [Data 3](https://raw.githubusercontent.com/suneman/socialdataanalysis2017/master/files/data3.tsv), and [Data 4](https://raw.githubusercontent.com/suneman/socialdataanalysis2017/master/files/data4.tsv). The format is `.tsv`, which stands for tab separated values. Each file has two columns (separated using the tab character). The first column is $x$-values, and the second column is $y$-values.*"
   ]
  },
  {
   "cell_type": "code",
   "execution_count": 2,
   "metadata": {
    "collapsed": false
   },
   "outputs": [],
   "source": [
    "data_urls = [\"https://raw.githubusercontent.com/suneman/socialdataanalysis2017/master/files/data1.tsv\",\n",
    "             \"https://raw.githubusercontent.com/suneman/socialdataanalysis2017/master/files/data2.tsv\",\n",
    "             \"https://raw.githubusercontent.com/suneman/socialdataanalysis2017/master/files/data3.tsv\",\n",
    "             \"https://raw.githubusercontent.com/suneman/socialdataanalysis2017/master/files/data4.tsv\"]\n",
    "data_files = [urllib2.urlopen(url).read() for url in data_urls]\n",
    "\n",
    "#Cleaning and converting from string to arrays using Regex\n",
    "datasets = []\n",
    "for d in data_files:\n",
    "    lines = re.split(r'\\n',d)\n",
    "    x = [float(re.split(r'\\t',line)[0]) for line in lines]\n",
    "    y = [float(re.split(r'\\t',line)[1]) for line in lines]\n",
    "    datasets.append((x,y))"
   ]
  },
  {
   "cell_type": "markdown",
   "metadata": {},
   "source": [
    "Pretty printing the datasets (`datasets` is a list of *tuples*, where each tuple contains 2 lists, the x and y values):"
   ]
  },
  {
   "cell_type": "code",
   "execution_count": 98,
   "metadata": {
    "collapsed": false
   },
   "outputs": [
    {
     "name": "stdout",
     "output_type": "stream",
     "text": [
      "Dataset No. 1\n",
      "+------+-------+\n",
      "|  x   |   y   |\n",
      "+------+-------+\n",
      "| 10.0 |  8.04 |\n",
      "| 8.0  |  6.95 |\n",
      "| 13.0 |  7.58 |\n",
      "| 9.0  |  8.81 |\n",
      "| 11.0 |  8.33 |\n",
      "| 14.0 |  9.96 |\n",
      "| 6.0  |  7.24 |\n",
      "| 4.0  |  4.26 |\n",
      "| 12.0 | 10.84 |\n",
      "| 7.0  |  4.82 |\n",
      "| 5.0  |  5.68 |\n",
      "+------+-------+ \n",
      "\n",
      "Dataset No. 2\n",
      "+------+------+\n",
      "|  x   |  y   |\n",
      "+------+------+\n",
      "| 10.0 | 9.14 |\n",
      "| 8.0  | 8.14 |\n",
      "| 13.0 | 8.74 |\n",
      "| 9.0  | 8.77 |\n",
      "| 11.0 | 9.26 |\n",
      "| 14.0 | 8.1  |\n",
      "| 6.0  | 6.13 |\n",
      "| 4.0  | 3.1  |\n",
      "| 12.0 | 9.13 |\n",
      "| 7.0  | 7.26 |\n",
      "| 5.0  | 4.74 |\n",
      "+------+------+ \n",
      "\n",
      "Dataset No. 3\n",
      "+------+-------+\n",
      "|  x   |   y   |\n",
      "+------+-------+\n",
      "| 10.0 |  7.46 |\n",
      "| 8.0  |  6.77 |\n",
      "| 13.0 | 12.74 |\n",
      "| 9.0  |  7.11 |\n",
      "| 11.0 |  7.81 |\n",
      "| 14.0 |  8.84 |\n",
      "| 6.0  |  6.08 |\n",
      "| 4.0  |  5.39 |\n",
      "| 12.0 |  8.15 |\n",
      "| 7.0  |  6.42 |\n",
      "| 5.0  |  5.73 |\n",
      "+------+-------+ \n",
      "\n",
      "Dataset No. 4\n",
      "+------+------+\n",
      "|  x   |  y   |\n",
      "+------+------+\n",
      "| 8.0  | 6.58 |\n",
      "| 8.0  | 5.76 |\n",
      "| 8.0  | 7.71 |\n",
      "| 8.0  | 8.84 |\n",
      "| 8.0  | 8.47 |\n",
      "| 8.0  | 7.04 |\n",
      "| 8.0  | 5.25 |\n",
      "| 19.0 | 12.5 |\n",
      "| 8.0  | 5.56 |\n",
      "| 8.0  | 7.91 |\n",
      "| 8.0  | 6.89 |\n",
      "+------+------+ \n",
      "\n"
     ]
    }
   ],
   "source": [
    "for num,d in enumerate(datasets):\n",
    "    x = PrettyTable(field_names=['x','y'])\n",
    "    for i in range(len(d[0])):\n",
    "        x.add_row([d[0][i],d[1][i]])\n",
    "    print \"Dataset No.\",num+1\n",
    "    print x,'\\n'"
   ]
  },
  {
   "cell_type": "markdown",
   "metadata": {},
   "source": [
    "* *Using the numpy function mean, calculate the mean of both x-values and y-values for each dataset. Use python string formatting to print precisely two decimal places of these results to the output cell.* "
   ]
  },
  {
   "cell_type": "code",
   "execution_count": 105,
   "metadata": {
    "collapsed": false,
    "scrolled": true
   },
   "outputs": [
    {
     "name": "stdout",
     "output_type": "stream",
     "text": [
      "Mean in dataset 1 -> x-values: 9.00, y-values: 7.50\n",
      "Mean in dataset 2 -> x-values: 9.00, y-values: 7.50\n",
      "Mean in dataset 3 -> x-values: 9.00, y-values: 7.50\n",
      "Mean in dataset 4 -> x-values: 9.00, y-values: 7.50\n"
     ]
    }
   ],
   "source": [
    "for i,data in enumerate(datasets):\n",
    "    print \"Mean in dataset %d -> x-values: %.2f, y-values: %.2f\" %(i+1,np.mean(data[0]),np.mean(data[1]))"
   ]
  },
  {
   "cell_type": "markdown",
   "metadata": {},
   "source": [
    "* *Now calculate the variance for all of the various sets of x- and y-values (to three decimal places).*"
   ]
  },
  {
   "cell_type": "code",
   "execution_count": 106,
   "metadata": {
    "collapsed": false
   },
   "outputs": [
    {
     "name": "stdout",
     "output_type": "stream",
     "text": [
      "Variance in dataset 1 -> x-values: 10.000, y-values: 3.752\n",
      "Variance in dataset 2 -> x-values: 10.000, y-values: 3.752\n",
      "Variance in dataset 3 -> x-values: 10.000, y-values: 3.748\n",
      "Variance in dataset 4 -> x-values: 10.000, y-values: 3.748\n"
     ]
    }
   ],
   "source": [
    "for i,data in enumerate(datasets):\n",
    "    print \"Variance in dataset %d -> x-values: %.3f, y-values: %.3f\" %(i+1,np.var(data[0]),np.var(data[1]))"
   ]
  },
  {
   "cell_type": "markdown",
   "metadata": {},
   "source": [
    "* *Use numpy to calculate the [Pearson correlation](https://en.wikipedia.org/wiki/Pearson_correlation_coefficient) between $x$- and $y$-values for all four data sets (also to three decimal places).*"
   ]
  },
  {
   "cell_type": "markdown",
   "metadata": {},
   "source": [
    "Pearson's correlation coefficient when applied to a population is commonly represented by the Greek letter $ρ$ (rho) and may be referred to as the population correlation coefficient or the population Pearson correlation coefficient."
   ]
  },
  {
   "cell_type": "code",
   "execution_count": 109,
   "metadata": {
    "collapsed": false
   },
   "outputs": [
    {
     "name": "stdout",
     "output_type": "stream",
     "text": [
      "Pearson correlation of dataset 1: 0.898\n",
      "Pearson correlation of dataset 2: 0.898\n",
      "Pearson correlation of dataset 3: 0.898\n",
      "Pearson correlation of dataset 4: 0.898\n"
     ]
    }
   ],
   "source": [
    "def de_mean(x):\n",
    "    x_bar = np.mean(x)\n",
    "    return [x_i - x_bar for x_i in x]\n",
    "\n",
    "def covariance(x, y):\n",
    "    n = len(x)\n",
    "    return np.dot(de_mean(x), de_mean(y)) / (n - 1)\n",
    "\n",
    "#According to Wikipedia's formula:\n",
    "def pearson_correlation(x,y):\n",
    "    return covariance(x,y)/(np.std(x)*np.std(y))\n",
    "\n",
    "for i,d in enumerate(datasets):\n",
    "    print \"Pearson correlation of dataset %d: %.3f\" %(i+1,pearson_correlation(d[0],d[1]))"
   ]
  },
  {
   "cell_type": "markdown",
   "metadata": {},
   "source": [
    "* *The next step is use linear regression to fit a straight line $f(x)=ax+b$ through each dataset and report $a$ and $b$ (to two decimal places). An easy way to fit a straight line in Python is using scipy's linregress. It works like this:*\n",
    "\n",
    "`from scipy import stats\n",
    "slope, intercept, r_value, p_value, std_err = stats.linregress(x,y)`\n",
    "\n",
    "* *Finally, it's time to plot the four datasets using matplotlib.pyplot. Use a two-by-two subplot to put all of the plots nicely in a grid and use the same x and y range for all four plots. And include the linear fit in all four plots.*\n",
    "\n",
    "We hereby calculate the linear regression for each dataset and plot them:"
   ]
  },
  {
   "cell_type": "code",
   "execution_count": 11,
   "metadata": {
    "collapsed": false,
    "scrolled": false
   },
   "outputs": [
    {
     "data": {
      "image/png": "[encoded data removed]",
      "text/plain": [
       "<matplotlib.figure.Figure at 0xa378f98>"
      ]
     },
     "metadata": {},
     "output_type": "display_data"
    }
   ],
   "source": [
    "#I plot both the points and the linear regression\n",
    "plt.figure(figsize=(14,10))\n",
    "for i,d in enumerate(datasets): \n",
    "    slope, intercept, r_value, p_value, std_err = stats.linregress(d[0],d[1])\n",
    "    plt.subplot(2,2,i+1)\n",
    "    plt.plot(d[0],d[1],'bo')\n",
    "    plt.xlabel(\"x-values\")\n",
    "    plt.ylabel(\"y-values\")\n",
    "    plt.title(\"Linear regression dataset %d\" %(i+1))\n",
    "    plt.xticks(np.arange(0,max(d[0])+2,2))\n",
    "    plt.yticks(np.arange(2,max(d[1])+2,2))\n",
    "    plt.xlim([min(d[0])-1,max(d[0])+1])\n",
    "    plt.ylim([min(d[1])-1,max(d[1])+1])\n",
    "    x = np.linspace(min(d[0])-1,max(d[0])+1)\n",
    "    y = slope*x+intercept #linear fit\n",
    "    plt.plot(x,y,'r-')\n",
    "plt.show()"
   ]
  },
  {
   "cell_type": "markdown",
   "metadata": {},
   "source": [
    "* *Explain - in your own words - what you think my point with this exercise is.*\n",
    "\n",
    "With basic descriptive statistics we didn't see great differences between the datasets (all of them returned same values for mean, variance and correlation). However, by plotting the datasets we find out that the datasets are all different and each of them has something that could be pointed out.\n",
    "\n",
    "* The first scatter plot (top left) appears to be a simple linear relationship, corresponding to two variables correlated and following the assumption of normality.\n",
    "* The second graph (top right) is not distributed normally; while a relationship between the two variables is obvious, it is not linear, and the Pearson correlation coefficient is not relevant. A more general regression and the corresponding coefficient of determination would be more appropriate.\n",
    "* In the third graph (bottom left), the distribution is linear, but should have a different regression line. The calculated regression is offset by the one outlier.\n",
    "* Finally, the fourth graph (bottom right) shows an example when one outlier is enough to produce a high correlation coefficient, even though the other data points do not indicate any relationship between the variables.\n",
    "\n",
    "All in all, the point of the exercise is to say that basic descriptive statistics is not enough to have an overview of the datasets and their main features, but a more in depth analysis is always required."
   ]
  },
  {
   "cell_type": "markdown",
   "metadata": {
    "collapsed": true
   },
   "source": [
    "## Assignment 1B: KNN"
   ]
  },
  {
   "cell_type": "code",
   "execution_count": null,
   "metadata": {
    "collapsed": true
   },
   "outputs": [],
   "source": []
  }
 ],
 "metadata": {
  "anaconda-cloud": {},
  "kernelspec": {
   "display_name": "Python [Root]",
   "language": "python",
   "name": "Python [Root]"
  },
  "language_info": {
   "codemirror_mode": {
    "name": "ipython",
    "version": 2
   },
   "file_extension": ".py",
   "mimetype": "text/x-python",
   "name": "python",
   "nbconvert_exporter": "python",
   "pygments_lexer": "ipython2",
   "version": "2.7.12"
  }
 },
 "nbformat": 4,
 "nbformat_minor": 0
}
