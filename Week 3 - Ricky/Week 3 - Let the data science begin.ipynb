{
 "cells": [
  {
   "cell_type": "markdown",
   "metadata": {},
   "source": [
    "# Part 1: Getting the dataset"
   ]
  },
  {
   "cell_type": "code",
   "execution_count": 55,
   "metadata": {
    "collapsed": true
   },
   "outputs": [],
   "source": [
    "import requests\n",
    "from matplotlib import pyplot as plt\n",
    "import numpy as np\n",
    "import csv\n",
    "import pandas as pd\n",
    "from pandas import DataFrame\n",
    "%matplotlib inline"
   ]
  },
  {
   "cell_type": "markdown",
   "metadata": {},
   "source": [
    "Downloading the dataset and displaying the top rows:"
   ]
  },
  {
   "cell_type": "code",
   "execution_count": 2,
   "metadata": {
    "collapsed": false
   },
   "outputs": [],
   "source": [
    "#Storing the dataset as a dictionary (might be useful later on)\n",
    "data_dict = []\n",
    "with open('data\\sfpd_incidents.csv','rb') as f:\n",
    "    reader = csv.DictReader(f)\n",
    "    for line in reader:\n",
    "        data_dict.append(line)"
   ]
  },
  {
   "cell_type": "code",
   "execution_count": 3,
   "metadata": {
    "collapsed": false
   },
   "outputs": [
    {
     "data": {
      "text/html": [
       "<div>\n",
       "<table border=\"1\" class=\"dataframe\">\n",
       "  <thead>\n",
       "    <tr style=\"text-align: right;\">\n",
       "      <th></th>\n",
       "      <th>Address</th>\n",
       "      <th>Category</th>\n",
       "      <th>Date</th>\n",
       "      <th>DayOfWeek</th>\n",
       "      <th>Descript</th>\n",
       "      <th>IncidntNum</th>\n",
       "      <th>Location</th>\n",
       "      <th>PdDistrict</th>\n",
       "      <th>PdId</th>\n",
       "      <th>Resolution</th>\n",
       "      <th>Time</th>\n",
       "      <th>X</th>\n",
       "      <th>Y</th>\n",
       "    </tr>\n",
       "  </thead>\n",
       "  <tbody>\n",
       "    <tr>\n",
       "      <th>0</th>\n",
       "      <td>18TH ST / VALENCIA ST</td>\n",
       "      <td>NON-CRIMINAL</td>\n",
       "      <td>01/19/2015</td>\n",
       "      <td>Monday</td>\n",
       "      <td>LOST PROPERTY</td>\n",
       "      <td>150060275</td>\n",
       "      <td>(37.7617007179518, -122.42158168137)</td>\n",
       "      <td>MISSION</td>\n",
       "      <td>15006027571000</td>\n",
       "      <td>NONE</td>\n",
       "      <td>14:00</td>\n",
       "      <td>-122.42158168137</td>\n",
       "      <td>37.7617007179518</td>\n",
       "    </tr>\n",
       "    <tr>\n",
       "      <th>1</th>\n",
       "      <td>300 Block of LEAVENWORTH ST</td>\n",
       "      <td>ROBBERY</td>\n",
       "      <td>02/01/2015</td>\n",
       "      <td>Sunday</td>\n",
       "      <td>ROBBERY, BODILY FORCE</td>\n",
       "      <td>150098210</td>\n",
       "      <td>(37.7841907151119, -122.414406029855)</td>\n",
       "      <td>TENDERLOIN</td>\n",
       "      <td>15009821003074</td>\n",
       "      <td>NONE</td>\n",
       "      <td>15:45</td>\n",
       "      <td>-122.414406029855</td>\n",
       "      <td>37.7841907151119</td>\n",
       "    </tr>\n",
       "    <tr>\n",
       "      <th>2</th>\n",
       "      <td>300 Block of LEAVENWORTH ST</td>\n",
       "      <td>ASSAULT</td>\n",
       "      <td>02/01/2015</td>\n",
       "      <td>Sunday</td>\n",
       "      <td>AGGRAVATED ASSAULT WITH BODILY FORCE</td>\n",
       "      <td>150098210</td>\n",
       "      <td>(37.7841907151119, -122.414406029855)</td>\n",
       "      <td>TENDERLOIN</td>\n",
       "      <td>15009821004014</td>\n",
       "      <td>NONE</td>\n",
       "      <td>15:45</td>\n",
       "      <td>-122.414406029855</td>\n",
       "      <td>37.7841907151119</td>\n",
       "    </tr>\n",
       "    <tr>\n",
       "      <th>3</th>\n",
       "      <td>300 Block of LEAVENWORTH ST</td>\n",
       "      <td>SECONDARY CODES</td>\n",
       "      <td>02/01/2015</td>\n",
       "      <td>Sunday</td>\n",
       "      <td>DOMESTIC VIOLENCE</td>\n",
       "      <td>150098210</td>\n",
       "      <td>(37.7841907151119, -122.414406029855)</td>\n",
       "      <td>TENDERLOIN</td>\n",
       "      <td>15009821015200</td>\n",
       "      <td>NONE</td>\n",
       "      <td>15:45</td>\n",
       "      <td>-122.414406029855</td>\n",
       "      <td>37.7841907151119</td>\n",
       "    </tr>\n",
       "    <tr>\n",
       "      <th>4</th>\n",
       "      <td>LOMBARD ST / LAGUNA ST</td>\n",
       "      <td>VANDALISM</td>\n",
       "      <td>01/27/2015</td>\n",
       "      <td>Tuesday</td>\n",
       "      <td>MALICIOUS MISCHIEF, VANDALISM OF VEHICLES</td>\n",
       "      <td>150098226</td>\n",
       "      <td>(37.8004687042875, -122.431118543788)</td>\n",
       "      <td>NORTHERN</td>\n",
       "      <td>15009822628160</td>\n",
       "      <td>NONE</td>\n",
       "      <td>19:00</td>\n",
       "      <td>-122.431118543788</td>\n",
       "      <td>37.8004687042875</td>\n",
       "    </tr>\n",
       "  </tbody>\n",
       "</table>\n",
       "</div>"
      ],
      "text/plain": [
       "                       Address         Category        Date DayOfWeek  \\\n",
       "0        18TH ST / VALENCIA ST     NON-CRIMINAL  01/19/2015    Monday   \n",
       "1  300 Block of LEAVENWORTH ST          ROBBERY  02/01/2015    Sunday   \n",
       "2  300 Block of LEAVENWORTH ST          ASSAULT  02/01/2015    Sunday   \n",
       "3  300 Block of LEAVENWORTH ST  SECONDARY CODES  02/01/2015    Sunday   \n",
       "4       LOMBARD ST / LAGUNA ST        VANDALISM  01/27/2015   Tuesday   \n",
       "\n",
       "                                    Descript IncidntNum  \\\n",
       "0                              LOST PROPERTY  150060275   \n",
       "1                      ROBBERY, BODILY FORCE  150098210   \n",
       "2       AGGRAVATED ASSAULT WITH BODILY FORCE  150098210   \n",
       "3                          DOMESTIC VIOLENCE  150098210   \n",
       "4  MALICIOUS MISCHIEF, VANDALISM OF VEHICLES  150098226   \n",
       "\n",
       "                                Location  PdDistrict            PdId  \\\n",
       "0   (37.7617007179518, -122.42158168137)     MISSION  15006027571000   \n",
       "1  (37.7841907151119, -122.414406029855)  TENDERLOIN  15009821003074   \n",
       "2  (37.7841907151119, -122.414406029855)  TENDERLOIN  15009821004014   \n",
       "3  (37.7841907151119, -122.414406029855)  TENDERLOIN  15009821015200   \n",
       "4  (37.8004687042875, -122.431118543788)    NORTHERN  15009822628160   \n",
       "\n",
       "  Resolution   Time                  X                 Y  \n",
       "0       NONE  14:00   -122.42158168137  37.7617007179518  \n",
       "1       NONE  15:45  -122.414406029855  37.7841907151119  \n",
       "2       NONE  15:45  -122.414406029855  37.7841907151119  \n",
       "3       NONE  15:45  -122.414406029855  37.7841907151119  \n",
       "4       NONE  19:00  -122.431118543788  37.8004687042875  "
      ]
     },
     "execution_count": 3,
     "metadata": {},
     "output_type": "execute_result"
    }
   ],
   "source": [
    "#Storing the dataset as a Pandas DataFrame\n",
    "#Easily create DataFrame from list of dictionaries\n",
    "data_dataframe = DataFrame(data_dict)\n",
    "data_dataframe.head(5)"
   ]
  },
  {
   "cell_type": "markdown",
   "metadata": {},
   "source": [
    "> *The file has may column, and today we'll be working with:*\n",
    "* The various categories of crimes -> Attribute **Category**\n",
    "* Crime over the years -> Attribute **Date**\n",
    "* What time of day do crimes occur? -> Attribute **Time**\n",
    "* And do certain crime-types tend to happen in specific neighborhoods? -> Attribute **Location**\n",
    "\n",
    "> *We'll play around with geo-data.*\n",
    "\n",
    "> * What is the total number of incidents in the CSV file?"
   ]
  },
  {
   "cell_type": "markdown",
   "metadata": {},
   "source": [
    "In order to get the total number of incidents it's easy to count the different values of `IncidntNum` (it would be probably the same to just count the total number of rows, if `IncidntNum` is a primary key):"
   ]
  },
  {
   "cell_type": "code",
   "execution_count": 4,
   "metadata": {
    "collapsed": false
   },
   "outputs": [
    {
     "name": "stdout",
     "output_type": "stream",
     "text": [
      "Total number of incidents: 2023865\n"
     ]
    }
   ],
   "source": [
    "total_rows = data_dataframe.count()\n",
    "print 'Total number of incidents:',total_rows['IncidntNum']"
   ]
  },
  {
   "cell_type": "markdown",
   "metadata": {},
   "source": [
    "# Part 2: Working with data"
   ]
  },
  {
   "cell_type": "markdown",
   "metadata": {},
   "source": [
    "> *The types of crime and their popularity over time. The first field we'll dig into is the column \"Category\".*\n",
    "* Create a set() of all the categories of crime in the dataset. How many are there?"
   ]
  },
  {
   "cell_type": "code",
   "execution_count": 38,
   "metadata": {
    "collapsed": false
   },
   "outputs": [
    {
     "name": "stdout",
     "output_type": "stream",
     "text": [
      "Total unique categories: 39\n"
     ]
    },
    {
     "data": {
      "text/plain": [
       "True"
      ]
     },
     "execution_count": 38,
     "metadata": {},
     "output_type": "execute_result"
    }
   ],
   "source": [
    "num_categories = data_dataframe.Category.nunique()\n",
    "print 'Total unique categories:',num_categories\n",
    "all_categories = set()\n",
    "for data in data_dict:\n",
    "    all_categories.add(data['Category'])\n",
    "\n",
    "#Just a check\n",
    "len(all_categories) == num_categories"
   ]
  },
  {
   "cell_type": "markdown",
   "metadata": {},
   "source": [
    "> * Now count the number of occurrences of each category in the dataset. What is the most commonly occurring category of crime? What is the least frequently occurring?\n",
    "\n",
    "Now counting the occurrencies of each category in the dataset: achieved through a simple group by."
   ]
  },
  {
   "cell_type": "code",
   "execution_count": 46,
   "metadata": {
    "collapsed": false
   },
   "outputs": [
    {
     "data": {
      "text/html": [
       "<div>\n",
       "<table border=\"1\" class=\"dataframe\">\n",
       "  <thead>\n",
       "    <tr style=\"text-align: right;\">\n",
       "      <th></th>\n",
       "      <th>Category</th>\n",
       "      <th>Count</th>\n",
       "    </tr>\n",
       "  </thead>\n",
       "  <tbody>\n",
       "    <tr>\n",
       "      <th>33</th>\n",
       "      <td>TREA</td>\n",
       "      <td>13</td>\n",
       "    </tr>\n",
       "    <tr>\n",
       "      <th>22</th>\n",
       "      <td>PORNOGRAPHY/OBSCENE MAT</td>\n",
       "      <td>50</td>\n",
       "    </tr>\n",
       "    <tr>\n",
       "      <th>14</th>\n",
       "      <td>GAMBLING</td>\n",
       "      <td>326</td>\n",
       "    </tr>\n",
       "    <tr>\n",
       "      <th>29</th>\n",
       "      <td>SEX OFFENSES, NON FORCIBLE</td>\n",
       "      <td>376</td>\n",
       "    </tr>\n",
       "    <tr>\n",
       "      <th>10</th>\n",
       "      <td>EXTORTION</td>\n",
       "      <td>669</td>\n",
       "    </tr>\n",
       "    <tr>\n",
       "      <th>3</th>\n",
       "      <td>BRIBERY</td>\n",
       "      <td>732</td>\n",
       "    </tr>\n",
       "    <tr>\n",
       "      <th>2</th>\n",
       "      <td>BAD CHECKS</td>\n",
       "      <td>891</td>\n",
       "    </tr>\n",
       "    <tr>\n",
       "      <th>11</th>\n",
       "      <td>FAMILY OFFENSES</td>\n",
       "      <td>1128</td>\n",
       "    </tr>\n",
       "    <tr>\n",
       "      <th>31</th>\n",
       "      <td>SUICIDE</td>\n",
       "      <td>1197</td>\n",
       "    </tr>\n",
       "    <tr>\n",
       "      <th>18</th>\n",
       "      <td>LOITERING</td>\n",
       "      <td>2382</td>\n",
       "    </tr>\n",
       "    <tr>\n",
       "      <th>9</th>\n",
       "      <td>EMBEZZLEMENT</td>\n",
       "      <td>2748</td>\n",
       "    </tr>\n",
       "    <tr>\n",
       "      <th>0</th>\n",
       "      <td>ARSON</td>\n",
       "      <td>3524</td>\n",
       "    </tr>\n",
       "    <tr>\n",
       "      <th>17</th>\n",
       "      <td>LIQUOR LAWS</td>\n",
       "      <td>3996</td>\n",
       "    </tr>\n",
       "    <tr>\n",
       "      <th>26</th>\n",
       "      <td>RUNAWAY</td>\n",
       "      <td>4113</td>\n",
       "    </tr>\n",
       "    <tr>\n",
       "      <th>15</th>\n",
       "      <td>KIDNAPPING</td>\n",
       "      <td>5076</td>\n",
       "    </tr>\n",
       "    <tr>\n",
       "      <th>6</th>\n",
       "      <td>DRIVING UNDER THE INFLUENCE</td>\n",
       "      <td>5302</td>\n",
       "    </tr>\n",
       "    <tr>\n",
       "      <th>24</th>\n",
       "      <td>RECOVERED VEHICLE</td>\n",
       "      <td>8052</td>\n",
       "    </tr>\n",
       "    <tr>\n",
       "      <th>8</th>\n",
       "      <td>DRUNKENNESS</td>\n",
       "      <td>9432</td>\n",
       "    </tr>\n",
       "    <tr>\n",
       "      <th>5</th>\n",
       "      <td>DISORDERLY CONDUCT</td>\n",
       "      <td>9573</td>\n",
       "    </tr>\n",
       "    <tr>\n",
       "      <th>28</th>\n",
       "      <td>SEX OFFENSES, FORCIBLE</td>\n",
       "      <td>10399</td>\n",
       "    </tr>\n",
       "    <tr>\n",
       "      <th>30</th>\n",
       "      <td>STOLEN PROPERTY</td>\n",
       "      <td>10890</td>\n",
       "    </tr>\n",
       "    <tr>\n",
       "      <th>23</th>\n",
       "      <td>PROSTITUTION</td>\n",
       "      <td>16163</td>\n",
       "    </tr>\n",
       "    <tr>\n",
       "      <th>34</th>\n",
       "      <td>TRESPASS</td>\n",
       "      <td>17468</td>\n",
       "    </tr>\n",
       "    <tr>\n",
       "      <th>38</th>\n",
       "      <td>WEAPON LAWS</td>\n",
       "      <td>20065</td>\n",
       "    </tr>\n",
       "    <tr>\n",
       "      <th>12</th>\n",
       "      <td>FORGERY/COUNTERFEITING</td>\n",
       "      <td>22353</td>\n",
       "    </tr>\n",
       "    <tr>\n",
       "      <th>27</th>\n",
       "      <td>SECONDARY CODES</td>\n",
       "      <td>23259</td>\n",
       "    </tr>\n",
       "    <tr>\n",
       "      <th>13</th>\n",
       "      <td>FRAUD</td>\n",
       "      <td>38306</td>\n",
       "    </tr>\n",
       "    <tr>\n",
       "      <th>25</th>\n",
       "      <td>ROBBERY</td>\n",
       "      <td>51672</td>\n",
       "    </tr>\n",
       "    <tr>\n",
       "      <th>19</th>\n",
       "      <td>MISSING PERSON</td>\n",
       "      <td>59458</td>\n",
       "    </tr>\n",
       "    <tr>\n",
       "      <th>32</th>\n",
       "      <td>SUSPICIOUS OCC</td>\n",
       "      <td>72996</td>\n",
       "    </tr>\n",
       "    <tr>\n",
       "      <th>4</th>\n",
       "      <td>BURGLARY</td>\n",
       "      <td>84017</td>\n",
       "    </tr>\n",
       "    <tr>\n",
       "      <th>37</th>\n",
       "      <td>WARRANTS</td>\n",
       "      <td>94956</td>\n",
       "    </tr>\n",
       "    <tr>\n",
       "      <th>35</th>\n",
       "      <td>VANDALISM</td>\n",
       "      <td>104251</td>\n",
       "    </tr>\n",
       "    <tr>\n",
       "      <th>7</th>\n",
       "      <td>DRUG/NARCOTIC</td>\n",
       "      <td>115131</td>\n",
       "    </tr>\n",
       "    <tr>\n",
       "      <th>36</th>\n",
       "      <td>VEHICLE THEFT</td>\n",
       "      <td>119824</td>\n",
       "    </tr>\n",
       "    <tr>\n",
       "      <th>1</th>\n",
       "      <td>ASSAULT</td>\n",
       "      <td>177407</td>\n",
       "    </tr>\n",
       "    <tr>\n",
       "      <th>20</th>\n",
       "      <td>NON-CRIMINAL</td>\n",
       "      <td>216773</td>\n",
       "    </tr>\n",
       "    <tr>\n",
       "      <th>21</th>\n",
       "      <td>OTHER OFFENSES</td>\n",
       "      <td>286727</td>\n",
       "    </tr>\n",
       "    <tr>\n",
       "      <th>16</th>\n",
       "      <td>LARCENY/THEFT</td>\n",
       "      <td>422170</td>\n",
       "    </tr>\n",
       "  </tbody>\n",
       "</table>\n",
       "</div>"
      ],
      "text/plain": [
       "                       Category   Count\n",
       "33                         TREA      13\n",
       "22      PORNOGRAPHY/OBSCENE MAT      50\n",
       "14                     GAMBLING     326\n",
       "29   SEX OFFENSES, NON FORCIBLE     376\n",
       "10                    EXTORTION     669\n",
       "3                       BRIBERY     732\n",
       "2                    BAD CHECKS     891\n",
       "11              FAMILY OFFENSES    1128\n",
       "31                      SUICIDE    1197\n",
       "18                    LOITERING    2382\n",
       "9                  EMBEZZLEMENT    2748\n",
       "0                         ARSON    3524\n",
       "17                  LIQUOR LAWS    3996\n",
       "26                      RUNAWAY    4113\n",
       "15                   KIDNAPPING    5076\n",
       "6   DRIVING UNDER THE INFLUENCE    5302\n",
       "24            RECOVERED VEHICLE    8052\n",
       "8                   DRUNKENNESS    9432\n",
       "5            DISORDERLY CONDUCT    9573\n",
       "28       SEX OFFENSES, FORCIBLE   10399\n",
       "30              STOLEN PROPERTY   10890\n",
       "23                 PROSTITUTION   16163\n",
       "34                     TRESPASS   17468\n",
       "38                  WEAPON LAWS   20065\n",
       "12       FORGERY/COUNTERFEITING   22353\n",
       "27              SECONDARY CODES   23259\n",
       "13                        FRAUD   38306\n",
       "25                      ROBBERY   51672\n",
       "19               MISSING PERSON   59458\n",
       "32               SUSPICIOUS OCC   72996\n",
       "4                      BURGLARY   84017\n",
       "37                     WARRANTS   94956\n",
       "35                    VANDALISM  104251\n",
       "7                 DRUG/NARCOTIC  115131\n",
       "36                VEHICLE THEFT  119824\n",
       "1                       ASSAULT  177407\n",
       "20                 NON-CRIMINAL  216773\n",
       "21               OTHER OFFENSES  286727\n",
       "16                LARCENY/THEFT  422170"
      ]
     },
     "execution_count": 46,
     "metadata": {},
     "output_type": "execute_result"
    }
   ],
   "source": [
    "categories = data_dataframe.groupby('Category')['Category'].count().reset_index(name=\"Count\")\n",
    "categories = categories.sort_values(by='Count',ascending=True) #Getting sorted values\n",
    "categories"
   ]
  },
  {
   "cell_type": "code",
   "execution_count": 47,
   "metadata": {
    "collapsed": false
   },
   "outputs": [
    {
     "name": "stdout",
     "output_type": "stream",
     "text": [
      "Least occurring category:\n"
     ]
    },
    {
     "data": {
      "text/html": [
       "<div>\n",
       "<table border=\"1\" class=\"dataframe\">\n",
       "  <thead>\n",
       "    <tr style=\"text-align: right;\">\n",
       "      <th></th>\n",
       "      <th>Category</th>\n",
       "      <th>Count</th>\n",
       "    </tr>\n",
       "  </thead>\n",
       "  <tbody>\n",
       "    <tr>\n",
       "      <th>33</th>\n",
       "      <td>TREA</td>\n",
       "      <td>13</td>\n",
       "    </tr>\n",
       "  </tbody>\n",
       "</table>\n",
       "</div>"
      ],
      "text/plain": [
       "   Category  Count\n",
       "33     TREA     13"
      ]
     },
     "execution_count": 47,
     "metadata": {},
     "output_type": "execute_result"
    }
   ],
   "source": [
    "print 'Least occurring category:'\n",
    "categories.head(1)"
   ]
  },
  {
   "cell_type": "code",
   "execution_count": 48,
   "metadata": {
    "collapsed": false
   },
   "outputs": [
    {
     "name": "stdout",
     "output_type": "stream",
     "text": [
      "Most occurring category:\n"
     ]
    },
    {
     "data": {
      "text/html": [
       "<div>\n",
       "<table border=\"1\" class=\"dataframe\">\n",
       "  <thead>\n",
       "    <tr style=\"text-align: right;\">\n",
       "      <th></th>\n",
       "      <th>Category</th>\n",
       "      <th>Count</th>\n",
       "    </tr>\n",
       "  </thead>\n",
       "  <tbody>\n",
       "    <tr>\n",
       "      <th>16</th>\n",
       "      <td>LARCENY/THEFT</td>\n",
       "      <td>422170</td>\n",
       "    </tr>\n",
       "  </tbody>\n",
       "</table>\n",
       "</div>"
      ],
      "text/plain": [
       "         Category   Count\n",
       "16  LARCENY/THEFT  422170"
      ]
     },
     "execution_count": 48,
     "metadata": {},
     "output_type": "execute_result"
    }
   ],
   "source": [
    "print 'Most occurring category:'\n",
    "categories.tail(1)"
   ]
  },
  {
   "cell_type": "markdown",
   "metadata": {},
   "source": [
    "> * Create a histogram over crime occurrences."
   ]
  },
  {
   "cell_type": "code",
   "execution_count": 74,
   "metadata": {
    "collapsed": false
   },
   "outputs": [
    {
     "data": {
      "image/png": "[encoded data removed]",
      "text/plain": [
       "<matplotlib.figure.Figure at 0xf17bb7b8>"
      ]
     },
     "metadata": {},
     "output_type": "display_data"
    }
   ],
   "source": [
    "categories_names = list(categories['Category']) # X-ticks labels\n",
    "y = list(categories['Count']) #Y-values\n",
    "x = np.arange(len(categories_names)) #X-values\n",
    "\n",
    "plt.figure(figsize=(16,12))\n",
    "plt.bar(x,y,alpha=.5,color='green',align='center')\n",
    "plt.xticks(x,categories_names,rotation='vertical')\n",
    "plt.title(\"Histogram of Categories of Crime\")\n",
    "plt.xlabel('Categories')\n",
    "plt.ylabel(\"Frequency\")\n",
    "plt.show()"
   ]
  },
  {
   "cell_type": "markdown",
   "metadata": {},
   "source": [
    "> *Now it's time to explore how the crime statistics change over time. To start off easily, let's count the number of crimes per year for the years 2003-2016 (the full years in the database). What's the average number of crimes per year?*\n",
    "\n",
    "The basic idea to group by year is to create a new column in the dataset called `Year` and group by this one. In order to do so, it's easy to apply a lambda function (`getYear()`) to extract the year from the already existing `Date` column:"
   ]
  },
  {
   "cell_type": "code",
   "execution_count": 97,
   "metadata": {
    "collapsed": false
   },
   "outputs": [],
   "source": [
    "def getYear(date):\n",
    "    return date.split('/')[2]\n",
    "\n",
    "#Adding new column in the dataframe\n",
    "data_dataframe['Year'] = data_dataframe['Date'].apply(lambda x: getYear(x))\n",
    "\n",
    "#New dataframe with occurrencies of crimes per year\n",
    "crimes_per_date = data_dataframe.groupby('Year')['Year'].count().reset_index(name='Count')"
   ]
  },
  {
   "cell_type": "code",
   "execution_count": 98,
   "metadata": {
    "collapsed": false
   },
   "outputs": [
    {
     "data": {
      "text/html": [
       "<div>\n",
       "<table border=\"1\" class=\"dataframe\">\n",
       "  <thead>\n",
       "    <tr style=\"text-align: right;\">\n",
       "      <th></th>\n",
       "      <th>Year</th>\n",
       "      <th>Count</th>\n",
       "    </tr>\n",
       "  </thead>\n",
       "  <tbody>\n",
       "    <tr>\n",
       "      <th>0</th>\n",
       "      <td>2003</td>\n",
       "      <td>149176</td>\n",
       "    </tr>\n",
       "    <tr>\n",
       "      <th>1</th>\n",
       "      <td>2004</td>\n",
       "      <td>148148</td>\n",
       "    </tr>\n",
       "    <tr>\n",
       "      <th>2</th>\n",
       "      <td>2005</td>\n",
       "      <td>142186</td>\n",
       "    </tr>\n",
       "    <tr>\n",
       "      <th>3</th>\n",
       "      <td>2006</td>\n",
       "      <td>137853</td>\n",
       "    </tr>\n",
       "    <tr>\n",
       "      <th>4</th>\n",
       "      <td>2007</td>\n",
       "      <td>137639</td>\n",
       "    </tr>\n",
       "    <tr>\n",
       "      <th>5</th>\n",
       "      <td>2008</td>\n",
       "      <td>141311</td>\n",
       "    </tr>\n",
       "    <tr>\n",
       "      <th>6</th>\n",
       "      <td>2009</td>\n",
       "      <td>139860</td>\n",
       "    </tr>\n",
       "    <tr>\n",
       "      <th>7</th>\n",
       "      <td>2010</td>\n",
       "      <td>133523</td>\n",
       "    </tr>\n",
       "    <tr>\n",
       "      <th>8</th>\n",
       "      <td>2011</td>\n",
       "      <td>132697</td>\n",
       "    </tr>\n",
       "    <tr>\n",
       "      <th>9</th>\n",
       "      <td>2012</td>\n",
       "      <td>140854</td>\n",
       "    </tr>\n",
       "    <tr>\n",
       "      <th>10</th>\n",
       "      <td>2013</td>\n",
       "      <td>152806</td>\n",
       "    </tr>\n",
       "    <tr>\n",
       "      <th>11</th>\n",
       "      <td>2014</td>\n",
       "      <td>150131</td>\n",
       "    </tr>\n",
       "    <tr>\n",
       "      <th>12</th>\n",
       "      <td>2015</td>\n",
       "      <td>156543</td>\n",
       "    </tr>\n",
       "    <tr>\n",
       "      <th>13</th>\n",
       "      <td>2016</td>\n",
       "      <td>149502</td>\n",
       "    </tr>\n",
       "    <tr>\n",
       "      <th>14</th>\n",
       "      <td>2017</td>\n",
       "      <td>11636</td>\n",
       "    </tr>\n",
       "  </tbody>\n",
       "</table>\n",
       "</div>"
      ],
      "text/plain": [
       "    Year   Count\n",
       "0   2003  149176\n",
       "1   2004  148148\n",
       "2   2005  142186\n",
       "3   2006  137853\n",
       "4   2007  137639\n",
       "5   2008  141311\n",
       "6   2009  139860\n",
       "7   2010  133523\n",
       "8   2011  132697\n",
       "9   2012  140854\n",
       "10  2013  152806\n",
       "11  2014  150131\n",
       "12  2015  156543\n",
       "13  2016  149502\n",
       "14  2017   11636"
      ]
     },
     "execution_count": 98,
     "metadata": {},
     "output_type": "execute_result"
    }
   ],
   "source": [
    "crimes_per_date"
   ]
  },
  {
   "cell_type": "code",
   "execution_count": null,
   "metadata": {
    "collapsed": true
   },
   "outputs": [],
   "source": []
  }
 ],
 "metadata": {
  "kernelspec": {
   "display_name": "Python [Root]",
   "language": "python",
   "name": "Python [Root]"
  },
  "language_info": {
   "codemirror_mode": {
    "name": "ipython",
    "version": 2
   },
   "file_extension": ".py",
   "mimetype": "text/x-python",
   "name": "python",
   "nbconvert_exporter": "python",
   "pygments_lexer": "ipython2",
   "version": "2.7.12"
  }
 },
 "nbformat": 4,
 "nbformat_minor": 0
}
